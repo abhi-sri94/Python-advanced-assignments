{
  "nbformat": 4,
  "nbformat_minor": 0,
  "metadata": {
    "colab": {
      "provenance": [],
      "toc_visible": true
    },
    "kernelspec": {
      "name": "python3",
      "display_name": "Python 3"
    },
    "language_info": {
      "name": "python"
    }
  },
  "cells": [
    {
      "cell_type": "markdown",
      "source": [
        "#Question 1\n",
        "\n",
        "What is the concept of an abstract superclass?\n",
        "\n",
        "..............\n",
        "\n",
        "Answer 1 -\n",
        "\n",
        "An abstract superclass is a class that is designed to serve as a blueprint for other classes but is not meant to be instantiated directly. Instead, its main purpose is to define a common interface, attributes, and methods that its subclasses are expected to implement or override. Abstract superclasses provide a way to enforce a certain structure and behavior across multiple related classes.\n",
        "\n",
        "The concept of an abstract superclass is closely tied to the concept of abstraction in object-oriented programming. Abstraction involves defining the essential characteristics of an object while hiding the unnecessary details. Abstract superclasses help create a higher level of abstraction by defining common features and behaviors that multiple subclasses should adhere to.\n",
        "\n",
        "Key points about abstract superclasses include:\n",
        "\n",
        "1) **Cannot be Instantiated** : An abstract superclass is defined using the abc module's ABC class as a base class. It includes one or more abstract methods—methods without an implementation. Because abstract methods lack a concrete implementation, the abstract superclass cannot be instantiated directly.\n",
        "\n",
        "2) **Defines a Contract** : The abstract superclass defines a contract that its subclasses must follow. This contract includes the names of methods that must be implemented by the subclasses.\n",
        "\n",
        "3) **Subclass Implementation** : Subclasses of an abstract superclass must provide concrete implementations for all the abstract methods defined by the superclass. This enforces a consistent behavior across all subclasses.\n",
        "\n",
        "4) **Polymorphism** : The use of an abstract superclass allows different subclasses to be treated uniformly, promoting polymorphism. Code that interacts with objects of the abstract superclass type can be reused with any subclass.\n",
        "\n",
        "Here's a simple example of an abstract superclass and its subclasses:"
      ],
      "metadata": {
        "id": "0XKao6FCiGRT"
      }
    },
    {
      "cell_type": "code",
      "source": [
        "from abc import ABC, abstractmethod\n",
        "\n",
        "class Shape(ABC):\n",
        "    @abstractmethod\n",
        "    def area(self):\n",
        "        pass\n",
        "\n",
        "class Circle(Shape):\n",
        "    def __init__(self, radius):\n",
        "        self.radius = radius\n",
        "\n",
        "    def area(self):\n",
        "        return 3.14159 * self.radius ** 2\n",
        "\n",
        "class Square(Shape):\n",
        "    def __init__(self, side):\n",
        "        self.side = side\n",
        "\n",
        "    def area(self):\n",
        "        return self.side ** 2\n",
        "\n",
        "circle = Circle(5)\n",
        "square = Square(4)\n",
        "\n",
        "print(circle.area())\n",
        "print(square.area())"
      ],
      "metadata": {
        "colab": {
          "base_uri": "https://localhost:8080/"
        },
        "id": "e2Xaj4LPiqbC",
        "outputId": "0020c805-c6db-4d8f-de5a-ce1e0affa1a7"
      },
      "execution_count": 1,
      "outputs": [
        {
          "output_type": "stream",
          "name": "stdout",
          "text": [
            "78.53975\n",
            "16\n"
          ]
        }
      ]
    },
    {
      "cell_type": "markdown",
      "source": [
        "In this example, `Shape` is an abstract superclass that defines an abstract method **area()** . The `Circle` and `Square` subclasses inherit from `Shape` and provide concrete implementations for the area() method. While you cannot create instances of Shape, you can create instances of its subclasses and call the area() method on them.\n",
        "\n"
      ],
      "metadata": {
        "id": "F96oMJTNi3co"
      }
    },
    {
      "cell_type": "markdown",
      "source": [
        "#Question 2\n",
        "\n",
        "What happens when a class statement's top level contains a basic assignment statement?\n",
        "\n",
        "...............\n",
        "\n",
        "Answer 2 -\n",
        "\n",
        "When a class statement's top level contains a basic assignment statement, it creates a class attribute that is shared among all instances of the class. This class attribute is associated with the class itself, rather than with individual instances.\n",
        "\n",
        "Here's how it works:\n",
        "\n",
        "1) **Defining a Class with Assignment Statement** :\n",
        "When you define a class using the class keyword, you can include assignment statements at the class's top level. These assignment statements create class attributes.\n",
        "\n",
        "2) **Class Attributes** :\n",
        "Class attributes are attributes that are shared among all instances of the class. They have the same value for every instance. You can access and modify these attributes using the class name or through instances using dot notation.\n",
        "\n",
        "3) **Accessing Class Attributes** :\n",
        "Class attributes can be accessed using the class name or instances of the class. When you access a class attribute through an instance, Python first checks whether the instance has its own instance attribute with the same name. If not, it looks for the class attribute.\n",
        "\n",
        "Here's an example to illustrate the concept:"
      ],
      "metadata": {
        "id": "YHfyzALyjY51"
      }
    },
    {
      "cell_type": "code",
      "source": [
        "class MyClass:\n",
        "    class_attribute = \"This is a class attribute\"  # Class attribute created using an assignment statement\n",
        "\n",
        "    def __init__(self, instance_attribute):\n",
        "        self.instance_attribute = instance_attribute  # Instance attribute created within the constructor\n",
        "\n",
        "# Creating instances\n",
        "instance1 = MyClass(\"Value 1\")\n",
        "instance2 = MyClass(\"Value 2\")\n",
        "\n",
        "# Accessing class attributes\n",
        "print(MyClass.class_attribute)\n",
        "print(instance1.class_attribute)\n",
        "print(instance2.class_attribute)\n",
        "\n",
        "# Modifying class attributes\n",
        "MyClass.class_attribute = \"Updated class attribute\"\n",
        "print(instance1.class_attribute)\n",
        "print(instance2.class_attribute)"
      ],
      "metadata": {
        "colab": {
          "base_uri": "https://localhost:8080/"
        },
        "id": "-Se3xnQ5it_Q",
        "outputId": "1c730a8f-da98-419c-bece-b70f1aed1064"
      },
      "execution_count": 2,
      "outputs": [
        {
          "output_type": "stream",
          "name": "stdout",
          "text": [
            "This is a class attribute\n",
            "This is a class attribute\n",
            "This is a class attribute\n",
            "Updated class attribute\n",
            "Updated class attribute\n"
          ]
        }
      ]
    },
    {
      "cell_type": "markdown",
      "source": [
        "In this example, the `class_attribute` is a class attribute created using an assignment statement. It is shared among all instances of the `MyClass` class. Modifying the class attribute affects all instances and the class itself."
      ],
      "metadata": {
        "id": "FJQ_6EH2kxes"
      }
    },
    {
      "cell_type": "markdown",
      "source": [
        "#Question 3\n",
        "\n",
        "Why does a class need to manually call a superclass's __init__ method?\n",
        "\n",
        ".............\n",
        "\n",
        "Answer 3 -\n",
        "\n",
        "In object-oriented programming, when you create a subclass that inherits from a superclass, you might need to manually call the superclass's __init__ method within the subclass's __init__ method. This is typically done using the **super()** function. The primary reasons for calling the superclass's __init__ method are:\n",
        "\n",
        "1) **Inheriting Attributes and Behavior** : By calling the superclass's __init__ method, you ensure that the subclass inherits the attributes and behavior defined in the superclass. This allows the subclass to take advantage of the existing initialization logic of the superclass.\n",
        "\n",
        "2) **Avoiding Code Duplication** : If the superclass's __init__ method contains initialization code that is relevant to the subclass as well, manually calling it helps avoid code duplication. Instead of copying the initialization code to the subclass, you can reuse it by calling the superclass's __init__.\n",
        "\n",
        "3) **Complete Initialization** : In some cases, the superclass's __init__ method might perform essential initialization tasks, such as setting up default values or configuring shared resources. By calling the superclass's __init__, you ensure that these tasks are completed correctly.\n",
        "\n",
        "Here's an example to illustrate why manually calling the superclass's **`__init__`** method is important:"
      ],
      "metadata": {
        "id": "ofxTdpTqk_U-"
      }
    },
    {
      "cell_type": "code",
      "source": [
        "class Animal:\n",
        "    def __init__(self, species):\n",
        "        self.species = species\n",
        "\n",
        "class Dog(Animal):\n",
        "    def __init__(self, name, breed):\n",
        "        super().__init__(\"Dog\")  # Manually calling superclass's __init__\n",
        "        self.name = name\n",
        "        self.breed = breed\n",
        "\n",
        "dog = Dog(\"Buddy\", \"Golden Retriever\")\n",
        "print(dog.species)\n",
        "print(dog.name)\n",
        "print(dog.breed)\n"
      ],
      "metadata": {
        "colab": {
          "base_uri": "https://localhost:8080/"
        },
        "id": "aW2TPvg9kMbT",
        "outputId": "f52ed4bc-735c-4353-f096-bbae9c1688d5"
      },
      "execution_count": 3,
      "outputs": [
        {
          "output_type": "stream",
          "name": "stdout",
          "text": [
            "Dog\n",
            "Buddy\n",
            "Golden Retriever\n"
          ]
        }
      ]
    },
    {
      "cell_type": "markdown",
      "source": [
        "In this example, the `Dog` class inherits from the `Animal` class. To ensure that the species attribute from the Animal class is initialized when creating a Dog instance, the **super().__init__(\"Dog\")** line is used to call the superclass's **`__init__`** method. This way, the Dog class retains the behavior and attributes of the `Animal` class while adding its own unique attributes."
      ],
      "metadata": {
        "id": "RfMTWmg8sJmR"
      }
    },
    {
      "cell_type": "markdown",
      "source": [
        "#Question 4\n",
        "\n",
        "How can you augment, instead of completely replacing, an inherited method?\n",
        "\n",
        "..............\n",
        "\n",
        "Answer 4 -\n",
        "\n",
        "To augment (`extend or modify`) an inherited method without completely replacing it, you can follow these steps in Python:\n",
        "\n",
        "1) **Call the Superclass Method** : Within the subclass's method, call the superclass's method using the **super()** function. This allows you to execute the superclass's behavior before or after adding your own modifications.\n",
        "\n",
        "2) **Modify or Extend** : After calling the superclass method, modify or extend the behavior according to your needs. You can add additional steps, calculations, or other operations to the method.\n",
        "\n",
        "Here's an example to illustrate how to augment an inherited method:"
      ],
      "metadata": {
        "id": "DJKZPDIeslfZ"
      }
    },
    {
      "cell_type": "code",
      "source": [
        "class Animal:\n",
        "    def make_sound(self):\n",
        "        print(\"Generic animal sound\")\n",
        "\n",
        "class Dog(Animal):\n",
        "    def make_sound(self):\n",
        "        super().make_sound()  # Call the superclass method\n",
        "        print(\"Bark, bark!\")  # Add augmentation\n",
        "\n",
        "dog = Dog()\n",
        "dog.make_sound()"
      ],
      "metadata": {
        "colab": {
          "base_uri": "https://localhost:8080/"
        },
        "id": "heHWNhvXr_HW",
        "outputId": "5d01296e-3dfa-4fb1-c61a-5d86ba1dc60c"
      },
      "execution_count": 4,
      "outputs": [
        {
          "output_type": "stream",
          "name": "stdout",
          "text": [
            "Generic animal sound\n",
            "Bark, bark!\n"
          ]
        }
      ]
    },
    {
      "cell_type": "markdown",
      "source": [
        "In this example, the `Animal` class defines a `make_sound` method that prints a generic animal sound. The Dog class inherits from Animal and overrides the `make_sound` method. However, instead of completely replacing the method, it calls the superclass's `make_sound` method using **super()** and then adds its own augmentation by printing `\"Bark, bark!\"` .\n",
        "\n",
        "By using super() to call the superclass's method and then adding your own behavior, you effectively extend the behavior of the inherited method without losing the original functionality.\n",
        "\n",
        "Remember that the order of execution can vary depending on where you place the **super().method()** call. Placing it before or after your own code will determine whether your modifications occur before or after the superclass behavior.\n",
        "\n"
      ],
      "metadata": {
        "id": "BPuil5x-tWYI"
      }
    },
    {
      "cell_type": "markdown",
      "source": [
        "#Question 5\n",
        "\n",
        "How is the local scope of a class different from that of a function?\n",
        "\n",
        "..............\n",
        "\n",
        "Answer 5 -\n",
        "\n",
        "The local scope of a class and the local scope of a function are distinct in terms of their purpose, behavior, and what they encompass. Here's how they differ:\n",
        "\n",
        "Local Scope of a Function:\n",
        "\n",
        "1) **Purpose** : The local scope of a function refers to the space within a function where variables are defined and can be accessed. It exists only when the function is called and is destroyed when the function completes its execution.\n",
        "\n",
        "2) **Variables** : Variables defined within the function are local to that function. They are not accessible outside the function's scope.\n",
        "\n",
        "3) **Lifetime** : The local variables in a function exist only as long as the function is executing. Once the function completes, these variables are deallocated, and their values are lost.\n",
        "\n",
        "4) **Access** : Local variables cannot be accessed from outside the function. They are limited in scope to the specific function in which they are defined.\n",
        "\n",
        "Local Scope of a Class:\n",
        "\n",
        "1) **Purpose** : The local scope of a class, also known as the class scope, refers to the space within a class where attributes (variables) and methods (functions) are defined. It defines the class members that can be accessed by its instances.\n",
        "\n",
        "2) **Attributes and Methods** : Attributes and methods defined within the class are accessible to instances of the class. They represent the behavior and data associated with instances of the class.\n",
        "\n",
        "3) **Lifetime** : The class scope exists as long as the class definition is active. It encompasses all instances of the class.\n",
        "\n",
        "4) **Access** : Attributes and methods defined within the class can be accessed using instances of the class. They are not limited to the scope of a specific instance but are shared by all instances."
      ],
      "metadata": {
        "id": "vpSETybyvGr7"
      }
    },
    {
      "cell_type": "markdown",
      "source": [],
      "metadata": {
        "id": "bkuSvKwkxcXl"
      }
    },
    {
      "cell_type": "code",
      "source": [],
      "metadata": {
        "id": "dEAK25J5xaKe"
      },
      "execution_count": null,
      "outputs": []
    }
  ]
}