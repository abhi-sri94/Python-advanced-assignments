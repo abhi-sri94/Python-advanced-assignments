{
  "nbformat": 4,
  "nbformat_minor": 0,
  "metadata": {
    "colab": {
      "provenance": [],
      "toc_visible": true
    },
    "kernelspec": {
      "name": "python3",
      "display_name": "Python 3"
    },
    "language_info": {
      "name": "python"
    }
  },
  "cells": [
    {
      "cell_type": "markdown",
      "source": [
        "#Question 1\n",
        "\n",
        "What are the two latest user-defined exception constraints in Python 3.X?\n",
        "\n",
        "..............\n",
        "\n",
        "Answer 1 -\n",
        "\n",
        "`raise` and `assert` are the two latest user-defined exception constraints in Python 3.X"
      ],
      "metadata": {
        "id": "Hw-lHXQEyQdx"
      }
    },
    {
      "cell_type": "markdown",
      "source": [
        "#Question 2\n",
        "\n",
        "How are class-based exceptions that have been raised matched to handlers?\n",
        "\n",
        ".............\n",
        "\n",
        "Answer 2 -\n",
        "\n",
        "In Python, when exceptions are raised, they are matched to exception handlers using the inheritance hierarchy of the exception classes. This means that if a specific exception class is not caught by a handler, Python will check for more general exception classes in the hierarchy.\n",
        "\n",
        "The process of matching class-based exceptions to handlers works as follows:\n",
        "\n",
        "1) When an exception is raised, Python searches for a suitable exception handler in the current scope and then in the surrounding scopes (outer blocks).\n",
        "\n",
        "2) If a handler with an exact match for the exception class is found, that handler is executed.\n",
        "\n",
        "3) If a handler with a more general exception class is found, Python will execute that handler if it has not found an exact match.\n",
        "\n",
        "4) If no suitable handler is found in the current scope or any outer scopes, the program will terminate, and the exception message and traceback will be displayed.\n",
        "\n",
        "Here's an example to illustrate the process:"
      ],
      "metadata": {
        "id": "Lh5wI49yecxa"
      }
    },
    {
      "cell_type": "code",
      "source": [
        "try:\n",
        "    x = 10 / 0\n",
        "except ZeroDivisionError:\n",
        "    print(\"Caught ZeroDivisionError\")\n",
        "except ArithmeticError:\n",
        "    print(\"Caught ArithmeticError\")\n",
        "except Exception:\n",
        "    print(\"Caught Exception\")"
      ],
      "metadata": {
        "colab": {
          "base_uri": "https://localhost:8080/"
        },
        "id": "cAod6F59cW_s",
        "outputId": "740cc4a1-7933-49aa-efa4-91b0c7c8579d"
      },
      "execution_count": 2,
      "outputs": [
        {
          "output_type": "stream",
          "name": "stdout",
          "text": [
            "Caught ZeroDivisionError\n"
          ]
        }
      ]
    },
    {
      "cell_type": "markdown",
      "source": [
        "#Question 3\n",
        "\n",
        "Describe two methods for attaching context information to exception artefacts.\n",
        "\n",
        "................\n",
        "\n",
        "Answer 3 -\n",
        "\n",
        "Attaching context information to exception artifacts in Python is important for providing additional details about the circumstances under which an exception occurred. This can be especially helpful for debugging and understanding the cause of the exception. Two common methods for attaching context information to exception artifacts are using custom exception classes and using the with_traceback() method.\n",
        "\n",
        "1) **Custom Exception Classes** :\n",
        "You can create custom exception classes that inherit from built-in exception classes (or other custom exceptions). These custom classes can have additional attributes or methods to hold context information that can be accessed when the exception is caught."
      ],
      "metadata": {
        "id": "qVTaDD6ye-21"
      }
    },
    {
      "cell_type": "code",
      "source": [
        "class CustomError(Exception):\n",
        "    def __init__(self, message, context_info):\n",
        "        super().__init__(message)\n",
        "        self.context_info = context_info\n",
        "\n",
        "try:\n",
        "    raise CustomError(\"Something went wrong\", {\"key\": \"value\"})\n",
        "except CustomError as e:\n",
        "    print(f\"Caught custom exception: {e}\")\n",
        "    print(f\"Context info: {e.context_info}\")"
      ],
      "metadata": {
        "colab": {
          "base_uri": "https://localhost:8080/"
        },
        "id": "CB8TJO4De3lq",
        "outputId": "a2f6c801-a437-40ad-ce0c-c32e49f09bc4"
      },
      "execution_count": 3,
      "outputs": [
        {
          "output_type": "stream",
          "name": "stdout",
          "text": [
            "Caught custom exception: Something went wrong\n",
            "Context info: {'key': 'value'}\n"
          ]
        }
      ]
    },
    {
      "cell_type": "markdown",
      "source": [
        "2) **Using with_traceback() Method** :\n",
        "When catching an exception, you can use the with_traceback() method to attach a traceback object to the exception. This traceback can carry additional context information about the exception's origin."
      ],
      "metadata": {
        "id": "ebulrCd5fnZQ"
      }
    },
    {
      "cell_type": "code",
      "source": [
        "try:\n",
        "    x = 10 / 0\n",
        "except ZeroDivisionError as e:\n",
        "    new_tb = e.__traceback__.with_traceback(e.__traceback__)\n",
        "    raise e.with_traceback(new_tb) from None"
      ],
      "metadata": {
        "id": "usV3yjpNfvOP"
      },
      "execution_count": null,
      "outputs": []
    },
    {
      "cell_type": "markdown",
      "source": [
        "#Question 4\n",
        "\n",
        "Describe two methods for specifying the text of an exception object's error message.\n",
        "\n",
        "..............\n",
        "\n",
        "Answer 4 -\n",
        "\n",
        "When raising an exception in Python, you can specify the text of the exception object's error message using two common methods: by passing a string argument to the exception constructor or by using the args attribute.\n",
        "\n",
        "1) **Passing a String Argument to the Constructor** :\n",
        "When raising a built-in or custom exception, you can pass a string argument to the constructor to provide a custom error message. This message can contain details about the exception and the circumstances under which it occurred."
      ],
      "metadata": {
        "id": "-I0dasizf6Kt"
      }
    },
    {
      "cell_type": "code",
      "source": [
        "try:\n",
        "    num = \"abc\"\n",
        "    if not num.isdigit():\n",
        "        raise ValueError(\"Invalid number format: \" + num)\n",
        "except ValueError as e:\n",
        "    print(f\"Caught exception: {e}\")"
      ],
      "metadata": {
        "colab": {
          "base_uri": "https://localhost:8080/"
        },
        "id": "uh8JeTZTglnD",
        "outputId": "3c339b39-61b5-4af7-954b-c9780d478b14"
      },
      "execution_count": 5,
      "outputs": [
        {
          "output_type": "stream",
          "name": "stdout",
          "text": [
            "Caught exception: Invalid number format: abc\n"
          ]
        }
      ]
    },
    {
      "cell_type": "markdown",
      "source": [
        "In this example, a `ValueError` exception is raised with a custom error message that includes the value of `num` .\n",
        "\n",
        "2) **Using the args Attribute** :\n",
        "Exception objects in Python have an args attribute that holds a tuple of arguments used to construct the exception. By setting the args attribute directly, you can customize the error message."
      ],
      "metadata": {
        "id": "Q-0ThvOohAOg"
      }
    },
    {
      "cell_type": "code",
      "source": [
        "try:\n",
        "    value = -1\n",
        "    if value < 0:\n",
        "        exc = ValueError()\n",
        "        exc.args = (\"Negative value not allowed\",)\n",
        "        raise exc\n",
        "except ValueError as e:\n",
        "    print(f\"Caught exception: {e}\")"
      ],
      "metadata": {
        "colab": {
          "base_uri": "https://localhost:8080/"
        },
        "id": "dWhTI0TtgmJW",
        "outputId": "a49b04b1-8688-4663-cdff-5d8b2327850e"
      },
      "execution_count": 6,
      "outputs": [
        {
          "output_type": "stream",
          "name": "stdout",
          "text": [
            "Caught exception: Negative value not allowed\n"
          ]
        }
      ]
    },
    {
      "cell_type": "markdown",
      "source": [
        "In this example, a `ValueError` exception is created and the `args` attribute is set to a tuple containing the desired error message."
      ],
      "metadata": {
        "id": "ShsQATW5idrQ"
      }
    },
    {
      "cell_type": "markdown",
      "source": [
        "#Question 5\n",
        "\n",
        "Why do you no longer use string-based exceptions?\n",
        "\n",
        ".............\n",
        "\n",
        "Answer 5 -\n",
        "\n",
        "In older versions of Python (Python 2.x), string-based exceptions were used to raise and catch exceptions by passing error messages as strings. However, in Python 3.x, string-based exceptions have been deprecated and replaced by exception classes, which offer several advantages over the older approach. Here are some reasons why string-based exceptions are no longer used in Python:\n",
        "\n",
        "1) **Improved Organization and Extensibility** :\n",
        "Exception classes provide a more organized and extensible way to handle errors. By defining custom exception classes that inherit from the built-in Exception class or its subclasses, you can categorize and differentiate errors based on their types, making your code more structured and maintainable.\n",
        "\n",
        "2) **Precise Error Handling** :\n",
        "Exception classes allow you to catch specific types of exceptions using except blocks. This enables you to provide tailored error handling based on the type of error, leading to more precise error resolution and better debugging.\n",
        "\n",
        "3) **Clearer Code and Documentation** :\n",
        "Exception classes come with meaningful names that provide a clear indication of the error's nature. This makes your code more readable and helps others understand the purpose of exceptions without having to rely solely on error messages.\n",
        "\n",
        "4) **Consistency and Standardization** :\n",
        "Exception classes adhere to a standardized hierarchy, making it easier to recognize common exception types and their relationships. This consistency helps developers quickly understand the error-handling logic in various parts of the codebase.\n",
        "\n",
        "5) **Enhanced Tracebacks and Debugging** :\n",
        "Exception classes offer enhanced traceback information that includes details about the exception's type, location, and context. This information is invaluable for debugging and understanding the cause of errors.\n",
        "\n",
        "6) **Support for Custom Properties and Methods** :\n",
        "Exception classes can include custom properties and methods to provide additional context or functionality. This flexibility allows you to attach relevant information to exceptions for better error diagnosis.\n",
        "\n",
        "Here's an example of using exception classes in Python 3.x:"
      ],
      "metadata": {
        "id": "f4ergp7kill_"
      }
    },
    {
      "cell_type": "code",
      "source": [
        "class CustomError(Exception):\n",
        "    pass\n",
        "\n",
        "try:\n",
        "    raise CustomError(\"This is a custom exception\")\n",
        "except CustomError as e:\n",
        "    print(f\"Caught custom exception: {e}\")"
      ],
      "metadata": {
        "colab": {
          "base_uri": "https://localhost:8080/"
        },
        "id": "PK9mPcHFiW-U",
        "outputId": "ef0a7e8e-4255-4493-e6b0-cf018661a681"
      },
      "execution_count": 7,
      "outputs": [
        {
          "output_type": "stream",
          "name": "stdout",
          "text": [
            "Caught custom exception: This is a custom exception\n"
          ]
        }
      ]
    }
  ]
}