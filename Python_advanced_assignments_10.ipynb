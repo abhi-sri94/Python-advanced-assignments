{
  "nbformat": 4,
  "nbformat_minor": 0,
  "metadata": {
    "colab": {
      "provenance": [],
      "toc_visible": true
    },
    "kernelspec": {
      "name": "python3",
      "display_name": "Python 3"
    },
    "language_info": {
      "name": "python"
    }
  },
  "cells": [
    {
      "cell_type": "markdown",
      "source": [
        "#Question 1\n",
        "\n",
        "What is the difference between **`__getattr__`** and __getattribute__?\n",
        "\n",
        "..............\n",
        "\n",
        "Answer 1 -\n",
        "\n",
        "Both **`__getattr__`** and **`__getattribute__`** are special methods in Python that are used to customize attribute access for objects. However, they have different purposes and behaviors:\n",
        "\n",
        "1) **`__getattr__`** :\n",
        "\n",
        "- The **`__getattr__`** method is called when an attribute that doesn't exist is accessed. It is a fallback method that allows you to define behavior for attributes that are not present in the object's regular attributes.\n",
        "\n",
        "- This method takes two arguments: self (the instance of the object) and name (the name of the attribute being accessed).\n",
        "\n",
        "- If you define **`__getattr__`** and an attribute is not found in the object's regular attributes, Python will call this method to attempt to retrieve the attribute.\n",
        "\n",
        "- You can raise an `AttributeError` within **`__getattr__`** if the attribute is genuinely not found.\n",
        "\n",
        "Example:"
      ],
      "metadata": {
        "id": "KaniufKAm8gE"
      }
    },
    {
      "cell_type": "code",
      "execution_count": 3,
      "metadata": {
        "colab": {
          "base_uri": "https://localhost:8080/"
        },
        "id": "Es5HbQNtjuXc",
        "outputId": "cfc3893f-4924-4971-cd7c-3a9682f714c8"
      },
      "outputs": [
        {
          "output_type": "stream",
          "name": "stdout",
          "text": [
            "Accessing missing attribute: some_attribute\n",
            "None\n"
          ]
        }
      ],
      "source": [
        "class Example:\n",
        "    def __getattr__(self, name):\n",
        "        print(f\"Accessing missing attribute: {name}\")\n",
        "        return None\n",
        "\n",
        "obj = Example()\n",
        "print(obj.some_attribute)  # Calls __getattr__"
      ]
    },
    {
      "cell_type": "markdown",
      "source": [
        "2) **`__getattribute__`**:\n",
        "\n",
        "- The **`__getattribute__`** method is called for every attribute access, regardless of whether the attribute exists or not.\n",
        "\n",
        "- This method takes two arguments: self (the instance of the object) and name (the name of the attribute being accessed).\n",
        "\n",
        "- You need to be careful when implementing **`__getattribute__`** because calling other attributes within it can lead to infinite recursion if not handled properly.\n",
        "\n",
        "- If you want to customize all attribute access, you can override **`__getattribute__`**.\n",
        "Example:"
      ],
      "metadata": {
        "id": "1OKrvSqeoDTD"
      }
    },
    {
      "cell_type": "code",
      "source": [
        "class Example:\n",
        "    def __getattribute__(self, name):\n",
        "        print(f\"Accessing attribute: {name}\")\n",
        "        return super().__getattribute__(name)  # Call superclass's implementation\n",
        "\n",
        "obj = Example()\n",
        "print(obj.some_attribute)"
      ],
      "metadata": {
        "id": "Ye2YRV1k3FJN"
      },
      "execution_count": null,
      "outputs": []
    },
    {
      "cell_type": "markdown",
      "source": [
        "#Question 2\n",
        "\n",
        "What is the difference between properties and descriptors?\n",
        "\n",
        "..............\n",
        "\n",
        "Answer 2 -\n",
        "\n",
        "Both properties and descriptors are mechanisms in Python that allow you to control the access and modification of attributes in objects. However, they have different levels of flexibility and use cases:\n",
        "\n",
        "1) **Properties** :\n",
        "\n",
        "- Properties are a convenient way to define methods that are accessed like attributes. They are used to encapsulate attribute access and provide methods for getting, setting, and deleting values.\n",
        "\n",
        "- Properties are created using the @property decorator for the getter method and optional `@<propertyname>.setter` and `@<propertyname>.deleter` decorators for the setter and deleter methods, respectively.\n",
        "\n",
        "- Properties are typically used when you want to maintain a simple interface for attribute access while providing custom logic for attribute management.\n",
        "\n",
        "Example:"
      ],
      "metadata": {
        "id": "8lCuODSH3HbM"
      }
    },
    {
      "cell_type": "code",
      "source": [
        "class Circle:\n",
        "    def __init__(self, radius):\n",
        "        self._radius = radius\n",
        "\n",
        "    @property\n",
        "    def radius(self):\n",
        "        return self._radius\n",
        "\n",
        "    @radius.setter\n",
        "    def radius(self, value):\n",
        "        if value >= 0:\n",
        "            self._radius = value\n",
        "        else:\n",
        "            raise ValueError(\"Radius cannot be negative.\")\n",
        "\n",
        "circle = Circle(5)\n",
        "print(circle.radius)\n",
        "circle.radius = 10"
      ],
      "metadata": {
        "colab": {
          "base_uri": "https://localhost:8080/"
        },
        "id": "o6IfdpgA3U9N",
        "outputId": "87d0af64-75d7-438b-d379-7499d4709aa1"
      },
      "execution_count": 9,
      "outputs": [
        {
          "output_type": "stream",
          "name": "stdout",
          "text": [
            "5\n"
          ]
        }
      ]
    },
    {
      "cell_type": "markdown",
      "source": [
        "2) **Descriptors** :\n",
        "\n",
        "- Descriptors are more low-level and give you finer-grained control over attribute access. They are defined as classes that implement methods like **`__get__`** , **`__set__`** , and **`__delete__`**.\n",
        "\n",
        "- Descriptors can be used to create attributes that behave differently based on the instance they are accessed from. They can also be shared across multiple instances.\n",
        "\n",
        "- Descriptors are powerful tools when you need complex attribute behavior, validation, or transformation.\n",
        "\n",
        "Example:"
      ],
      "metadata": {
        "id": "dtD1ZEx130kX"
      }
    },
    {
      "cell_type": "code",
      "source": [
        "class Descriptor:\n",
        "    def __get__(self, instance, owner):\n",
        "        print(\"Getting attribute\")\n",
        "        return instance._value\n",
        "\n",
        "    def __set__(self, instance, value):\n",
        "        print(\"Setting attribute\")\n",
        "        if value >= 0:\n",
        "            instance._value = value\n",
        "        else:\n",
        "            raise ValueError(\"Value cannot be negative.\")\n",
        "\n",
        "class Circle:\n",
        "    def __init__(self, radius):\n",
        "        self._value = radius\n",
        "\n",
        "    radius = Descriptor()\n",
        "\n",
        "circle = Circle(5)\n",
        "print(circle.radius)\n",
        "circle.radius = 10"
      ],
      "metadata": {
        "colab": {
          "base_uri": "https://localhost:8080/"
        },
        "id": "iirNIZd33xua",
        "outputId": "7f861e96-b1b1-45be-ea34-5bb864a4c735"
      },
      "execution_count": 10,
      "outputs": [
        {
          "output_type": "stream",
          "name": "stdout",
          "text": [
            "Getting attribute\n",
            "5\n",
            "Setting attribute\n"
          ]
        }
      ]
    },
    {
      "cell_type": "markdown",
      "source": [
        "#Question 3\n",
        "\n",
        "What are the key differences in functionality between **`__getattr__`** and **`__getattribute__`** , as well as\n",
        "properties and descriptors?\n",
        "\n",
        "..............\n",
        "\n",
        "Answer 3 -\n",
        "\n",
        "The key differences in functionality between **`__getattr__`**, **`__getattribute__`** , properties, and descriptors lie in their purposes, when they are invoked, and the level of control they provide over attribute access and manipulation:\n",
        "\n",
        "1) **`__getattr__`** vs. **`__getattribute__`** :\n",
        "\n",
        "a) **`__getattr__`**:\n",
        "\n",
        "- Invoked when the requested attribute is not found in the object's regular attributes.\n",
        "\n",
        "- Acts as a fallback mechanism for attribute access.\n",
        "\n",
        "- Should raise an AttributeError if the attribute is genuinely not found.\n",
        "\n",
        "- Primarily used for implementing dynamic attributes or handling missing attributes.\n",
        "\n",
        "b) **`__getattribute__`** :\n",
        "\n",
        "- Invoked for every attribute access, regardless of whether the attribute exists or not.\n",
        "\n",
        "- Allows you to override the default behavior of attribute access.\n",
        "\n",
        "- Must be implemented with caution to avoid infinite recursion when accessing other attributes within it.\n",
        "\n",
        "- Often used when you want to customize attribute access behavior for all attributes.\n",
        "\n",
        "2) **`Properties`** vs. **`Descriptors`** :\n",
        "\n",
        "**`Properties`** :\n",
        "\n",
        "- Provide a high-level way to define methods that are accessed like attributes.\n",
        "\n",
        "- Allow you to encapsulate attribute access with getter, setter, and deleter methods.\n",
        "\n",
        "- Use the @property, `@<propertyname>.setter` , and `@<propertyname>.deleter` decorators.\n",
        "\n",
        "- Suitable for maintaining a simple interface while adding custom logic for attribute access.\n",
        "\n",
        "**`Descriptors`**:\n",
        "\n",
        "- Offer finer-grained control over attribute access and manipulation.\n",
        "\n",
        "- Defined as classes implementing **`__get__`** , **`__set__`** , and optionally **`__delete__`** methods.\n",
        "\n",
        "- Can customize attribute behavior based on the instance they are accessed from.\n",
        "\n",
        "- Allow attributes to be shared across multiple instances.\n",
        "\n",
        "- Suitable for complex attribute behavior, validation, and transformation.\n"
      ],
      "metadata": {
        "id": "6gBOFnZr4ydZ"
      }
    },
    {
      "cell_type": "code",
      "source": [],
      "metadata": {
        "id": "e0lG5nsW4Ihv"
      },
      "execution_count": null,
      "outputs": []
    }
  ]
}