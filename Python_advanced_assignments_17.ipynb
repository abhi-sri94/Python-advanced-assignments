{
  "nbformat": 4,
  "nbformat_minor": 0,
  "metadata": {
    "colab": {
      "provenance": [],
      "toc_visible": true
    },
    "kernelspec": {
      "name": "python3",
      "display_name": "Python 3"
    },
    "language_info": {
      "name": "python"
    }
  },
  "cells": [
    {
      "cell_type": "markdown",
      "source": [
        "#Question 1\n",
        "\n",
        "Explain the difference between greedy and non-greedy syntax with visual terms in as few words\n",
        "as possible. What is the bare minimum effort required to transform a greedy pattern into a non-greedy\n",
        "one? What characters or characters can you introduce or change?\n",
        "\n",
        "..............\n",
        "\n",
        "Answer 1 -\n",
        "\n",
        "Greedy vs. Non-Greedy:\n",
        "\n",
        "- `Greedy` : Matches the longest possible substring.\n",
        "\n",
        "- `Non-Greedy`: Matches the shortest possible substring.\n",
        "\n",
        "Transform Greedy to Non-Greedy:\n",
        "\n",
        "Change `*` or `+` to `*?` or `+?`"
      ],
      "metadata": {
        "id": "uXqu5s6dG9o3"
      }
    },
    {
      "cell_type": "markdown",
      "source": [
        "#Question 2\n",
        "\n",
        "When exactly does greedy versus non-greedy make a difference? What if you're looking for a\n",
        "non-greedy match but the only one available is greedy?\n",
        "\n",
        "...............\n",
        "\n",
        "Answer 2 -\n",
        "\n",
        "Greedy versus non-greedy behavior makes a difference when you're dealing with patterns that can match multiple occurrences in the input text. It affects how much text the pattern consumes during the matching process.\n",
        "\n",
        "**Greedy Behavior** :\n",
        "\n",
        "- Greedy quantifiers (`*` , `+ , `?` , `{m,n}`) match as much text as possible while still allowing the overall pattern to match.\n",
        "\n",
        "- They try to maximize the length of the matched substring.\n",
        "\n",
        "**Non-Greedy (Lazy) Behavior** :\n",
        "\n",
        "- Non-greedy quantifiers (*?, +?, ??, {m,n}?) match as little text as possible while still allowing the overall pattern to match.\n",
        "\n",
        "- They try to minimize the length of the matched substring.\n",
        "\n",
        "**When It Matters** :\n",
        "\n",
        "- `Greedy` : When you want to capture the longest possible substring that satisfies the pattern.\n",
        "\n",
        "- `Non-Greedy` : When you want to capture the shortest possible substring that satisfies the pattern, often used in cases where the pattern is repeated.\n",
        "\n",
        "**What If Non-Greedy Isn't Available?**\n",
        "\n",
        "- If you're looking for a non-greedy match, but the only option is a greedy quantifier, you might need to adjust your pattern or use additional techniques to achieve the desired behavior.\n",
        "\n",
        "For example, consider the following input text and pattern:"
      ],
      "metadata": {
        "id": "TlOK-VZ1RSaR"
      }
    },
    {
      "cell_type": "code",
      "source": [
        "text = \"apple banana orange apple\"\n",
        "pattern = r'apple.*orange'"
      ],
      "metadata": {
        "id": "afX_Ddk2I7ZC"
      },
      "execution_count": 1,
      "outputs": []
    },
    {
      "cell_type": "markdown",
      "source": [
        "- Greedy match (`.*`): apple banana orange\n",
        "\n",
        "- Non-greedy match (`.*?`): apple\n",
        "\n",
        "If a non-greedy option isn't available, you might need to modify your pattern or post-process the matched substring to achieve the desired result. In some cases, you might even consider using negative character sets or lookahead/lookbehind assertions to create a more specific pattern."
      ],
      "metadata": {
        "id": "63THQ9APS_II"
      }
    },
    {
      "cell_type": "markdown",
      "source": [
        "#Question 3\n",
        "\n",
        "In a simple match of a string, which looks only for one match and does not do any replacement, is\n",
        "the use of a nontagged group likely to make any practical difference?\n",
        "\n",
        "..............\n",
        "\n",
        "Answer 3 -\n",
        "\n",
        "In a simple match of a string where you are only looking for one match and not performing any replacement, the use of a non-capturing group (also known as a non-tagged group) is not likely to make a significant practical difference in most cases.\n",
        "\n",
        "Non-capturing groups (`?:...`) are used when you want to group a part of the pattern for quantification or alternation purposes but don't need to capture the matched content for later use.\n",
        "\n",
        "In a simple match where you're only interested in whether the pattern matches or not, and you're not capturing any groups for extraction or manipulation, the use of capturing or non-capturing groups is less critical. The regular expression engine's main focus is to determine if the pattern matches the input string, and the choice between capturing and non-capturing groups doesn't significantly impact this aspect.\n",
        "\n",
        "The main benefits of using non-capturing groups come into play when you're dealing with more complex patterns, alternations, or repetition. They can help improve the performance of the regular expression engine and make the intent of your pattern clearer to other developers who read your code.\n",
        "\n",
        "In summary, for simple matching scenarios where you're not capturing groups for later use, the choice between using a non-capturing group or not is not likely to have a practical impact on the outcome of the match. However, using non-capturing groups can be a good practice for maintaining code consistency and clarity, especially as your regular expressions become more complex."
      ],
      "metadata": {
        "id": "rLfEY4FOTZdq"
      }
    },
    {
      "cell_type": "markdown",
      "source": [
        "#Question 4\n",
        "\n",
        "Describe a scenario in which using a nontagged category would have a significant impact on the\n",
        "program's outcomes.\n",
        "\n",
        "...............\n",
        "\n",
        "Answer 4 -\n",
        "\n",
        "Here's a scenario where using a non-capturing group ((?:...)) can have a significant impact on a program's outcomes:\n",
        "\n",
        "**Scenario: Extracting URLs from Text**\n",
        "\n",
        "Suppose you are building a program that needs to extract URLs from a large text document. URLs can have various formats, such as `\"http://\", \"https://\", \"www.\"` , etc. You want to extract and process these URLs.\n",
        "\n",
        "Using a non-capturing group can make a difference in the accuracy and efficiency of your extraction process:"
      ],
      "metadata": {
        "id": "fyThjZbPUQGK"
      }
    },
    {
      "cell_type": "code",
      "source": [
        "import re\n",
        "\n",
        "# Text containing URLs\n",
        "text = \"Visit my website at http://www.example.com and check out https://www.example.org\"\n",
        "\n",
        "# Without non-capturing group\n",
        "pattern_without_non_capturing = r'(http|https)://(?:www\\.)?(\\S+)'\n",
        "matches_without_non_capturing = re.findall(pattern_without_non_capturing, text)\n",
        "\n",
        "# With non-capturing group\n",
        "pattern_with_non_capturing = r'(http|https)://(?:www\\.)?(\\S+)'\n",
        "matches_with_non_capturing = re.findall(pattern_with_non_capturing, text)\n",
        "\n",
        "print(\"Without non-capturing group:\", matches_without_non_capturing)\n",
        "print(\"With non-capturing group:\", matches_with_non_capturing)"
      ],
      "metadata": {
        "colab": {
          "base_uri": "https://localhost:8080/"
        },
        "id": "4XcdUjZ9S8Iv",
        "outputId": "704f4545-7c12-4cde-9e48-bc1c7de881a5"
      },
      "execution_count": 2,
      "outputs": [
        {
          "output_type": "stream",
          "name": "stdout",
          "text": [
            "Without non-capturing group: [('http', 'example.com'), ('https', 'example.org')]\n",
            "With non-capturing group: [('http', 'example.com'), ('https', 'example.org')]\n"
          ]
        }
      ]
    },
    {
      "cell_type": "markdown",
      "source": [
        "In this example, we are using regular expressions to extract URLs from the text. The pattern (http|https)://(?:www\\.)?(\\S+) captures the URL protocol (http or https) and the domain portion. Notice the use of the non-capturing group (?:www\\.)?.\n",
        "\n",
        "Impact of Using Non-Capturing Group:\n",
        "\n",
        "- **Accuracy** : The non-capturing group ensures that the optional \"`www.`\" part of the domain is not captured. Without the non-capturing group, the capturing group would include the \"www.\" as part of the captured domain.\n",
        "\n",
        "- **Efficiency**: The non-capturing group improves efficiency by avoiding unnecessary capture of the \"`www.`\" portion. It reduces the number of captured groups, making the processing faster and potentially saving memory.\n",
        "\n",
        "In this scenario, using a non-capturing group improves the accuracy of the extracted URLs and can have a noticeable impact on the program's outcomes, especially when processing a large amount of text with complex patterns."
      ],
      "metadata": {
        "id": "ZUv-BZg_U6He"
      }
    },
    {
      "cell_type": "markdown",
      "source": [
        "#Question 5\n",
        "\n",
        "Unlike a normal regex pattern, a look-ahead condition does not consume the characters it\n",
        "examines. Describe a situation in which this could make a difference in the results of your\n",
        "programme.\n",
        "\n",
        "...............\n",
        "\n",
        "Answer 5 -\n",
        "\n",
        "Consider a scenario where you're working on a program that needs to validate passwords based on specific criteria. Let's say the criteria include the following:\n",
        "\n",
        "a) The password must be at least 8 characters long.\n",
        "\n",
        "b) The password must contain at least one uppercase letter.\n",
        "\n",
        "c) The password must contain at least one lowercase letter.\n",
        "\n",
        "d) The password must contain at least one digit.\n",
        "\n",
        "Using look-ahead assertions in this scenario can make a significant difference in the results of your program:"
      ],
      "metadata": {
        "id": "KHQsn_hNYbJk"
      }
    },
    {
      "cell_type": "code",
      "source": [
        "import re\n",
        "\n",
        "passwords = [\"P@ssw0rd\", \"Secr3t\", \"12345678\", \"AbC!123\"]\n",
        "\n",
        "for password in passwords:\n",
        "    # Using look-ahead assertions\n",
        "    is_valid = re.match(r\"^(?=.*[A-Z])(?=.*[a-z])(?=.*\\d).{8,}$\", password)\n",
        "    status = \"Valid\" if is_valid else \"Invalid\"\n",
        "\n",
        "    print(f\"Password: {password}, Status: {status}\")"
      ],
      "metadata": {
        "colab": {
          "base_uri": "https://localhost:8080/"
        },
        "id": "kRp3thEQUylO",
        "outputId": "0bbbc61d-6a01-4b51-e6e6-04fdd13cc268"
      },
      "execution_count": 4,
      "outputs": [
        {
          "output_type": "stream",
          "name": "stdout",
          "text": [
            "Password: P@ssw0rd, Status: Valid\n",
            "Password: Secr3t, Status: Invalid\n",
            "Password: 12345678, Status: Invalid\n",
            "Password: AbC!123, Status: Invalid\n"
          ]
        }
      ]
    },
    {
      "cell_type": "markdown",
      "source": [
        "In this example, the regular expression `^(?=.*[A-Z])(?=.*[a-z])(?=.*\\d).{8,}$` uses three positive look-ahead assertions to check the password against the criteria without consuming any characters:\n",
        "\n",
        "- `(?=.*[A-Z])` : Positive look-ahead for at least one uppercase letter.\n",
        "\n",
        "- `(?=.*[a-z])` : Positive look-ahead for at least one lowercase letter.\n",
        "\n",
        "- `(?=.*\\d)` : Positive look-ahead for at least one digit.\n",
        "\n",
        "The main advantage of using look-ahead assertions is that they allow you to check multiple conditions without advancing the cursor in the string. This is crucial when you want to enforce certain criteria without altering the string itself.\n",
        "\n",
        "If you were to use normal capturing groups instead of look-ahead assertions, you would need to scan the string separately for each condition. This could lead to incorrect results, as consuming characters in one condition could affect the matching process of the subsequent conditions."
      ],
      "metadata": {
        "id": "RFfOrc70tFdb"
      }
    },
    {
      "cell_type": "markdown",
      "source": [
        "#Question 6\n",
        "\n",
        "In standard expressions, what is the difference between positive look-ahead and negative look-\n",
        "ahead?\n",
        "\n",
        "..............\n",
        "\n",
        "Answer 6 -\n",
        "\n",
        "Positive look-ahead and negative look-ahead are both types of look-ahead assertions in regular expressions, but they have different purposes and behaviors:\n",
        "\n",
        "1) **Positive Look-Ahead (`?=...`)** :\n",
        "\n",
        "- Positive look-ahead asserts that a specific pattern must be present ahead in the string, without actually consuming any characters.\n",
        "\n",
        "- It is used to ensure that a particular condition is met without including the matched content in the final match.\n",
        "\n",
        "- Example: `foo(?=bar)` matches \"`foo`\" only if it is\n",
        "`followed` by \"`bar`\".\n",
        "\n",
        "2) **Negative Look-Ahead (`?!...`)** :\n",
        "\n",
        "- Negative look-ahead asserts that a specific pattern must NOT be present ahead in the string, without consuming characters.\n",
        "\n",
        "- It is used to ensure that a particular condition is not met without including the matched content in the final match.\n",
        "\n",
        "- Example: `foo(?!bar)` matches \"`foo`\" only if it is `NOT followed` by \"`bar`\".\n",
        "\n",
        "Here's a visual comparison of the two:"
      ],
      "metadata": {
        "id": "Dpq92ilrtTOI"
      }
    },
    {
      "cell_type": "code",
      "source": [
        "Input String: \"foobar\"\n",
        "\n",
        "Positive Look-Ahead:\n",
        "- Pattern: foo(?=bar)\n",
        "- Matches: foo\n",
        "\n",
        "Negative Look-Ahead:\n",
        "- Pattern: foo(?!bar)\n",
        "- Matches: fo"
      ],
      "metadata": {
        "id": "wGrWM5C8t6zu"
      },
      "execution_count": null,
      "outputs": []
    },
    {
      "cell_type": "markdown",
      "source": [
        "In the positive look-ahead example, \"foo\" is matched only when followed by \"bar\", but \"bar\" is not included in the match.\n",
        "\n",
        "In the negative look-ahead example, \"foo\" is matched only when NOT followed by \"bar\".\n",
        "\n",
        "Positive and negative look-ahead assertions are powerful tools for specifying conditions that must or must not be met ahead in the string, without consuming characters. They are useful for complex pattern matching and can significantly enhance the capabilities of regular expressions."
      ],
      "metadata": {
        "id": "cPK5Yn-MuAns"
      }
    },
    {
      "cell_type": "markdown",
      "source": [
        "#Question 7\n",
        "\n",
        "What is the benefit of referring to groups by name rather than by number in a standard\n",
        "expression?\n",
        "\n",
        "...............\n",
        "\n",
        "Answer 7 -\n",
        "\n",
        "Referring to groups by name in a regular expression, as opposed to by number, offers several benefits that enhance code readability, maintainability, and flexibility:\n",
        "\n",
        "1) **Improved Readability** : Using named groups makes your regular expressions more self-explanatory and easier to understand. The names you assign to groups can convey the purpose or meaning of each captured portion, making the pattern's intent clearer.\n",
        "\n",
        "2) **Self-Documenting Patterns** : Named groups act as documentation within the pattern itself. Someone reading the code can understand the significance of each group without having to refer to external documentation.\n",
        "\n",
        "3) **Enhanced Maintenance** : Named groups make your code more resilient to changes. If you modify the regular expression or reorder capturing groups, the references to named groups remain accurate, whereas numbered references could become incorrect.\n",
        "\n",
        "4) **Flexibility in Group Order** : Named groups allow you to reorder, add, or remove groups without affecting code that references them by name. This flexibility simplifies pattern adjustments and evolution.\n",
        "\n",
        "5) **Code Clarity** : Named groups reduce the need to remember group indices and make your code more self-explanatory. This is especially helpful when working with complex patterns.\n",
        "\n",
        "6) **Avoiding Magic Numbers** : Using named groups eliminates the need to remember and manage the numeric indices of groups. This avoids \"magic numbers\" and reduces the potential for errors.\n",
        "\n",
        "Here's a comparison of referencing groups by name and by number:"
      ],
      "metadata": {
        "id": "tZ0CvtbQuCzh"
      }
    },
    {
      "cell_type": "code",
      "source": [
        "import re\n",
        "\n",
        "# Using Named Groups\n",
        "pattern_named = r'(?P<month>\\d{2})-(?P<day>\\d{2})-(?P<year>\\d{4})'\n",
        "match_named = re.match(pattern_named, '08-14-2023')\n",
        "print(match_named.group('year'))\n",
        "\n",
        "# Using Numbered Groups\n",
        "pattern_numbered = r'(\\d{2})-(\\d{2})-(\\d{4})'\n",
        "match_numbered = re.match(pattern_numbered, '08-14-2023')\n",
        "\n",
        "print(match_numbered.group(3))"
      ],
      "metadata": {
        "colab": {
          "base_uri": "https://localhost:8080/"
        },
        "id": "oxdkKAzP3qPR",
        "outputId": "dd663730-1a22-4994-f294-9ee5618e722b"
      },
      "execution_count": 7,
      "outputs": [
        {
          "output_type": "stream",
          "name": "stdout",
          "text": [
            "2023\n",
            "2023\n"
          ]
        }
      ]
    },
    {
      "cell_type": "markdown",
      "source": [
        "#Question 8\n",
        "\n",
        "Can you identify repeated items within a target string using named groups, as in \"The cow\n",
        "jumped over the moon\"?\n",
        "\n",
        "...............\n",
        "\n",
        "Answer 9 -\n",
        "\n",
        "Here's how you can do it:"
      ],
      "metadata": {
        "id": "8Rg8VhGb33RG"
      }
    },
    {
      "cell_type": "code",
      "source": [
        "import re\n",
        "text = \"The cow jumped over the moon\"\n",
        "regobj=re.compile(r'(?P<w1>The)',re.I)\n",
        "regobj.findall(text)"
      ],
      "metadata": {
        "colab": {
          "base_uri": "https://localhost:8080/"
        },
        "id": "b35kTpB_56-n",
        "outputId": "61b79c4d-1082-46bf-dd22-8eb0dd598e3a"
      },
      "execution_count": 20,
      "outputs": [
        {
          "output_type": "execute_result",
          "data": {
            "text/plain": [
              "['The', 'the']"
            ]
          },
          "metadata": {},
          "execution_count": 20
        }
      ]
    },
    {
      "cell_type": "markdown",
      "source": [
        "#Question 9\n",
        "\n",
        "When parsing a string, what is at least one thing that the Scanner interface does for you that the\n",
        "re.findall feature does not?\n",
        "\n",
        "...............\n",
        "\n",
        "Answer 9 -\n",
        "\n",
        "The `Scanner` interface and the `re.findall()` function both serve the purpose of parsing strings to find specific patterns, but there is a key difference in how they operate and the functionality they provide.\n",
        "\n",
        "One thing that the Scanner interface in Java does for you that the re.findall() feature in Python does not is that the Scanner allows you to iterate through tokens (segments of the input) and apply different processing to each token based on its type. This is especially useful when dealing with more complex parsing scenarios.\n",
        "\n",
        "For example, with the Scanner interface, you can:\n",
        "\n",
        "1) **Tokenize** : The Scanner can break down an input string into tokens based on delimiters or regular expressions. Each token can represent a specific part of the input data.\n",
        "\n",
        "2) **Differentiate Types** : You can use the `hasNextXXX()` and `nextXXX()` methods of the Scanner to determine if the next token matches a specific data type (like integers, floats, or words) and then retrieve that token as the corresponding type.\n",
        "\n",
        "3) **Conditional Parsing** : You can conditionally process tokens differently based on their types, allowing you to apply custom logic for different types of tokens.\n",
        "\n",
        "4) **Custom Delimiters** : The Scanner allows you to set custom delimiters to determine how tokens are separated, which can be useful in scenarios where tokens are separated by specific patterns.\n",
        "\n",
        "5) **Reading from Various Sources** : The Scanner can read from various sources like strings, files, and input streams.\n",
        "\n",
        "The `re.findall()` function in Python is primarily focused on pattern matching and returns a list of matched substrings. While it's powerful for finding specific patterns in text, it doesn't provide the same level of control and differentiation that the `Scanner` interface does for token-based parsing."
      ],
      "metadata": {
        "id": "fAH00RSK6Ygd"
      }
    },
    {
      "cell_type": "markdown",
      "source": [
        "#Question 10\n",
        "\n",
        "Does a scanner object have to be named scanner?\n",
        "\n",
        "..............\n",
        "\n",
        "Answer 10 -\n",
        "\n",
        "No, a Scanner object does not have to be named \"`scanner.` \" The name you choose for the Scanner object is entirely up to you. When you create an instance of the Scanner class, you can assign it any valid identifier name that adheres to Java's naming rules.\n",
        "\n",
        "Here's an example of creating a Scanner object with a different name:"
      ],
      "metadata": {
        "id": "1j4z-HqvArIp"
      }
    },
    {
      "cell_type": "code",
      "source": [
        "import java.util.Scanner;\n",
        "\n",
        "public class Example {\n",
        "    public static void main(String[] args) {\n",
        "        // Create a Scanner object with a custom name\n",
        "        Scanner inputScanner = new Scanner(System.in);\n",
        "\n",
        "        System.out.print(\"Enter a number: \");\n",
        "        int number = inputScanner.nextInt();\n",
        "        System.out.println(\"You entered: \" + number);\n",
        "\n",
        "        // Remember to close the Scanner when done\n",
        "        inputScanner.close();\n",
        "    }\n",
        "}"
      ],
      "metadata": {
        "id": "nSF-j5bHBDXI"
      },
      "execution_count": null,
      "outputs": []
    },
    {
      "cell_type": "markdown",
      "source": [
        "In this example, the Scanner object is named `inputScanner` . You can use any meaningful and appropriate name that makes sense in the context of your code. The key is to choose a name that helps improve the readability and understanding of your code."
      ],
      "metadata": {
        "id": "MbnYGbImBG6u"
      }
    }
  ]
}