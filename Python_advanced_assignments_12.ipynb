{
  "nbformat": 4,
  "nbformat_minor": 0,
  "metadata": {
    "colab": {
      "provenance": [],
      "toc_visible": true
    },
    "kernelspec": {
      "name": "python3",
      "display_name": "Python 3"
    },
    "language_info": {
      "name": "python"
    }
  },
  "cells": [
    {
      "cell_type": "markdown",
      "source": [
        "#Question 1\n",
        "\n",
        "Does assigning a value to a string&#39;s indexed character violate Python&#39;s string immutability?\n",
        "\n",
        "..............\n",
        "\n",
        "Answer 1 -\n",
        "\n",
        "Yes, assigning a value to a string's indexed character does indeed violate Python's string immutability. In Python, strings are immutable, which means that once a string is created, its contents cannot be changed. You cannot modify individual characters of a string directly.\n",
        "\n",
        "Attempting to assign a value to a specific indexed character of a string will result in a TypeError.\n",
        "\n",
        "For example:"
      ],
      "metadata": {
        "id": "CnfmqQii-F_x"
      }
    },
    {
      "cell_type": "code",
      "source": [
        "my_string = \"Hello\"\n",
        "my_string[0] = \"M\"  # This will raise a TypeError"
      ],
      "metadata": {
        "colab": {
          "base_uri": "https://localhost:8080/",
          "height": 193
        },
        "id": "My9wWipEBAvu",
        "outputId": "0c9c6342-57ba-46ad-c1e8-767ecd172510"
      },
      "execution_count": 2,
      "outputs": [
        {
          "output_type": "error",
          "ename": "TypeError",
          "evalue": "ignored",
          "traceback": [
            "\u001b[0;31m---------------------------------------------------------------------------\u001b[0m",
            "\u001b[0;31mTypeError\u001b[0m                                 Traceback (most recent call last)",
            "\u001b[0;32m<ipython-input-2-3c809a035d98>\u001b[0m in \u001b[0;36m<cell line: 2>\u001b[0;34m()\u001b[0m\n\u001b[1;32m      1\u001b[0m \u001b[0mmy_string\u001b[0m \u001b[0;34m=\u001b[0m \u001b[0;34m\"Hello\"\u001b[0m\u001b[0;34m\u001b[0m\u001b[0;34m\u001b[0m\u001b[0m\n\u001b[0;32m----> 2\u001b[0;31m \u001b[0mmy_string\u001b[0m\u001b[0;34m[\u001b[0m\u001b[0;36m0\u001b[0m\u001b[0;34m]\u001b[0m \u001b[0;34m=\u001b[0m \u001b[0;34m\"M\"\u001b[0m  \u001b[0;31m# This will raise a TypeError\u001b[0m\u001b[0;34m\u001b[0m\u001b[0;34m\u001b[0m\u001b[0m\n\u001b[0m",
            "\u001b[0;31mTypeError\u001b[0m: 'str' object does not support item assignment"
          ]
        }
      ]
    },
    {
      "cell_type": "markdown",
      "source": [
        "If you need to modify a string, you would typically create a new string with the desired modifications instead of trying to change the characters within the original string.\n",
        "\n",
        "For example:"
      ],
      "metadata": {
        "id": "N5UAxHE9BatR"
      }
    },
    {
      "cell_type": "code",
      "source": [
        "my_string = \"Hello\"\n",
        "new_string = \"M\" + my_string[1:]  # Creates a new string with \"M\" at the beginning"
      ],
      "metadata": {
        "id": "n08l5kuFBCkD"
      },
      "execution_count": 3,
      "outputs": []
    },
    {
      "cell_type": "markdown",
      "source": [
        "In this example, the original string \"Hello\" remains unchanged, and a new string \"Mello\" is created."
      ],
      "metadata": {
        "id": "XdGdZ7dYBlY6"
      }
    },
    {
      "cell_type": "markdown",
      "source": [
        "#Question 2\n",
        "\n",
        "Does using the += operator to concatenate strings violate Python's string immutability? Why or\n",
        "why not?\n",
        "\n",
        ".............\n",
        "\n",
        "Answer 2 -\n",
        "\n",
        "No, using the `+=` operator to concatenate strings does not violate Python's string immutability. This might seem counterintuitive at first, but it's important to understand how the `+=` operator works with strings.\n",
        "\n",
        "When you use the `+=` operator to concatenate strings, you are actually creating a new string behind the scenes. The original strings remain unchanged, and a new string is created to hold the concatenated result. This new string is then assigned to the variable on the left-hand side of the `+=` operator.\n",
        "\n",
        "Here's an example to illustrate this:"
      ],
      "metadata": {
        "id": "BdKsmqlKBoWX"
      }
    },
    {
      "cell_type": "code",
      "source": [
        "original_string = \"Hello\"\n",
        "original_id = id(original_string)  # Get the memory address of the original string\n",
        "\n",
        "original_string += \" World\"\n",
        "new_id = id(original_string)  # Get the memory address of the modified string\n",
        "\n",
        "print(\"Original String:\", original_string)\n",
        "print(\"Original ID:\", original_id)\n",
        "print(\"New ID:\", new_id)"
      ],
      "metadata": {
        "colab": {
          "base_uri": "https://localhost:8080/"
        },
        "id": "fGQ_P3MhBeaO",
        "outputId": "b7abc33c-c5dc-4fec-8a1c-eb6cc1d69e71"
      },
      "execution_count": 4,
      "outputs": [
        {
          "output_type": "stream",
          "name": "stdout",
          "text": [
            "Original String: Hello World\n",
            "Original ID: 135144879785456\n",
            "New ID: 135144880096752\n"
          ]
        }
      ]
    },
    {
      "cell_type": "markdown",
      "source": [
        "#Question 3\n",
        "\n",
        "In Python, how many different ways are there to index a character?\n",
        "\n",
        "................\n",
        "\n",
        "Answer 3 -\n",
        "\n",
        "In Python, there are a few different ways to index a character within a string. Here are the common indexing methods:\n",
        "\n",
        "1) **Positive Indexing** : This is the most common way to index a character in a string. The index starts from 0 for the first character, 1 for the second character, and so on. For example:"
      ],
      "metadata": {
        "id": "9mRylYR2CLjU"
      }
    },
    {
      "cell_type": "code",
      "source": [
        "my_string = \"Hello\"\n",
        "char = my_string[0]\n",
        "\n",
        "print(char)"
      ],
      "metadata": {
        "colab": {
          "base_uri": "https://localhost:8080/"
        },
        "id": "8D4U18x0CEyi",
        "outputId": "d441d0f6-64a7-44a1-9773-6a2c83c8736c"
      },
      "execution_count": 20,
      "outputs": [
        {
          "output_type": "stream",
          "name": "stdout",
          "text": [
            "H\n"
          ]
        }
      ]
    },
    {
      "cell_type": "markdown",
      "source": [
        "2) **Negative Indexing** : Python also supports negative indexing, where -1 refers to the last character, -2 to the second-to-last character, and so on. For example:"
      ],
      "metadata": {
        "id": "2Di0ZLRfDGou"
      }
    },
    {
      "cell_type": "code",
      "source": [
        "my_string = \"Hello\"\n",
        "char = my_string[-1]\n",
        "\n",
        "print(char)"
      ],
      "metadata": {
        "colab": {
          "base_uri": "https://localhost:8080/"
        },
        "id": "oUH5K2mfCmcv",
        "outputId": "0bba7e5f-65e8-4be4-9e0a-8e009cdf00c3"
      },
      "execution_count": 21,
      "outputs": [
        {
          "output_type": "stream",
          "name": "stdout",
          "text": [
            "o\n"
          ]
        }
      ]
    },
    {
      "cell_type": "markdown",
      "source": [
        "3) **Slicing** : Slicing allows you to extract a substring from a string. You can specify a range of indices using the colon `:` notation. For example:"
      ],
      "metadata": {
        "id": "Op0XC0y5DTVQ"
      }
    },
    {
      "cell_type": "code",
      "source": [
        "my_string = \"Hello\"\n",
        "substring = my_string[1:4]\n",
        "\n",
        "print(char)"
      ],
      "metadata": {
        "colab": {
          "base_uri": "https://localhost:8080/"
        },
        "id": "MHLMHdpVDOX5",
        "outputId": "3adbd2d2-aed7-4733-d4d8-15f468b2ba7f"
      },
      "execution_count": 22,
      "outputs": [
        {
          "output_type": "stream",
          "name": "stdout",
          "text": [
            "o\n"
          ]
        }
      ]
    },
    {
      "cell_type": "markdown",
      "source": [
        "4) **Omitting Start or End Index in Slicing** : If you omit the start index, it defaults to 0. If you omit the end index, it defaults to the length of the string. For example:"
      ],
      "metadata": {
        "id": "3CnDVIVODpI1"
      }
    },
    {
      "cell_type": "code",
      "source": [
        "my_string = \"Hello\"\n",
        "first_three = my_string[:3]\n",
        "last_two = my_string[-2:]\n",
        "\n",
        "print(first_three)\n",
        "print(last_two)"
      ],
      "metadata": {
        "colab": {
          "base_uri": "https://localhost:8080/"
        },
        "id": "2W5Q5Oi8Dd0l",
        "outputId": "379d7c2e-3cf9-48b8-dd00-4ade2a1f1845"
      },
      "execution_count": 23,
      "outputs": [
        {
          "output_type": "stream",
          "name": "stdout",
          "text": [
            "Hel\n",
            "lo\n"
          ]
        }
      ]
    },
    {
      "cell_type": "markdown",
      "source": [
        "5) **Step in Slicing** : You can also specify a step value in slicing to skip characters. For example:"
      ],
      "metadata": {
        "id": "ZPQsxy9AD6Uw"
      }
    },
    {
      "cell_type": "code",
      "source": [
        "my_string = \"Hello\"\n",
        "even_chars = my_string[::2]\n",
        "\n",
        "print(even_chars)"
      ],
      "metadata": {
        "colab": {
          "base_uri": "https://localhost:8080/"
        },
        "id": "ghoD-5YYDlSQ",
        "outputId": "3f259bad-5f8f-40d9-e096-9e5e4afde98f"
      },
      "execution_count": 24,
      "outputs": [
        {
          "output_type": "stream",
          "name": "stdout",
          "text": [
            "Hlo\n"
          ]
        }
      ]
    },
    {
      "cell_type": "markdown",
      "source": [
        "#Question 4\n",
        "\n",
        "In Python, how many different ways are there to index a character?\n",
        "\n",
        "..............\n",
        "\n",
        "Answer 4 -\n",
        "\n",
        "Indexing and slicing are related concepts used to access specific elements (characters) or subsequences (substrings) within a sequence, such as a string, list, or tuple. In Python, both indexing and slicing are used extensively to work with sequences.\n",
        "\n",
        "Here's the relationship between indexing and slicing:\n",
        "\n",
        "1) **Indexing** : Indexing refers to selecting a single element from a sequence based on its position (`index`) within the sequence. It's like pinpointing a specific item in a collection. In Python, indexing starts from 0 for the first element, and you can use positive or negative indices. Positive indices count from the beginning of the sequence, while negative indices count from the end.\n",
        "\n",
        "Examples:\n",
        "\n",
        "- my_string = \"Hello\"\n",
        "\n",
        "- Index 0: 'H'\n",
        "\n",
        "- Index 2: 'l'\n",
        "\n",
        "- Index -1: 'o'\n",
        "\n",
        "2) **Slicing** : Slicing refers to extracting a subsequence from a sequence. It involves specifying a range of indices using the colon `:` notation. Slicing returns a new sequence that includes all elements within the specified range. It's like taking a portion of a sequence.\n",
        "\n",
        "Examples:\n",
        "\n",
        "- my_string = \"Hello\"\n",
        "\n",
        "- Slicing from index 1 to 3: 'el'\n",
        "\n",
        "- Slicing from index -2 to the end: 'lo'"
      ],
      "metadata": {
        "id": "M8vdtCvcERoU"
      }
    },
    {
      "cell_type": "markdown",
      "source": [
        "#Question 5\n",
        "\n",
        "What is an indexed character's exact data type? What is the data form of a slicing-generated\n",
        "substring?\n",
        "\n",
        "...............\n",
        "\n",
        "Answer 5 -\n",
        "\n",
        "In Python, an indexed character from a string is of the data type `\"str\"` (string). When you index a character in a string, you're retrieving a single-character string that represents that character. For example:"
      ],
      "metadata": {
        "id": "lmBZUF_7F-Rk"
      }
    },
    {
      "cell_type": "code",
      "source": [
        "my_string = \"Hello\"\n",
        "char = my_string[0]\n",
        "\n",
        "print(char)"
      ],
      "metadata": {
        "colab": {
          "base_uri": "https://localhost:8080/"
        },
        "id": "akzQj5CKEGGc",
        "outputId": "7c50b5bf-cccc-4ccc-a58b-215dc74803ec"
      },
      "execution_count": 27,
      "outputs": [
        {
          "output_type": "stream",
          "name": "stdout",
          "text": [
            "H\n"
          ]
        }
      ]
    },
    {
      "cell_type": "markdown",
      "source": [
        "Similarly, a slicing-generated substring is also of the data type `\"str\"` (string). Slicing a string returns a new string that represents a portion of the original string. For example:"
      ],
      "metadata": {
        "id": "pjcbQrhXGmyH"
      }
    },
    {
      "cell_type": "code",
      "source": [
        "my_string = \"Hello\"\n",
        "substring = my_string[1:4]\n",
        "\n",
        "\n",
        "print(substring)"
      ],
      "metadata": {
        "colab": {
          "base_uri": "https://localhost:8080/"
        },
        "id": "hYAyietvGOsa",
        "outputId": "83ab98c2-c85d-49fc-ff55-6dc81510b6f6"
      },
      "execution_count": 28,
      "outputs": [
        {
          "output_type": "stream",
          "name": "stdout",
          "text": [
            "ell\n"
          ]
        }
      ]
    },
    {
      "cell_type": "markdown",
      "source": [
        "#Question 6\n",
        "\n",
        "What is the relationship between string and character \"types\" in Python?\n",
        "\n",
        "...............\n",
        "\n",
        "Answer 6 -\n",
        "\n",
        "In Python, the \"string\" and \"character\" types are closely related, but it's important to understand that strings are composed of characters, and characters are essentially strings of length 1.\n",
        "\n",
        "Here's the relationship between strings and characters in Python:\n",
        "\n",
        "Character: In Python, a character is essentially a string of length 1. In other words, a character in Python is represented using a string containing just one character."
      ],
      "metadata": {
        "id": "_1RIy_4hG9n-"
      }
    },
    {
      "cell_type": "code",
      "source": [
        "char = 'A'  # A single-character string representing the character 'A'"
      ],
      "metadata": {
        "id": "ebmEQRpeGvOe"
      },
      "execution_count": 29,
      "outputs": []
    },
    {
      "cell_type": "markdown",
      "source": [
        "2) **String** : A \"string\" is a sequence of characters. It's a more general concept that can hold zero or more characters. In Python, a string is defined by enclosing characters within single (`' '`) or double (`\" \"`) quotes."
      ],
      "metadata": {
        "id": "BhIpOkbXHvXo"
      }
    },
    {
      "cell_type": "code",
      "source": [
        "my_string = \"Hello\"  # A string composed of multiple characters"
      ],
      "metadata": {
        "id": "AtVsO5ScH5vN"
      },
      "execution_count": 30,
      "outputs": []
    },
    {
      "cell_type": "markdown",
      "source": [
        "#Question 7\n",
        "\n",
        "Identify at least two operators and one method that allow you to combine one or more smaller\n",
        "strings to create a larger string.\n",
        "\n",
        "...............\n",
        "\n",
        "Answer 7 -\n",
        "\n",
        "Here are two operators and one method commonly used to combine smaller strings into a larger string:\n",
        "\n",
        "1) **String Concatenation Operator (`+`)** : The `+` operator is used for string concatenation, which means combining two or more strings into a larger string."
      ],
      "metadata": {
        "id": "O_cwQ1OvH39V"
      }
    },
    {
      "cell_type": "code",
      "source": [
        "first_name = \"John\"\n",
        "last_name = \"Doe\"\n",
        "full_name = first_name + \" \" + last_name  # Combining first name, space, and last name\n",
        "\n",
        "print(full_name)"
      ],
      "metadata": {
        "colab": {
          "base_uri": "https://localhost:8080/"
        },
        "id": "PIAGfyzgHuzX",
        "outputId": "83ff3a21-666e-4959-b409-6fef9a36ce5e"
      },
      "execution_count": 32,
      "outputs": [
        {
          "output_type": "stream",
          "name": "stdout",
          "text": [
            "John Doe\n"
          ]
        }
      ]
    },
    {
      "cell_type": "markdown",
      "source": [
        "2) **Formatted String Literal (f-strings)** : `F-strings` are a modern way to format and concatenate strings by embedding expressions inside curly braces `{}` within a string. They are created by prefixing the string with the letter `'f'` or `'F'` ."
      ],
      "metadata": {
        "id": "0RZGfbaMIgud"
      }
    },
    {
      "cell_type": "code",
      "source": [
        "age = 30\n",
        "greeting = f\"Hello, my name is {full_name} and I am {age} years old.\"\n",
        "\n",
        "print(greeting)"
      ],
      "metadata": {
        "colab": {
          "base_uri": "https://localhost:8080/"
        },
        "id": "FLhuzXgxIZOi",
        "outputId": "c222b9e5-336c-4d82-e6cc-6ed8d594b2b5"
      },
      "execution_count": 34,
      "outputs": [
        {
          "output_type": "stream",
          "name": "stdout",
          "text": [
            "Hello, my name is John Doe and I am 30 years old.\n"
          ]
        }
      ]
    },
    {
      "cell_type": "markdown",
      "source": [
        "3) **String .join() Method** : The **.join()** method is used to concatenate elements of an iterable (like a list or tuple) into a string. It places the specified string between each element of the iterable."
      ],
      "metadata": {
        "id": "WdRvVWwXIxNh"
      }
    },
    {
      "cell_type": "code",
      "source": [
        "words = [\"Hello\", \"world\", \"how\", \"are\", \"you?\"]\n",
        "combined_string = \" \".join(words)  # Joining the words with spaces\n",
        "\n",
        "print(combined_string)"
      ],
      "metadata": {
        "colab": {
          "base_uri": "https://localhost:8080/"
        },
        "id": "RD3e9qaeIswz",
        "outputId": "5ab43bb9-e866-4c06-84fa-f2edf6b5ca47"
      },
      "execution_count": 36,
      "outputs": [
        {
          "output_type": "stream",
          "name": "stdout",
          "text": [
            "Hello world how are you?\n"
          ]
        }
      ]
    },
    {
      "cell_type": "markdown",
      "source": [
        "#Question 8\n",
        "\n",
        "What is the benefit of first checking the target string with in or not in before using the index\n",
        "method to find a substring?\n",
        "\n",
        "................\n",
        "\n",
        "Answer 8 -\n",
        "\n",
        "Checking for the presence of a substring using the in or not in operators before using the **index()** method can provide several benefits:\n",
        "\n",
        "1) **Avoiding Errors** : If the target substring is not present in the string, using the index() method directly would raise a ValueError. Checking with in or not in allows you to handle such cases gracefully without causing your program to crash.\n",
        "\n",
        "2) **Efficiency** : The in or not in operators have a more efficient runtime than the index() method. They don't need to find the exact index of the substring; they only need to determine its presence or absence.\n",
        "\n",
        "3) **Code Clarity** : Checking with in or not in can make your code more readable and understandable. It explicitly states your intention to determine the existence of a substring rather than attempting to find its position.\n",
        "\n",
        "4) **Code Flexibility** : By using in or not in, you're separating the task of checking presence from the task of locating the index. This separation can make your code more flexible, as you might want to handle these tasks differently based on the context.\n",
        "\n",
        "Here's an example to illustrate:"
      ],
      "metadata": {
        "id": "ZAfx85rWJATK"
      }
    },
    {
      "cell_type": "code",
      "source": [
        "text = \"Hello, how are you?\"\n",
        "substring = \"how\"\n",
        "\n",
        "# Using in or not in to check presence\n",
        "if substring in text:\n",
        "    index = text.index(substring)\n",
        "    print(f\"'{substring}' found at index {index}\")\n",
        "else:\n",
        "    print(f\"'{substring}' not found\")"
      ],
      "metadata": {
        "colab": {
          "base_uri": "https://localhost:8080/"
        },
        "id": "BL0OBr_DI4ph",
        "outputId": "92b31de5-baf0-4214-a17f-fed6e3a3e49f"
      },
      "execution_count": 37,
      "outputs": [
        {
          "output_type": "stream",
          "name": "stdout",
          "text": [
            "'how' found at index 7\n"
          ]
        }
      ]
    },
    {
      "cell_type": "markdown",
      "source": [
        "In this example, using `in` to check for the presence of the substring first prevents the `index()` method from being called unnecessarily if the substring is not present."
      ],
      "metadata": {
        "id": "yCHeOOlAKJiL"
      }
    },
    {
      "cell_type": "markdown",
      "source": [
        "#Question 9\n",
        "\n",
        "Which operators and built-in string methods produce simple Boolean (true/false) results?\n",
        "\n",
        "................\n",
        "\n",
        "Answer 9 -\n",
        "\n",
        "Several operators and built-in string methods in Python produce simple Boolean (true/false) results. Here are some of them:\n",
        "\n",
        "Operators:\n",
        "\n",
        "1) **Comparison Operators** : These operators compare two values and return a Boolean result (True or False).\n",
        "\n",
        "`==` : Equal to\n",
        "\n",
        "`!=` : Not equal to\n",
        "\n",
        "`<` : Less than\n",
        "\n",
        "`>`: Greater than\n",
        "\n",
        "`<=` : Less than or equal to\n",
        "\n",
        "`>=`: Greater than or equal to\n",
        "\n",
        "Example:"
      ],
      "metadata": {
        "id": "K6zIo6tZlqz0"
      }
    },
    {
      "cell_type": "code",
      "source": [
        "x = 5\n",
        "y = 10\n",
        "result = x < y\n",
        "\n",
        "print(result)"
      ],
      "metadata": {
        "colab": {
          "base_uri": "https://localhost:8080/"
        },
        "id": "YrwAqOSaKFVF",
        "outputId": "91debab4-e290-4965-cfad-cd7024278900"
      },
      "execution_count": 5,
      "outputs": [
        {
          "output_type": "stream",
          "name": "stdout",
          "text": [
            "True\n"
          ]
        }
      ]
    },
    {
      "cell_type": "markdown",
      "source": [
        "2) **String Methods** :\n",
        "\n",
        "**.startswith(prefix)** and **.endswith(suffix)** : These methods check if a string starts with a specified prefix or ends with a specified suffix and return a Boolean result."
      ],
      "metadata": {
        "id": "BEPa0-yPnmSm"
      }
    },
    {
      "cell_type": "code",
      "source": [
        "text = \"Hello, world\"\n",
        "\n",
        "starts_with_hello = text.startswith(\"Hello\")  # True\n",
        "ends_with_world = text.endswith(\"world\")  # True"
      ],
      "metadata": {
        "id": "jFwrifWenWCB"
      },
      "execution_count": 8,
      "outputs": []
    },
    {
      "cell_type": "markdown",
      "source": [
        "**.isalpha()** , **.isdigit()** , **.isalnum()** , **.isspace()** : These methods check various characteristics of a string and return True or False based on those characteristics."
      ],
      "metadata": {
        "id": "uE-ZNq4joUeT"
      }
    },
    {
      "cell_type": "code",
      "source": [
        "word = \"Hello\"\n",
        "number = \"123\"\n",
        "alnum = \"Hello123\"\n",
        "space = \"   \"\n",
        "\n",
        "is_alpha = word.isalpha()\n",
        "is_digit = number.isdigit()\n",
        "is_alnum = alnum.isalnum()\n",
        "is_space = space.isspace()\n",
        "\n",
        "print(is_alpha)\n",
        "print(is_digit)\n",
        "print(is_alnum)\n",
        "print(is_space)"
      ],
      "metadata": {
        "colab": {
          "base_uri": "https://localhost:8080/"
        },
        "id": "MVjFTPw6nzJB",
        "outputId": "de0bb0ed-e1a7-4e69-e4d9-c41eb5712825"
      },
      "execution_count": 13,
      "outputs": [
        {
          "output_type": "stream",
          "name": "stdout",
          "text": [
            "True\n",
            "True\n",
            "True\n",
            "True\n"
          ]
        }
      ]
    },
    {
      "cell_type": "markdown",
      "source": [
        "**.isupper()** , **.islower()** , **.istitle()** :\n",
        "These methods check the case of characters in a string and return True or False."
      ],
      "metadata": {
        "id": "vP2yPBalpPYh"
      }
    },
    {
      "cell_type": "code",
      "source": [
        "uppercase = \"HELLO\"\n",
        "lowercase = \"world\"\n",
        "title = \"Hello World\"\n",
        "\n",
        "is_upper = uppercase.isupper()\n",
        "is_lower = lowercase.islower()\n",
        "is_title = title.istitle()\n",
        "\n",
        "print(is_upper)\n",
        "print(is_lower)\n",
        "print(is_title)"
      ],
      "metadata": {
        "colab": {
          "base_uri": "https://localhost:8080/"
        },
        "id": "ApR4R2IqomM6",
        "outputId": "3d53bc3f-ea6d-4d3e-815f-d35ed63bc144"
      },
      "execution_count": 15,
      "outputs": [
        {
          "output_type": "stream",
          "name": "stdout",
          "text": [
            "True\n",
            "True\n",
            "True\n"
          ]
        }
      ]
    },
    {
      "cell_type": "markdown",
      "source": [
        "These operators and methods are useful for making Boolean decisions and performing conditional logic based on the characteristics of strings or the relationship between strings."
      ],
      "metadata": {
        "id": "45NQ1qaFp4po"
      }
    }
  ]
}