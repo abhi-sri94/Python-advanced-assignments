{
  "nbformat": 4,
  "nbformat_minor": 0,
  "metadata": {
    "colab": {
      "provenance": [],
      "toc_visible": true
    },
    "kernelspec": {
      "name": "python3",
      "display_name": "Python 3"
    },
    "language_info": {
      "name": "python"
    }
  },
  "cells": [
    {
      "cell_type": "markdown",
      "source": [
        "#Question 1\n",
        "\n",
        "What are the benefits of the built-in array package, if any?\n",
        "\n",
        "...............\n",
        "\n",
        "Answer 1 -\n",
        "\n",
        "The built-in array module in Python provides an array object that is more memory-efficient and faster than using regular lists for certain types of numeric data. It is particularly useful when dealing with large datasets of homogeneous numerical values, such as integers or floating-point numbers. Here are some benefits of using the array module:\n",
        "\n",
        "1) **Memory Efficiency**: The array module stores data more compactly in memory compared to regular lists. This is especially advantageous when dealing with large datasets, as it reduces memory consumption.\n",
        "\n",
        "2) **Performance** : The array module can provide faster performance for certain operations compared to lists. This is because the array type is more specialized for numerical data, leading to optimized memory access and calculations.\n",
        "\n",
        "3) **Data Type Control** : You can specify the data type (e.g., integer, float) of the elements in the array. This ensures that all elements are of the same type, improving efficiency and reducing the risk of type-related errors.\n",
        "\n",
        "4) **Efficient Manipulation** : The array module supports various array manipulation operations, such as slicing, indexing, and element-wise operations, similar to lists.\n",
        "\n",
        "5) **Interoperability** : The array module provides interoperability with C and other low-level languages, which can be beneficial when integrating Python with external libraries or systems.\n",
        "\n",
        "6) **Typecode** : The array module uses a single character, called a typecode, to represent the data type of elements. This simplifies the process of creating arrays with specific data types.\n",
        "\n",
        "Here's a simple example of using the array module to create an array of integers:"
      ],
      "metadata": {
        "id": "mAUVMiBT6Gll"
      }
    },
    {
      "cell_type": "code",
      "source": [
        "import array\n",
        "\n",
        "# Create an array of integers\n",
        "int_array = array.array('i', [1, 2, 3, 4, 5])\n",
        "\n",
        "print(int_array)"
      ],
      "metadata": {
        "colab": {
          "base_uri": "https://localhost:8080/"
        },
        "id": "Rfeflk4A6gKP",
        "outputId": "0ce51ddf-d53a-4d0d-fc82-09dfb2719193"
      },
      "execution_count": 1,
      "outputs": [
        {
          "output_type": "stream",
          "name": "stdout",
          "text": [
            "array('i', [1, 2, 3, 4, 5])\n"
          ]
        }
      ]
    },
    {
      "cell_type": "markdown",
      "source": [
        "#Question 2\n",
        "\n",
        "What are some of the array package's limitations?\n",
        "\n",
        "..............\n",
        "\n",
        "Answer 2 -\n",
        "\n",
        "The built-in array module in Python offers memory-efficient and performance benefits for certain types of numerical data. However, it also has some limitations and considerations that you should be aware of:\n",
        "\n",
        "1) **Homogeneous Data Type** : The array module requires all elements in the array to be of the same data type. This limitation restricts the flexibility of working with mixed data types within a single array.\n",
        "\n",
        "2) **Fixed Size** : Once an array is created, its size is fixed and cannot be dynamically resized. Adding or removing elements from an array requires creating a new array and copying the data, which can be less efficient for dynamic operations compared to lists.\n",
        "\n",
        "3) **Limited Functionality** : While arrays support basic array-like operations such as slicing and indexing, they offer less functionality compared to lists. Lists have a richer set of built-in methods and functions for manipulation, searching, and sorting.\n",
        "\n",
        "4) **No Built-in Methods** : Arrays do not have the same built-in methods that lists have, such as **.append()** , **.extend()** , and **.remove()** . This can make certain operations less convenient with arrays.\n",
        "\n",
        "5) **Typecode Complexity** : The use of a single character typecode to represent data types can be less intuitive than using type names in lists. Users need to remember the appropriate typecode for their desired data type.\n",
        "\n",
        "6) **Limited Data Types** : The array module supports a predefined set of data types, which might not cover all possible data types needed for specific applications.\n",
        "\n",
        "7) **Interoperability Restrictions** : While arrays offer interoperability with C and other low-level languages, this feature might not be relevant for all Python applications.\n",
        "\n",
        "8) **Not as Commonly Used** : Lists are the more commonly used data structure in Python due to their general-purpose nature and greater flexibility. As a result, developers may be more familiar with lists and their methods."
      ],
      "metadata": {
        "id": "DugyZxu_6j0o"
      }
    },
    {
      "cell_type": "markdown",
      "source": [
        "#Question 3\n",
        "\n",
        "Describe the main differences between the array and numpy packages.\n",
        "\n",
        "...............\n",
        "\n",
        "Answer 3 -\n",
        "\n",
        "Both the built-in array module and the numpy package in Python provide ways to work with arrays of numerical data. However, there are significant differences between them in terms of functionality, features, and performance. Here are the main differences between the array module and numpy:\n",
        "\n",
        "1) **Functionality and Features** :\n",
        "\n",
        "- `array Module` : The array module provides a basic array object that is suitable for storing homogeneous numerical data of a specified type. It offers limited functionality compared to more comprehensive data structures like lists or dictionaries.\n",
        "\n",
        "- `numpy Package` : NumPy is a powerful scientific computing library that introduces a powerful multi-dimensional array object, called ndarray. It provides a wide range of functions and operations for numerical computations, linear algebra, Fourier analysis, and more. NumPy arrays can be used for various data types and support advanced indexing, slicing, broadcasting, and element-wise operations.\n",
        "\n",
        "2) **Ease of Use** :\n",
        "\n",
        "- `array Module` : The array module is straightforward to use for simple cases, but its functionality is limited compared to NumPy. It may not provide the convenience and advanced features needed for complex numerical computations.\n",
        "\n",
        "- `numpy Package` : NumPy offers a comprehensive and user-friendly API that simplifies complex numerical tasks. Its functions and methods are optimized for performance and are designed to work seamlessly with arrays of various dimensions and data types.\n",
        "\n",
        "3) **Performance** :\n",
        "\n",
        "- `array Module` : The array module provides memory-efficient storage for numerical data, but its performance optimizations are limited compared to NumPy.\n",
        "\n",
        "- `numpy Package` : NumPy is highly optimized for performance and is implemented in C and Fortran, making it significantly faster for numerical operations compared to the array module. NumPy's array operations are vectorized, allowing for efficient element-wise computations.\n",
        "\n",
        "4) **Community and Ecosystem** :\n",
        "\n",
        "- `array Module` : The array module is part of the Python standard library and is available in all Python installations by default. However, it lacks the extensive ecosystem and community support that NumPy offers.\n",
        "\n",
        "- `numpy Package` : NumPy is widely used in the scientific and data analysis communities. It has a large and active user community, extensive documentation, and a rich ecosystem of related libraries for data manipulation, visualization, and machine learning."
      ],
      "metadata": {
        "id": "GdFNOj3_7LYf"
      }
    },
    {
      "cell_type": "markdown",
      "source": [
        "#Question 4\n",
        "\n",
        "Explain the distinctions between the empty, ones, and zeros functions.\n",
        "\n",
        "...............\n",
        "\n",
        "Answer 4 -\n",
        "\n",
        "In NumPy, the functions empty, ones, and zeros are used to create arrays with different initial values. Here are the distinctions between these functions:\n",
        "\n",
        "1) **numpy.empty(shape, dtype=float, order='C')** :\n",
        "\n",
        "- This function creates a new array with uninitialized or random values. The actual values in the array are whatever happens to already exist in the memory at the allocated location.\n",
        "\n",
        "- The `shape` parameter specifies the dimensions of the array, such as (rows, columns).\n",
        "\n",
        "- The `dtype` parameter specifies the data type of the elements in the array.\n",
        "\n",
        "- The `order` parameter specifies the memory layout of the array, either 'C' for C-style row-major or 'F' for Fortran-style column-major.\n",
        "\n",
        "Example:"
      ],
      "metadata": {
        "id": "mEoCivg57xR1"
      }
    },
    {
      "cell_type": "code",
      "source": [
        "import numpy as np\n",
        "empty_array = np.empty((2, 3), dtype=int)"
      ],
      "metadata": {
        "id": "Xy2F6BBN8Jvz"
      },
      "execution_count": 2,
      "outputs": []
    },
    {
      "cell_type": "markdown",
      "source": [
        "2) **numpy.ones(shape, dtype=None, order='C')** :\n",
        "\n",
        "- This function creates a new array with all elements initialized to 1.\n",
        "\n",
        "- The `shape` parameter specifies the dimensions of the array.\n",
        "\n",
        "- The `dtype` parameter specifies the data type of the elements in the array.\n",
        "\n",
        "- The `order` parameter specifies the memory layout of the array.\n",
        "\n",
        "Example:"
      ],
      "metadata": {
        "id": "eD3RwINZ8NUT"
      }
    },
    {
      "cell_type": "code",
      "source": [
        "import numpy as np\n",
        "ones_array = np.ones((3, 4), dtype=float)"
      ],
      "metadata": {
        "id": "gzaCyiL58MZm"
      },
      "execution_count": 3,
      "outputs": []
    },
    {
      "cell_type": "markdown",
      "source": [
        "3) **numpy.zeros(shape, dtype=None, order='C')** :\n",
        "\n",
        "- This function creates a new array with all elements initialized to 0.\n",
        "\n",
        "- The `shape` parameter specifies the dimensions of the array.\n",
        "\n",
        "- The `dtype` parameter specifies the data type of the elements in the array.\n",
        "\n",
        "- The `order` parameter specifies the memory layout of the array.\n",
        "\n",
        "Example:"
      ],
      "metadata": {
        "id": "ZTIcWFN18YBR"
      }
    },
    {
      "cell_type": "code",
      "source": [
        "import numpy as np\n",
        "zeros_array = np.zeros((4, 2), dtype=int)"
      ],
      "metadata": {
        "id": "cUBr8e_18zEI"
      },
      "execution_count": 5,
      "outputs": []
    },
    {
      "cell_type": "markdown",
      "source": [
        "#Question 5\n",
        "\n",
        "In the fromfunction function, which is used to construct new arrays, what is the role of the callable\n",
        "argument?\n",
        "\n",
        "...............\n",
        "\n",
        "Answer 5 -\n",
        "\n",
        "The `fromfunction` function in NumPy is used to construct new arrays by applying a given function to each coordinate of the array. The role of the `callable` argument in the fromfunction function is to specify the function that will be applied to each coordinate to determine the values of the resulting array.\n",
        "\n",
        "Here's a simple example to demonstrate the role of the callable argument in the fromfunction function:"
      ],
      "metadata": {
        "id": "G2bjhlrH81tx"
      }
    },
    {
      "cell_type": "code",
      "source": [
        "import numpy as np\n",
        "\n",
        "# Define a function that takes two indices and returns their sum\n",
        "def my_function(i, j):\n",
        "    return i + j\n",
        "\n",
        "# Create a 3x3 array using the fromfunction function\n",
        "result_array = np.fromfunction(my_function, (3, 3))\n",
        "\n",
        "print(result_array)"
      ],
      "metadata": {
        "colab": {
          "base_uri": "https://localhost:8080/"
        },
        "id": "-q-4uLa79U5j",
        "outputId": "f85e76b3-8267-4992-c90d-ed5e6e40838b"
      },
      "execution_count": 6,
      "outputs": [
        {
          "output_type": "stream",
          "name": "stdout",
          "text": [
            "[[0. 1. 2.]\n",
            " [1. 2. 3.]\n",
            " [2. 3. 4.]]\n"
          ]
        }
      ]
    },
    {
      "cell_type": "markdown",
      "source": [
        "The callable argument allows you to define complex functions that determine the values of the resulting array based on the indices of the array. This can be useful for generating arrays with specific patterns or mathematical relationships."
      ],
      "metadata": {
        "id": "0dhqsM4G9YMR"
      }
    },
    {
      "cell_type": "markdown",
      "source": [
        "#Question 6\n",
        "\n",
        "What happens when a numpy array is combined with a single-value operand (a scalar, such as an int or a floating-point value) through addition, as in the expression A + n?\n",
        "\n",
        ".................\n",
        "\n",
        "Answer 6 -\n",
        "\n",
        "When a NumPy array is combined with a single-value operand (a scalar) through addition, the scalar value is broadcasted to all elements of the array, and element-wise addition is performed. This operation is known as broadcasting, and it allows you to perform operations between arrays and scalars without explicitly looping through the array elements.\n",
        "\n",
        "Here's what happens step by step when you perform the operation `A + n` , where `A` is a `NumPy` array and `n` is a `scalar` value:\n",
        "\n",
        "a) The scalar value n is broadcasted to match the shape of the array A. This means that the scalar is replicated along the dimensions of the array so that its shape matches the shape of A.\n",
        "\n",
        "b) Element-wise addition is performed between the corresponding elements of the array A and the broadcasted scalar value n.\n",
        "\n",
        "c) The resulting array has the same shape as the original array A, and each element is the sum of the corresponding element in A and the scalar value n.\n",
        "\n",
        "Here's an example to illustrate this:"
      ],
      "metadata": {
        "id": "jc2D879E9bjq"
      }
    },
    {
      "cell_type": "code",
      "source": [
        "import numpy as np\n",
        "\n",
        "A = np.array([[1, 2, 3],\n",
        "              [4, 5, 6]])\n",
        "\n",
        "n = 10\n",
        "\n",
        "result = A + n\n",
        "\n",
        "print(result)"
      ],
      "metadata": {
        "colab": {
          "base_uri": "https://localhost:8080/"
        },
        "id": "c6lIIxlH-Qp7",
        "outputId": "314bfc15-af0c-4e3d-fc66-2c38ceac8b8f"
      },
      "execution_count": 7,
      "outputs": [
        {
          "output_type": "stream",
          "name": "stdout",
          "text": [
            "[[11 12 13]\n",
            " [14 15 16]]\n"
          ]
        }
      ]
    },
    {
      "cell_type": "markdown",
      "source": [
        "Broadcasting is a powerful feature of NumPy that simplifies operations involving arrays and scalars by eliminating the need for explicit loops."
      ],
      "metadata": {
        "id": "wlkiOLvV-Wex"
      }
    },
    {
      "cell_type": "markdown",
      "source": [
        "#Question 7\n",
        "\n",
        "Can array-to-scalar operations use combined operation-assign operators (such as += or *=)?\n",
        "What is the outcome?\n",
        "\n",
        "...............\n",
        "\n",
        "Answer 7 -\n",
        "\n",
        "Yes, array-to-scalar operations can use combined operation-assign operators (such as `+=` , `*=`). When you use combined operation-assign operators with a NumPy array and a scalar value, the operation is applied element-wise to all elements of the array, and the result is stored back in the original array.\n",
        "\n",
        "Here's an example to demonstrate the outcome of using combined operation-assign operators with a NumPy array and a scalar:"
      ],
      "metadata": {
        "id": "XjVECogs-Xs4"
      }
    },
    {
      "cell_type": "code",
      "source": [
        "import numpy as np\n",
        "\n",
        "A = np.array([[1, 2, 3],\n",
        "              [4, 5, 6]])\n",
        "\n",
        "n = 2\n",
        "\n",
        "A += n\n",
        "print(A)"
      ],
      "metadata": {
        "colab": {
          "base_uri": "https://localhost:8080/"
        },
        "id": "VLmpzFcO-SjW",
        "outputId": "d07f183c-1565-45aa-b750-48f5d3b10275"
      },
      "execution_count": 8,
      "outputs": [
        {
          "output_type": "stream",
          "name": "stdout",
          "text": [
            "[[3 4 5]\n",
            " [6 7 8]]\n"
          ]
        }
      ]
    },
    {
      "cell_type": "markdown",
      "source": [
        "In this example, the `+=` operator is used to add the scalar value `n` (which is 2) to each element of the array `A` . As a result, every element in the array is increased by 2.\n",
        "\n",
        "Similarly, you can use other combined operation-assign operators like `-=` , `*=` , `/=` , etc., to perform element-wise operations between the array and the scalar, and the changes will be applied directly to the array."
      ],
      "metadata": {
        "id": "wrXgTzrE-t6m"
      }
    },
    {
      "cell_type": "markdown",
      "source": [
        "#Question 8\n",
        "\n",
        "Does a numpy array contain fixed-length strings? What happens if you allocate a longer string to\n",
        "one of these arrays?\n",
        "\n",
        "...............\n",
        "\n",
        "Answer 8 -\n",
        "\n",
        "Yes, a NumPy array can contain fixed-length strings. When you create a NumPy array with a specified data type, you can use the `S` or `U` type specifier to indicate a fixed-length ASCII string or Unicode string, respectively.\n",
        "\n",
        "For example, to create an array of fixed-length ASCII strings with a length of 5 characters, you can use the following code:"
      ],
      "metadata": {
        "id": "5ie_DEfp_GRi"
      }
    },
    {
      "cell_type": "code",
      "source": [
        "import numpy as np\n",
        "\n",
        "# Create an array of fixed-length ASCII strings\n",
        "string_array = np.array(['apple', 'banana', 'cherry'], dtype='S5')\n",
        "\n",
        "print(string_array)"
      ],
      "metadata": {
        "colab": {
          "base_uri": "https://localhost:8080/"
        },
        "id": "mFKku3gh-sr-",
        "outputId": "ebf76679-c416-4c1d-ebe6-3b7712588486"
      },
      "execution_count": 11,
      "outputs": [
        {
          "output_type": "stream",
          "name": "stdout",
          "text": [
            "[b'apple' b'banan' b'cherr']\n"
          ]
        }
      ]
    },
    {
      "cell_type": "markdown",
      "source": [
        "If you attempt to allocate a longer string to an element of a fixed-length string array, NumPy will truncate the string to fit the specified length. No error or warning will be raised; instead, the extra characters will be ignored. Here's an example:"
      ],
      "metadata": {
        "id": "fdB13rfL_z1e"
      }
    },
    {
      "cell_type": "code",
      "source": [
        "import numpy as np\n",
        "\n",
        "string_array = np.array(['apple', 'banana', 'cherry'], dtype='S5')\n",
        "\n",
        "# Attempt to allocate a longer string\n",
        "string_array[1] = 'grapefruit'\n",
        "\n",
        "print(string_array)"
      ],
      "metadata": {
        "colab": {
          "base_uri": "https://localhost:8080/"
        },
        "id": "k_puj_RQ_VcI",
        "outputId": "e98feeb4-90a2-4feb-c0fe-c33a38a2bd8f"
      },
      "execution_count": 12,
      "outputs": [
        {
          "output_type": "stream",
          "name": "stdout",
          "text": [
            "[b'apple' b'grape' b'cherr']\n"
          ]
        }
      ]
    },
    {
      "cell_type": "markdown",
      "source": [
        "In this example, the string `'grapefruit'` is longer than the specified length of 5 characters. As a result, the string is truncated to fit the length, and only the first 5 characters are stored in the array."
      ],
      "metadata": {
        "id": "HxME_uyt_-Cr"
      }
    },
    {
      "cell_type": "markdown",
      "source": [
        "#Question 9\n",
        "\n",
        "What happens when you combine two numpy arrays using an operation like addition (`+`) or multiplication (`*`)? What are the conditions for combining two numpy arrays?\n",
        "\n",
        "...............\n",
        "\n",
        "Answer 9 -\n",
        "\n",
        "When you combine two NumPy arrays using operations like addition (+) or multiplication (*), the arrays are combined element-wise based on their shapes. The conditions for combining two NumPy arrays are that their shapes should be compatible for element-wise operations. Compatibility generally means that the arrays should have the same shape or compatible dimensions, allowing the operation to be performed element by element.\n",
        "\n",
        "Here's how addition and multiplication of two NumPy arrays work:\n",
        "\n",
        "1) **Addition (`+`)** :\n",
        "\n",
        "- When you add two arrays of the same shape, element-wise addition is performed.\n",
        "\n",
        "- If the arrays have different shapes but are broadcastable to a common shape, broadcasting rules are applied, and element-wise addition is performed.\n",
        "\n",
        "- If the arrays have incompatible shapes, a `ValueError` will be raised.\n",
        "\n",
        "Example:"
      ],
      "metadata": {
        "id": "svZsu4IbADQV"
      }
    },
    {
      "cell_type": "code",
      "source": [
        "import numpy as np\n",
        "\n",
        "A = np.array([[1, 2], [3, 4]])\n",
        "B = np.array([[5, 6], [7, 8]])\n",
        "\n",
        "result = A + B"
      ],
      "metadata": {
        "id": "s8lSsd2uAVTF"
      },
      "execution_count": 14,
      "outputs": []
    },
    {
      "cell_type": "markdown",
      "source": [
        "2) **Multiplication (`*`)**:\n",
        "\n",
        "- When you multiply two arrays of the same shape, element-wise multiplication is performed.\n",
        "\n",
        "- If the arrays have different shapes but are broadcastable to a common shape, broadcasting rules are applied, and element-wise multiplication is performed.\n",
        "\n",
        "- If the arrays have incompatible shapes, a ValueError will be raised.\n",
        "\n",
        "Example:"
      ],
      "metadata": {
        "id": "3YXXD4dqAcJ3"
      }
    },
    {
      "cell_type": "code",
      "source": [
        "import numpy as np\n",
        "\n",
        "A = np.array([[1, 2], [3, 4]])\n",
        "B = np.array([[5, 6], [7, 8]])\n",
        "\n",
        "result = A * B"
      ],
      "metadata": {
        "id": "SmooFjWYAY6c"
      },
      "execution_count": 15,
      "outputs": []
    },
    {
      "cell_type": "markdown",
      "source": [
        "In both cases, if the shapes of the arrays are not compatible for element-wise operations or broadcasting, you will encounter an error. Broadcasting is a powerful feature that allows NumPy to perform operations between arrays of different shapes, as long as certain compatibility conditions are met. You can refer to the NumPy documentation for detailed information on broadcasting rules and array shapes."
      ],
      "metadata": {
        "id": "InpsqDAnAoZT"
      }
    },
    {
      "cell_type": "markdown",
      "source": [
        "#Question 10\n",
        "\n",
        "What is the best way to use a Boolean array to mask another array?\n",
        "\n",
        ".................\n",
        "\n",
        "Answer 10 -\n",
        "\n",
        "Using a Boolean array to mask another array is a common operation in NumPy, and it allows you to selectively manipulate or extract elements from an array based on the Boolean values. The process involves creating a Boolean mask array and then applying it to the original array. Here's how you can do it:\n",
        "\n",
        "1) **Create a Boolean Mask Array** : Create a Boolean array with the same shape as the array you want to mask. The Boolean values in the mask indicate whether the corresponding elements in the original array should be included or excluded based on the condition you want to apply.\n",
        "\n",
        "2) **Apply the Mask** : Use the Boolean mask array to index the original array. This will result in a new array that contains only the elements for which the corresponding mask value is `True` .\n",
        "\n",
        "Here's an example to illustrate the process:"
      ],
      "metadata": {
        "id": "hwiSicr4Arrn"
      }
    },
    {
      "cell_type": "code",
      "source": [
        "import numpy as np\n",
        "\n",
        "# Original array\n",
        "data = np.array([10, 20, 30, 40, 50])\n",
        "\n",
        "# Boolean mask array\n",
        "mask = np.array([True, False, True, False, True])\n",
        "\n",
        "# Apply the mask to the original array\n",
        "masked_data = data[mask]\n",
        "\n",
        "print(masked_data)"
      ],
      "metadata": {
        "colab": {
          "base_uri": "https://localhost:8080/"
        },
        "id": "fCnmdUfiAnrh",
        "outputId": "6eb8f8e1-7261-4d08-c8b7-c0ff3e3b5995"
      },
      "execution_count": 17,
      "outputs": [
        {
          "output_type": "stream",
          "name": "stdout",
          "text": [
            "[10 30 50]\n"
          ]
        }
      ]
    },
    {
      "cell_type": "markdown",
      "source": [
        "In this example, the elements corresponding to `True` values in the mask array are included in the `masked_data` array. The `masked_data` array contains only the elements 10, 30, and 50 from the original `data` array.\n",
        "\n",
        "You can also perform various operations using the Boolean mask, such as modifying elements in the original array based on certain conditions, calculating statistics for selected elements, or even updating elements based on the mask.\n",
        "\n",
        "NumPy's ability to use Boolean arrays as masks provides a powerful and flexible way to perform data manipulations and selections efficiently."
      ],
      "metadata": {
        "id": "wSRE_yLeBFVJ"
      }
    },
    {
      "cell_type": "markdown",
      "source": [
        "#Question 11\n",
        "\n",
        "What are three different ways to get the standard deviation of a wide collection of data using\n",
        "both standard Python and its packages? Sort the three of them by how quickly they execute.\n",
        "\n",
        "................\n",
        "\n",
        "Answer 11 -\n",
        "\n",
        "Calculating the standard deviation of a collection of data can be done using both standard Python and its packages. Here are three different ways to calculate the standard deviation, sorted by their execution speed:\n",
        "\n",
        "1) **NumPy Package (`Fastest`)** :\n",
        "Using the `numpy` package, which is highly optimized for numerical operations, is one of the fastest ways to calculate the standard deviation of a collection of data. NumPy provides the **numpy.std()** function that computes the standard deviation of an array."
      ],
      "metadata": {
        "id": "_yqTVA2IBPov"
      }
    },
    {
      "cell_type": "code",
      "source": [
        "import numpy as np\n",
        "\n",
        "data = np.array([10, 20, 30, 40, 50])\n",
        "std_deviation = np.std(data)"
      ],
      "metadata": {
        "id": "y1j1rwTFBABs"
      },
      "execution_count": 19,
      "outputs": []
    },
    {
      "cell_type": "markdown",
      "source": [
        "2) **Statistics Package (`Fast`)** :\n",
        "The `statistics` package is part of the Python standard library and provides various statistical functions, including the **statistics.stdev()** function to calculate the standard deviation. While it might not be as fast as numpy, it is still a relatively quick option."
      ],
      "metadata": {
        "id": "iZoOmt2bBqZ_"
      }
    },
    {
      "cell_type": "code",
      "source": [
        "import statistics\n",
        "\n",
        "data = [10, 20, 30, 40, 50]\n",
        "std_deviation = statistics.stdev(data)"
      ],
      "metadata": {
        "id": "zqSFXiFBBo4R"
      },
      "execution_count": 20,
      "outputs": []
    },
    {
      "cell_type": "markdown",
      "source": [
        "3) **Pure Python Implementation (`Slower`)** :\n",
        "You can also calculate the standard deviation using a pure Python implementation. However, this method is slower compared to using specialized libraries like `numpy` and `statistics` , especially for large datasets."
      ],
      "metadata": {
        "id": "PtS3FEN5B-Yx"
      }
    },
    {
      "cell_type": "code",
      "source": [
        "def calculate_std_deviation(data):\n",
        "    mean = sum(data) / len(data)\n",
        "    squared_diff = [(x - mean) ** 2 for x in data]\n",
        "    variance = sum(squared_diff) / len(data)\n",
        "    std_deviation = variance ** 0.5\n",
        "    return std_deviation\n",
        "\n",
        "data = [10, 20, 30, 40, 50]\n",
        "std_deviation = calculate_std_deviation(data)"
      ],
      "metadata": {
        "id": "migzhQiGB9Er"
      },
      "execution_count": 21,
      "outputs": []
    },
    {
      "cell_type": "markdown",
      "source": [
        "#Question 12\n",
        "\n",
        "What is the dimensionality of a Boolean mask-generated array?\n",
        "\n",
        "................\n",
        "\n",
        "Answer 12 -\n",
        "\n",
        "The dimensionality of a Boolean mask-generated array is the same as the dimensionality of the original array that the mask is applied to. In other words, the shape and number of dimensions of the mask-generated array will match the shape and number of dimensions of the original array.\n",
        "\n",
        "When you use a Boolean mask to index an array, it selects elements from the original array based on the `True` values in the mask. The resulting mask-generated array will have the same dimensions as the original array, but it will contain only the elements that correspond to the `True` values in the mask.\n",
        "\n",
        "Here's an example to illustrate this:"
      ],
      "metadata": {
        "id": "L-bcb3_gCPR7"
      }
    },
    {
      "cell_type": "code",
      "source": [
        "import numpy as np\n",
        "\n",
        "# Original array\n",
        "data = np.array([[10, 20, 30],\n",
        "                 [40, 50, 60],\n",
        "                 [70, 80, 90]])\n",
        "\n",
        "# Boolean mask array\n",
        "mask = np.array([[True, False, True],\n",
        "                 [False, True, False],\n",
        "                 [True, False, True]])\n",
        "\n",
        "# Apply the mask to the original array\n",
        "masked_data = data[mask]\n",
        "\n",
        "print(masked_data)\n",
        "print(masked_data.shape)"
      ],
      "metadata": {
        "colab": {
          "base_uri": "https://localhost:8080/"
        },
        "id": "-od1zOZdCJpH",
        "outputId": "1060e0db-4c3e-4b7f-a34e-8e450d79743b"
      },
      "execution_count": 22,
      "outputs": [
        {
          "output_type": "stream",
          "name": "stdout",
          "text": [
            "[10 30 50 70 90]\n",
            "(5,)\n"
          ]
        }
      ]
    }
  ]
}