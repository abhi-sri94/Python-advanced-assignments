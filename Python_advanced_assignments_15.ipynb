{
  "nbformat": 4,
  "nbformat_minor": 0,
  "metadata": {
    "colab": {
      "provenance": [],
      "toc_visible": true
    },
    "kernelspec": {
      "name": "python3",
      "display_name": "Python 3"
    },
    "language_info": {
      "name": "python"
    }
  },
  "cells": [
    {
      "cell_type": "markdown",
      "source": [
        "#Question 1\n",
        "\n",
        "What are the new features added in Python 3.8 version?\n",
        "\n",
        ".............\n",
        "\n",
        "Answer 1 -\n",
        "\n",
        "Some of the notable features added in Python 3.8 include:\n",
        "\n",
        "1) **Assignment Expressions (:= Operator)** : Python 3.8 introduced the \"`walrus operator`\" (`:=`), which allows you to assign values to variables as part of an expression. This is particularly useful in list comprehensions, lambda functions, and other contexts where you want to combine assignment and computation.\n",
        "\n",
        "2) **Positional-Only Parameters** : Python 3.8 introduced support for defining `positional-only` parameters in function signatures using the `/` syntax. This provides more control over how function arguments can be passed.\n",
        "\n",
        "3) **f-string Improvements**: F-strings (`formatted string literals`) gained new features, including the ability to use the `=` character to display both the variable name and its value in debug output.\n",
        "\n",
        "4) **future Annotations** : New **`__future__`** annotations were introduced to make it easier to enable and test upcoming language features before they become the default behavior.\n",
        "\n",
        "5) **TypedDict** : The typing module introduced the `TypedDict` class, which allows you to define dictionaries with a specific set of keys and value types, providing better type checking and documentation.\n",
        "\n",
        "6) **Syntax Warnings** : Python 3.8 introduced new syntax warnings for cases where the code uses features that are being deprecated or changed in future Python versions.\n",
        "\n",
        "7) **New Syntax Features** : Python 3.8 added the `continue` statement in a `finally` block, allowing you to skip the remaining code in the finally block and continue with the loop.\n",
        "\n",
        "8) **Math Functions Improvements** : The math module was extended with new functions, including **math.prod()** for computing the product of iterable elements.\n",
        "\n",
        "9) **Performance Optimizations** : Python 3.8 included various performance improvements, such as optimized built-in functions and faster dictionary operations.\n",
        "\n",
        "10) **future Annotations** : Python 3.8 introduced the ability to use **`__future__`** annotations to enable or disable specific language features, allowing developers to use upcoming syntax and behavior in an opt-in manner."
      ],
      "metadata": {
        "id": "KGLPiGSOts-6"
      }
    },
    {
      "cell_type": "markdown",
      "source": [
        "#Question 2\n",
        "\n",
        "What is monkey patching in Python?\n",
        "\n",
        "..............\n",
        "\n",
        "Answer 2 -\n",
        "\n",
        "Monkey patching in Python refers to the practice of dynamically modifying or extending classes, modules, or functions at runtime. It involves altering the behavior of existing code, often to add new features, fix bugs, or modify the behavior of third-party libraries without directly modifying their source code.\n",
        "\n",
        "Monkey patching can be a powerful technique, but it should be used with caution because it can lead to unexpected behavior, compatibility issues, and difficulties in debugging. It's generally considered good practice to avoid monkey patching whenever possible and to use more structured and maintainable approaches, such as subclassing, composition, or creating wrappers.\n",
        "\n",
        "Here's an example of monkey patching in Python:"
      ],
      "metadata": {
        "id": "WkTrJs9Sx4fh"
      }
    },
    {
      "cell_type": "code",
      "source": [
        "# Original class definition\n",
        "class MyClass:\n",
        "    def original_method(self):\n",
        "        return \"Original method\"\n",
        "\n",
        "# Monkey patching: Adding a new method to the class\n",
        "def new_method(self):\n",
        "    return \"New method\"\n",
        "\n",
        "MyClass.new_method = new_method\n",
        "\n",
        "# Creating an instance of the class\n",
        "obj = MyClass()\n",
        "\n",
        "# Calling the new method\n",
        "print(obj.new_method())"
      ],
      "metadata": {
        "colab": {
          "base_uri": "https://localhost:8080/"
        },
        "id": "Ncn4bmuoxe5o",
        "outputId": "aaee29c6-0df2-47a5-e999-2c9fabb6322c"
      },
      "execution_count": 2,
      "outputs": [
        {
          "output_type": "stream",
          "name": "stdout",
          "text": [
            "New method\n"
          ]
        }
      ]
    },
    {
      "cell_type": "markdown",
      "source": [
        "#Question 3\n",
        "\n",
        "What is the difference between a shallow copy and deep copy?\n",
        "\n",
        "...............\n",
        "\n",
        "Answer 3 -\n",
        "\n",
        "The terms \"shallow copy\" and \"deep copy\" refer to two different ways of copying objects, especially when dealing with nested or composite objects (objects that contain other objects). The key distinction between them lies in how they handle the copying of the nested objects.\n",
        "\n",
        "1) **Shallow Copy** :\n",
        "A shallow copy creates a new object, but does not create copies of the objects contained within the original object. Instead, it copies references to the nested objects. In other words, the copied object and the original object will share the same nested objects.\n",
        "\n",
        "Shallow copies are created using methods like **copy()** in Python's `copy` module or by using `slicing` .\n",
        "\n",
        "Example of shallow copy:"
      ],
      "metadata": {
        "id": "dkWixGo-yIEq"
      }
    },
    {
      "cell_type": "code",
      "source": [
        "import copy\n",
        "\n",
        "original_list = [[1, 2, 3], [4, 5, 6]]\n",
        "shallow_copied_list = copy.copy(original_list)\n",
        "\n",
        "# Both lists share the same nested lists\n",
        "print(shallow_copied_list[0] is original_list[0])"
      ],
      "metadata": {
        "colab": {
          "base_uri": "https://localhost:8080/"
        },
        "id": "PyOAGRnnyCk8",
        "outputId": "0e9ce561-dd08-4fd6-92eb-2284e5fb1fae"
      },
      "execution_count": 8,
      "outputs": [
        {
          "output_type": "stream",
          "name": "stdout",
          "text": [
            "True\n"
          ]
        }
      ]
    },
    {
      "cell_type": "markdown",
      "source": [
        "2) **Deep Copy**: A deep copy creates a new object and recursively creates copies of all objects contained within the original object, including nested objects. This results in a fully independent copy of the original object and all its nested objects.\n",
        "\n",
        "Deep copies are created using methods like **deepcopy()** in Python's `copy` module.\n",
        "\n",
        "Example of deep copy:"
      ],
      "metadata": {
        "id": "Zj_rIMCpyYcI"
      }
    },
    {
      "cell_type": "code",
      "source": [
        "import copy\n",
        "\n",
        "original_list = [[1, 2, 3], [4, 5, 6]]\n",
        "deep_copied_list = copy.deepcopy(original_list)\n",
        "\n",
        "# Nested lists are also independent copies\n",
        "print(deep_copied_list[0] is original_list[0])"
      ],
      "metadata": {
        "colab": {
          "base_uri": "https://localhost:8080/"
        },
        "id": "p3QBCs7hyViO",
        "outputId": "6cddff87-dbcf-48cc-9936-4d30b253641e"
      },
      "execution_count": 4,
      "outputs": [
        {
          "output_type": "stream",
          "name": "stdout",
          "text": [
            "False\n"
          ]
        }
      ]
    },
    {
      "cell_type": "markdown",
      "source": [
        "#Question 4\n",
        "\n",
        "What is the maximum possible length of an identifier?\n",
        "\n",
        "..............\n",
        "\n",
        "Answer 4 -\n",
        "\n",
        "In Python, the maximum possible length of an identifier (variable name, function name, etc.) is not explicitly defined by a fixed number of characters. Instead, it depends on the implementation of the Python interpreter you are using. However, most Python implementations, including the standard CPython implementation, have a practical limit for identifiers.\n",
        "\n",
        "In CPython (the most widely used and reference implementation of Python), the maximum length of an identifier is typically determined by the maximum length of a `C` identifier, which is `63 characters` . This limit is due to how CPython internally represents identifiers and objects.\n",
        "\n",
        "It's worth noting that while the maximum length of an identifier is relatively large, it's generally recommended to keep variable and function names concise and meaningful for the sake of code readability and maintainability. Extremely long identifiers can make your code harder to understand.\n",
        "\n"
      ],
      "metadata": {
        "id": "_J0DLovyyp3j"
      }
    },
    {
      "cell_type": "markdown",
      "source": [
        "#Question 5\n",
        "\n",
        "What is generator comprehension?\n",
        "\n",
        "..............\n",
        "\n",
        "Answer 5 -\n",
        "\n",
        "A generator comprehension, also known as a generator expression, is a concise and memory-efficient way to create a generator in Python. It is similar to a list comprehension, but instead of creating a list, it creates a generator object. Generator comprehensions are particularly useful when you want to generate a sequence of values on-the-fly without storing them all in memory.\n",
        "\n",
        "The syntax of a generator comprehension is similar to that of a list comprehension, but it uses parentheses `()` instead of square brackets `[]` . The main difference is that a generator comprehension doesn't generate all the values immediately; instead, it generates and yields values one at a time as needed.\n",
        "\n",
        "Here's the general syntax of a generator comprehension:"
      ],
      "metadata": {
        "id": "q3FwAQc3y7_Z"
      }
    },
    {
      "cell_type": "code",
      "source": [
        "generator_expression = (expression for variable in iterable if condition)"
      ],
      "metadata": {
        "id": "ZrBAHTMfzK1Q"
      },
      "execution_count": null,
      "outputs": []
    },
    {
      "cell_type": "markdown",
      "source": [
        "- `expression`: The value or computation you want to yield for each iteration.\n",
        "\n",
        "- `variable` : The variable that takes on values from the iterable.\n",
        "\n",
        "- `iterable` : The source of values for the generator.\n",
        "\n",
        "- `condition` : An optional condition that filters values from the iterable.\n",
        "\n",
        "Here's an example of a generator comprehension that generates the squares of numbers from 1 to 5:"
      ],
      "metadata": {
        "id": "vptCZpqyzNSj"
      }
    },
    {
      "cell_type": "code",
      "source": [
        "squares_generator = (x ** 2 for x in range(1, 6))\n",
        "\n",
        "for square in squares_generator:\n",
        "    print(square)"
      ],
      "metadata": {
        "colab": {
          "base_uri": "https://localhost:8080/"
        },
        "id": "hR2Lf66tzZ_E",
        "outputId": "302ae07f-09d8-4a8a-f5f7-c97225f22868"
      },
      "execution_count": 7,
      "outputs": [
        {
          "output_type": "stream",
          "name": "stdout",
          "text": [
            "1\n",
            "4\n",
            "9\n",
            "16\n",
            "25\n"
          ]
        }
      ]
    },
    {
      "cell_type": "markdown",
      "source": [
        "In this example, the generator comprehension (`x ** 2 for x in range(1, 6)`) generates and yields the squares of numbers from 1 to 5. When you iterate over `squares_generator` , it computes and yields one square value at a time, which is memory-efficient and suitable for large datasets."
      ],
      "metadata": {
        "id": "hPi2SecfzdlU"
      }
    },
    {
      "cell_type": "code",
      "source": [],
      "metadata": {
        "id": "CvmH6JO2zahJ"
      },
      "execution_count": null,
      "outputs": []
    }
  ]
}