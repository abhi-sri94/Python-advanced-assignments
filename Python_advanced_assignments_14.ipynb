{
  "nbformat": 4,
  "nbformat_minor": 0,
  "metadata": {
    "colab": {
      "provenance": [],
      "toc_visible": true
    },
    "kernelspec": {
      "name": "python3",
      "display_name": "Python 3"
    },
    "language_info": {
      "name": "python"
    }
  },
  "cells": [
    {
      "cell_type": "markdown",
      "source": [
        "#Question 1\n",
        "\n",
        "Is an assignment operator like += only for show? Is it possible that it would lead to faster results\n",
        "at the runtime?\n",
        "\n",
        "...............\n",
        "\n",
        "Answer 1 -\n",
        "\n",
        "The assignment operator `+=` is not just for show; it serves a practical purpose and can lead to more efficient code in terms of both readability and potentially runtime performance.\n",
        "\n",
        "The `+=` operator combines addition and assignment into a single operation. It updates the value of a variable by adding another value to it. This can lead to more concise and readable code, especially when you are repeatedly adding a value to a variable within a loop or an iterative process.\n",
        "\n",
        "From a runtime performance perspective, using += can sometimes lead to faster results compared to separate addition and assignment operations. This is because some programming languages and compilers can optimize the use of += to perform the addition operation more efficiently than if you were to write out the separate addition and assignment statements. The compiler might be able to generate more optimized machine code or bytecode that takes advantage of processor-level optimizations.\n",
        "\n",
        "However, the actual performance improvement can vary depending on the programming language, compiler, and the specific context in which the += operator is used. In some cases, the difference in performance might be negligible, while in others, it could be more noticeable. Modern compilers are quite sophisticated and perform various optimizations, so the impact of using += might not always be significant."
      ],
      "metadata": {
        "id": "gCIfZbhlAfsW"
      }
    },
    {
      "cell_type": "markdown",
      "source": [
        "#Question 2\n",
        "\n",
        "What is the smallest number of statements you&#39;d have to write in most programming languages to\n",
        "replace the Python expression a, b = a + b, a?\n",
        "\n",
        ".............\n",
        "\n",
        "Answer 2 -\n",
        "\n",
        "The Python expression `a , b = a + b` , a performs a simultaneous update of the variables `a` and `b` using tuple packing and unpacking. To achieve the same result in most programming languages, you would typically need at least two statements.\n",
        "\n",
        "Here's an example using Python and some other common programming languages:\n",
        "\n",
        "**`Python`** :"
      ],
      "metadata": {
        "id": "PJVD6ljQ1hwr"
      }
    },
    {
      "cell_type": "code",
      "source": [
        "a, b = a + b, a"
      ],
      "metadata": {
        "id": "25jjmueX2tBn"
      },
      "execution_count": null,
      "outputs": []
    },
    {
      "cell_type": "markdown",
      "source": [
        "**`Javascript`** :"
      ],
      "metadata": {
        "id": "Uo5hCx5w2wWi"
      }
    },
    {
      "cell_type": "code",
      "source": [
        "var temp = a + b;\n",
        "a = temp;\n",
        "b = a;"
      ],
      "metadata": {
        "id": "-4Ft7l-c24mx"
      },
      "execution_count": null,
      "outputs": []
    },
    {
      "cell_type": "markdown",
      "source": [
        "**`Java`** :"
      ],
      "metadata": {
        "id": "Z-lW6aS127Ji"
      }
    },
    {
      "cell_type": "code",
      "source": [
        "int temp = a + b;\n",
        "a = temp;\n",
        "b = a;"
      ],
      "metadata": {
        "id": "Xy4OAmKC3E50"
      },
      "execution_count": null,
      "outputs": []
    },
    {
      "cell_type": "markdown",
      "source": [
        "**`C++`**"
      ],
      "metadata": {
        "id": "6hZ1vJnm3F2E"
      }
    },
    {
      "cell_type": "code",
      "source": [
        "int temp = a + b;\n",
        "a = temp;\n",
        "b = a;"
      ],
      "metadata": {
        "id": "MnBfeysA3Je_"
      },
      "execution_count": null,
      "outputs": []
    },
    {
      "cell_type": "markdown",
      "source": [
        "**`C#`**"
      ],
      "metadata": {
        "id": "ER63Kpqy3PHV"
      }
    },
    {
      "cell_type": "code",
      "source": [
        "int temp = a + b;\n",
        "a = temp;\n",
        "b = a;"
      ],
      "metadata": {
        "id": "V2NaHFui3SX6"
      },
      "execution_count": null,
      "outputs": []
    },
    {
      "cell_type": "markdown",
      "source": [
        "**`Ruby`**"
      ],
      "metadata": {
        "id": "-rzToJwL3fnj"
      }
    },
    {
      "cell_type": "code",
      "source": [
        "temp = a + b\n",
        "a = temp\n",
        "b = a"
      ],
      "metadata": {
        "id": "TEUkEpno3g4u"
      },
      "execution_count": null,
      "outputs": []
    },
    {
      "cell_type": "markdown",
      "source": [
        "In all these examples, we're using an intermediate variable `temp` to store the sum of `a` and `b` , and then assigning it back to both `a` and `b` . This ensures that `a` is updated before it is assigned to `b` ."
      ],
      "metadata": {
        "id": "y2EvJLzq3vjh"
      }
    },
    {
      "cell_type": "markdown",
      "source": [
        "#Question 3\n",
        "\n",
        "In Python, what is the most effective way to set a list of 100 integers to 0?\n",
        "\n",
        "..............\n",
        "\n",
        "Answer 3 -\n",
        "\n",
        "The most effective way to set a list of 100 integers to 0 in Python is to use a list comprehension. Here's how you can do it:"
      ],
      "metadata": {
        "id": "L18DY6DH36z6"
      }
    },
    {
      "cell_type": "code",
      "source": [
        "my_list = [0] * 100\n",
        "\n",
        "print(my_list)"
      ],
      "metadata": {
        "colab": {
          "base_uri": "https://localhost:8080/"
        },
        "id": "IlP4J4DH34ZU",
        "outputId": "62b60167-6d90-4b66-fd69-90014a6f331b"
      },
      "execution_count": 4,
      "outputs": [
        {
          "output_type": "stream",
          "name": "stdout",
          "text": [
            "[0, 0, 0, 0, 0, 0, 0, 0, 0, 0, 0, 0, 0, 0, 0, 0, 0, 0, 0, 0, 0, 0, 0, 0, 0, 0, 0, 0, 0, 0, 0, 0, 0, 0, 0, 0, 0, 0, 0, 0, 0, 0, 0, 0, 0, 0, 0, 0, 0, 0, 0, 0, 0, 0, 0, 0, 0, 0, 0, 0, 0, 0, 0, 0, 0, 0, 0, 0, 0, 0, 0, 0, 0, 0, 0, 0, 0, 0, 0, 0, 0, 0, 0, 0, 0, 0, 0, 0, 0, 0, 0, 0, 0, 0, 0, 0, 0, 0, 0, 0]\n"
          ]
        }
      ]
    },
    {
      "cell_type": "markdown",
      "source": [
        "In this single line of code, a list comprehension is used to create a list with 100 elements, each initialized to the value 0. This approach is concise, efficient, and easy to understand."
      ],
      "metadata": {
        "id": "W_6hYQPr4j7H"
      }
    },
    {
      "cell_type": "markdown",
      "source": [
        "#Question 4\n",
        "\n",
        "What is the most effective way to initialise a list of 99 integers that repeats the sequence 1, 2, 3?\n",
        "S If necessary, show step-by-step instructions on how to accomplish this.\n",
        "\n",
        "...............\n",
        "\n",
        "Answer 4 -\n",
        "\n",
        "The most effective way to initialize a list of 99 integers that repeats the sequence 1, 2, 3 is to use a list comprehension in combination with the itertools.**cycle()** function. Here's how you can accomplish this:\n",
        "\n",
        "1) Import the **cycle()** function from the itertools module.\n",
        "\n",
        "2) Use a list comprehension to create the desired sequence by repeating the values from 1 to 3.\n",
        "\n",
        "3) Use slicing to get the first 99 elements from the repeated sequence.\n",
        "\n",
        "Here's the code:"
      ],
      "metadata": {
        "id": "vbwUc1Zd4lCO"
      }
    },
    {
      "cell_type": "code",
      "source": [
        "from itertools import cycle\n",
        "\n",
        "# Create a list of 99 integers repeating the sequence 1, 2, 3\n",
        "sequence = cycle([1, 2, 3])\n",
        "result = [next(sequence) for _ in range(99)]\n",
        "\n",
        "print(result)"
      ],
      "metadata": {
        "colab": {
          "base_uri": "https://localhost:8080/"
        },
        "id": "DfRlmv664Jcq",
        "outputId": "e3f4837b-d696-40f1-a626-1e3eb3d02c18"
      },
      "execution_count": 1,
      "outputs": [
        {
          "output_type": "stream",
          "name": "stdout",
          "text": [
            "[1, 2, 3, 1, 2, 3, 1, 2, 3, 1, 2, 3, 1, 2, 3, 1, 2, 3, 1, 2, 3, 1, 2, 3, 1, 2, 3, 1, 2, 3, 1, 2, 3, 1, 2, 3, 1, 2, 3, 1, 2, 3, 1, 2, 3, 1, 2, 3, 1, 2, 3, 1, 2, 3, 1, 2, 3, 1, 2, 3, 1, 2, 3, 1, 2, 3, 1, 2, 3, 1, 2, 3, 1, 2, 3, 1, 2, 3, 1, 2, 3, 1, 2, 3, 1, 2, 3, 1, 2, 3, 1, 2, 3, 1, 2, 3, 1, 2, 3]\n"
          ]
        }
      ]
    },
    {
      "cell_type": "markdown",
      "source": [
        "Let's break down the steps:\n",
        "\n",
        "- `from itertools import cycle` : This imports the **cycle()** function from the itertools module. The cycle() function creates an iterator that repeats the elements of the provided iterable indefinitely.\n",
        "\n",
        "- `sequence = cycle([1, 2, 3])` : This creates a cyclic iterator based on the sequence [1, 2, 3].\n",
        "\n",
        "- `result = [next(sequence) for _ in range(99)]` : This uses a list comprehension to create a list by repeatedly calling next(sequence) for 99 times. This effectively repeats the sequence 1, 2, 3 for a total of 99 integers.\n",
        "\n",
        "This approach efficiently generates the desired list without the need to explicitly create the entire repeated sequence in memory. It takes advantage of the **itertools.cycle()** function to create an iterator that produces the desired repeated sequence as needed."
      ],
      "metadata": {
        "id": "d3Y5DXlY5Q-V"
      }
    },
    {
      "cell_type": "markdown",
      "source": [
        "#Question 5\n",
        "\n",
        "If you're using IDLE to run a Python application, explain how to print a multidimensional list as\n",
        "efficiently?\n",
        "\n",
        "..............\n",
        "\n",
        "Answer 5 -\n",
        "\n",
        "In IDLE, printing a multidimensional list efficiently involves using loops to iterate through the rows and columns of the list. This approach ensures that the entire list is displayed correctly without unnecessary overhead.\n",
        "\n",
        "Here's how you can efficiently print a multidimensional list in IDLE:"
      ],
      "metadata": {
        "id": "zCbNnJfl5n1U"
      }
    },
    {
      "cell_type": "code",
      "source": [
        "def print_2d_list(lst):\n",
        "    for row in lst:\n",
        "        for element in row:\n",
        "            print(element, end=\"\\t\")\n",
        "        print()  # Move to the next line after each row\n",
        "\n",
        "# Example multidimensional list\n",
        "multidimensional_list = [\n",
        "    [1, 2, 3],\n",
        "    [4, 5, 6],\n",
        "    [7, 8, 9]\n",
        "]\n",
        "\n",
        "print_2d_list(multidimensional_list)"
      ],
      "metadata": {
        "colab": {
          "base_uri": "https://localhost:8080/"
        },
        "id": "ScEbue1C5JGL",
        "outputId": "c31e05bf-f070-4314-bfcc-9e561b012a4d"
      },
      "execution_count": 2,
      "outputs": [
        {
          "output_type": "stream",
          "name": "stdout",
          "text": [
            "1\t2\t3\t\n",
            "4\t5\t6\t\n",
            "7\t8\t9\t\n"
          ]
        }
      ]
    },
    {
      "cell_type": "markdown",
      "source": [
        "Let's break down the code:\n",
        "\n",
        "- `print_2d_list(lst)` : This is a function that takes a multidimensional list lst as its parameter.\n",
        "\n",
        "- `for row in lst:` : This iterates through each row in the multidimensional list.\n",
        "\n",
        "- `for element in row:` : This iterates through each element in the current row.\n",
        "\n",
        "- `print(element, end=\"\\t\")` : This prints each element of the row followed by a tab character to separate elements horizontally.\n",
        "\n",
        "- `print()` : This prints an empty line to move to the next row after printing all elements in the current row.\n",
        "\n",
        "By using nested loops, you efficiently iterate through each element in the multidimensional list and print them in a tab-separated format. This approach ensures that the output is well-organized and easy to read."
      ],
      "metadata": {
        "id": "7xizgytBf7KB"
      }
    },
    {
      "cell_type": "markdown",
      "source": [
        "#Question 6\n",
        "\n",
        "Is it possible to use list comprehension with a string? If so, how can you go about doing it?\n",
        "\n",
        "..............\n",
        "\n",
        "Answer 6 -\n",
        "\n",
        "Yes, you can use list comprehension with a string in Python. List comprehensions are a concise and powerful way to create lists by applying an expression to each item in an iterable, including strings.\n",
        "\n",
        "Here's how you can use list comprehension with a string:"
      ],
      "metadata": {
        "id": "iIhkAs_DgUdl"
      }
    },
    {
      "cell_type": "code",
      "source": [
        "# Example: Convert string characters to uppercase using list comprehension\n",
        "original_string = \"hello\"\n",
        "uppercase_list = [char.upper() for char in original_string]\n",
        "\n",
        "\n",
        "print(uppercase_list)"
      ],
      "metadata": {
        "colab": {
          "base_uri": "https://localhost:8080/"
        },
        "id": "hGbR-B3wf0jA",
        "outputId": "8a4c702a-a9b5-468f-f42d-5023bea29e97"
      },
      "execution_count": 4,
      "outputs": [
        {
          "output_type": "stream",
          "name": "stdout",
          "text": [
            "['H', 'E', 'L', 'L', 'O']\n"
          ]
        }
      ]
    },
    {
      "cell_type": "markdown",
      "source": [
        "In this example, the list comprehension `[char.upper() for char in original_string]` iterates through each character in the original_string and applies the **upper()** method to convert each character to uppercase. The resulting list `uppercase_list` will contain the uppercase versions of the characters in the original string."
      ],
      "metadata": {
        "id": "dqVGU8T-hNAn"
      }
    },
    {
      "cell_type": "markdown",
      "source": [
        "You can perform various operations on each character or substring of a string using list comprehension, just like you would with other iterables.\n",
        "\n",
        "Here's another example where you can extract digits from a string and convert them to integers:"
      ],
      "metadata": {
        "id": "HVyiTAyMhr4m"
      }
    },
    {
      "cell_type": "code",
      "source": [
        "# Example: Extract digits from a string and convert to integers using list comprehension\n",
        "\n",
        "string_with_digits = \"abc123def456ghi789\"\n",
        "digit_list = [int(char) for char in string_with_digits if char.isdigit()]\n",
        "\n",
        "print(digit_list)"
      ],
      "metadata": {
        "colab": {
          "base_uri": "https://localhost:8080/"
        },
        "id": "VFe-BTFZhJ9N",
        "outputId": "09c7cc78-37e6-4e12-9a05-57cf6cf82f04"
      },
      "execution_count": 6,
      "outputs": [
        {
          "output_type": "stream",
          "name": "stdout",
          "text": [
            "[1, 2, 3, 4, 5, 6, 7, 8, 9]\n"
          ]
        }
      ]
    },
    {
      "cell_type": "markdown",
      "source": [
        "In this example, the list comprehension `[int(char) for char in string_with_digits if char.isdigit()]` iterates through each character in the `string_with_digits` and uses the **isdigit()** method to filter out non-digit characters. The resulting list `digit_list` contains the integers extracted from the string."
      ],
      "metadata": {
        "id": "Dyd5SojCh4Qq"
      }
    },
    {
      "cell_type": "markdown",
      "source": [
        "#Question 7\n",
        "\n",
        "From the command line, how do you get support with a user-written Python programme? Is this\n",
        "possible from inside IDLE?\n",
        "\n",
        "...............\n",
        "\n",
        "Answer 7 -\n",
        "\n",
        "Getting support for a user-written Python program can be done from the command line as well as from inside IDLE. Here's how you can do it:\n",
        "\n",
        "From the Command Line:\n",
        "\n",
        "1) **`Python Help (help())`** : You can use the **built-in help()** function from the Python interpreter in the command line to get information about functions, modules, and objects.\n",
        "\n",
        "For example:"
      ],
      "metadata": {
        "id": "qQ6J9ICHoeOa"
      }
    },
    {
      "cell_type": "code",
      "source": [
        "python\n",
        ">>> help(print)\n",
        ">>> help(math.sqrt)"
      ],
      "metadata": {
        "id": "ifWfZeetostk"
      },
      "execution_count": null,
      "outputs": []
    },
    {
      "cell_type": "markdown",
      "source": [
        "2) **`External Documentation`** : You can access Python's official documentation and libraries online. Websites like [docs.python.org](docs.python.org) provide detailed information on Python's standard library and core features."
      ],
      "metadata": {
        "id": "KIeIkjZ5ou5N"
      }
    },
    {
      "cell_type": "markdown",
      "source": [
        "From Inside IDLE:\n",
        "\n",
        "1) **`Python Help (help())`** : You can use the **help()** function directly in the IDLE interpreter like you would from the command line.\n",
        "\n",
        "2) **`IDLE's Built-in Help`** : IDLE also provides a graphical user interface for accessing help. Go to the `\"Help\"` menu in IDLE and select `\"IDLE Help\"` . This will open a window with the Python documentation.\n",
        "\n",
        "3) **`Docstrings and Autocomplete`** : Many Python libraries and functions include docstrings (inline documentation). In IDLE, as you type a function name and open parenthesis, you'll see a tooltip with a brief description of the function and its parameters. This is helpful for quick reference.\n",
        "\n",
        "4) **`Google Search`** : From IDLE, you can also open a web browser and search for specific documentation, tutorials, or solutions to problems."
      ],
      "metadata": {
        "id": "2xAaLFG-pdpA"
      }
    },
    {
      "cell_type": "markdown",
      "source": [
        "#Question 8\n",
        "\n",
        "Functions are said to be “first-class objects” in Python but not in most other languages, such as\n",
        "C++ or Java. What can you do in Python with a function (callable object) that you can&#39;t do in C or\n",
        "C++?\n",
        "\n",
        "..............\n",
        "\n",
        "Answer 8 -\n",
        "\n",
        "Here are some things you can do with functions in Python that are not as straightforward or flexible in languages like C or C++:\n",
        "\n",
        "1) **Assigning Functions to Variables** :\n",
        "In Python, you can assign functions to variables just like any other data type. This allows you to use the function through its variable name and pass it around in your code.\n",
        "\n",
        "2) **Passing Functions as Arguments** :\n",
        "You can pass functions as arguments to other functions. This is a key feature for techniques like higher-order functions and callbacks.\n",
        "\n",
        "3) **Returning Functions from Functions** :\n",
        "A function can return another function as its result. This is often used in functional programming paradigms.\n",
        "\n",
        "4) **Storing Functions in Data Structures** :\n",
        "Functions can be stored in lists, dictionaries, and other data structures, enabling dynamic behavior and code organization.\n",
        "\n",
        "5) **Creating Anonymous Functions (Lambda Functions)** :\n",
        "Python allows you to create small, inline functions called lambda functions, which are useful for short tasks that don't require a full function definition.\n",
        "\n",
        "6) **Functional Programming Techniques** :\n",
        "Python supports functional programming paradigms, where you can use functions to transform data, apply operations to collections, and create powerful abstractions.\n",
        "\n",
        "7) **Decorators** :\n",
        "Python decorators are a unique feature that allows you to modify the behavior of functions using higher-order functions. This pattern is used extensively in Python frameworks.\n",
        "\n",
        "8) **Closures** :\n",
        "Python supports closures, which allow functions to \"remember\" the environment in which they were created. This is often used for encapsulation and data hiding.\n",
        "\n",
        "9) **Dynamic Dispatch and Polymorphism** :\n",
        "Python's dynamic nature and first-class function support enable advanced techniques like dynamic dispatch and runtime polymorphism."
      ],
      "metadata": {
        "id": "etwhIxPcqD_r"
      }
    },
    {
      "cell_type": "markdown",
      "source": [
        "#Question 9\n",
        "\n",
        "How do you distinguish between a wrapper, a wrapped feature, and a decorator?\n",
        "\n",
        "...............\n",
        "\n",
        "Answer 9 -\n",
        "\n",
        "Wrapper, wrapped feature, and decorator are terms commonly used in software development, often in the context of design patterns or code organization. They are related concepts but serve different purposes. Here's how they can be distinguished:\n",
        "\n",
        "1) **`Wrapper`** : A wrapper is a construct that surrounds or encapsulates another object or functionality, providing an additional layer of behavior or abstraction. It is used to modify or extend the behavior of the wrapped object without altering its core functionality. Wrappers can be used for various purposes, such as adding logging, security checks, or adapting interfaces. They help with separation of concerns and code reusability.\n",
        "\n",
        "2) **`Wrapped Feature`** :\n",
        "A wrapped feature refers to the core functionality or object that is being encapsulated or augmented by a wrapper. It represents the original functionality that the wrapper is enhancing or altering. The wrapped feature is the central component that the wrapper interacts with, and the wrapper provides additional behavior around it.\n",
        "\n",
        "3) **`Decorator`** :\n",
        "A decorator is a specific type of design pattern that involves dynamically adding behavior or responsibilities to objects or functions without altering their code. In Python, decorators are often used to modify the behavior of functions or methods. Decorators are essentially a type of wrapper, but they have a specific syntax and usage pattern. They allow you to apply reusable modifications to functions or methods by simply applying a decorator to their definition."
      ],
      "metadata": {
        "id": "4DEqBi43qrg1"
      }
    },
    {
      "cell_type": "markdown",
      "source": [
        "#Question 10\n",
        "\n",
        "If a function is a generator function, what does it return?\n",
        "\n",
        "...............\n",
        "\n",
        "Answer 10 -\n",
        "\n",
        "A generator function in Python returns a special type of iterator called a generator. Generators are a powerful tool for creating iterators in a more concise and memory-efficient manner compared to creating lists or other data structures.\n",
        "\n",
        "When you call a generator function, it doesn't execute the function immediately. Instead, it returns a generator object, which can be used to control the execution of the function in a lazy and on-demand fashion.\n",
        "\n",
        "Generator functions are defined using the `yield` keyword instead of the `return` keyword. The `yield` keyword is used to yield a value from the function and pause its execution. The next time the generator is iterated over, the function continues from where it was paused and proceeds until it encounters another `yield` statement or reaches the end of the function.\n",
        "\n",
        "Here's an example of a simple generator function and how to use it:\n",
        "\n"
      ],
      "metadata": {
        "id": "fOSIi-XhrQl-"
      }
    },
    {
      "cell_type": "code",
      "source": [
        "def countdown(n):\n",
        "    while n > 0:\n",
        "        yield n\n",
        "        n -= 1\n",
        "\n",
        "# Create a generator object\n",
        "counter = countdown(5)\n",
        "\n",
        "# Iterate over the generator\n",
        "for num in counter:\n",
        "    print(num)"
      ],
      "metadata": {
        "colab": {
          "base_uri": "https://localhost:8080/"
        },
        "id": "AsMJCSgeo23H",
        "outputId": "688b3e47-d19a-49bd-bded-0c0211a05ecf"
      },
      "execution_count": 8,
      "outputs": [
        {
          "output_type": "stream",
          "name": "stdout",
          "text": [
            "5\n",
            "4\n",
            "3\n",
            "2\n",
            "1\n"
          ]
        }
      ]
    },
    {
      "cell_type": "markdown",
      "source": [
        "In this example, the countdown generator function yields values in reverse order from n down to 1. The generator object counter is created by calling `countdown(5)` . When we iterate over counter using a for loop, the generator function executes and yields values one at a time."
      ],
      "metadata": {
        "id": "wX5Rz3d8rutI"
      }
    },
    {
      "cell_type": "markdown",
      "source": [
        "#Question 11\n",
        "\n",
        "What is the one improvement that must be made to a function in order for it to become a\n",
        "generator function in the Python language?\n",
        "\n",
        "...............\n",
        "\n",
        "Answer 11 -\n",
        "\n",
        "To turn a regular function into a generator function in Python, you need to make one key improvement: `replace` the `return` statements with `yield` statements.\n",
        "\n",
        "A generator function is defined using the yield keyword, which allows the function to yield values one at a time instead of returning a single result. When the yield statement is encountered, the function's state is saved, and the yielded value is returned to the caller. The next time the generator is iterated over, the function resumes its execution from where it was paused and continues until the next yield statement or until the function completes.\n",
        "\n",
        "Here's an example of the transformation from a regular function to a generator function:\n",
        "\n",
        "Regular Function:"
      ],
      "metadata": {
        "id": "bhBfVvWvr10f"
      }
    },
    {
      "cell_type": "code",
      "source": [
        "def square_numbers(nums):\n",
        "    results = []\n",
        "    for num in nums:\n",
        "        results.append(num * num)\n",
        "    return results"
      ],
      "metadata": {
        "id": "JFoBEcOarrUv"
      },
      "execution_count": 9,
      "outputs": []
    },
    {
      "cell_type": "markdown",
      "source": [
        "Generator Function:"
      ],
      "metadata": {
        "id": "jEiA5e0UsJXw"
      }
    },
    {
      "cell_type": "code",
      "source": [
        "def square_numbers(nums):\n",
        "    for num in nums:\n",
        "        yield num * num"
      ],
      "metadata": {
        "id": "dN-3N1C6sFup"
      },
      "execution_count": 11,
      "outputs": []
    },
    {
      "cell_type": "markdown",
      "source": [
        "In the generator function version, the `return` statement has been `replaced` with a `yield` statement. Now, when you call `square_numbers` , it returns a generator object instead of a list. You can iterate over this generator object to lazily compute and yield square numbers one at a time."
      ],
      "metadata": {
        "id": "AN1SEmvosO8x"
      }
    },
    {
      "cell_type": "markdown",
      "source": [
        "#Question 12\n",
        "\n",
        "Identify at least one benefit of generators.\n",
        "\n",
        "...............\n",
        "\n",
        "Answer 12 -\n",
        "\n",
        "One significant benefit of using generators in Python is their memory efficiency. Generators allow you to produce values on-the-fly and yield them one at a time, which can help you conserve memory when working with large datasets or infinite sequences. This memory-efficient behavior provides several advantages:\n",
        "\n",
        "1) **Lazy Evaluation** : Generators use lazy evaluation, meaning they compute and yield values only when requested by the consuming code. This contrasts with creating and storing a large collection of values in memory all at once. As a result, generators are well-suited for scenarios where you don't need all values simultaneously, reducing memory usage.\n",
        "\n",
        "2) **Reduced Memory Footprint**: Since generators yield values one at a time and don't store the entire sequence in memory, they can significantly reduce memory consumption, particularly when dealing with large or dynamically generated datasets.\n",
        "\n",
        "3) **Infinite Sequences** : Generators are ideal for representing infinite sequences or streams, such as sensor data, file reading, or generating prime numbers. With a generator, you can work with such sequences without worrying about memory limits.\n",
        "\n",
        "4) **Faster Startup** : Generators can start producing values more quickly compared to constructing and initializing large data structures. This can lead to faster program startup and responsiveness.\n",
        "\n",
        "5) **Simplified Code** : Using generators can lead to cleaner and more concise code by separating the data production from the data consumption logic. This can make your code easier to understand and maintain."
      ],
      "metadata": {
        "id": "t94QZboSsbYz"
      }
    },
    {
      "cell_type": "code",
      "source": [],
      "metadata": {
        "id": "LvYEhp3zsI5W"
      },
      "execution_count": null,
      "outputs": []
    }
  ]
}