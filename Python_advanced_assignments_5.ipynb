{
  "nbformat": 4,
  "nbformat_minor": 0,
  "metadata": {
    "colab": {
      "provenance": [],
      "toc_visible": true
    },
    "kernelspec": {
      "name": "python3",
      "display_name": "Python 3"
    },
    "language_info": {
      "name": "python"
    }
  },
  "cells": [
    {
      "cell_type": "markdown",
      "source": [
        "#Question 1\n",
        "\n",
        "What is the meaning of multiple inheritance?\n",
        "\n",
        "..............\n",
        "\n",
        "Answer 1 -\n",
        "\n",
        "Multiple inheritance refers to a feature in object-oriented programming languages that allows a class to inherit attributes and methods from more than one parent class. In other words, a class can have multiple superclasses from which it inherits properties and behaviors. This feature enables the creation of complex class hierarchies and the sharing of functionality from multiple sources.\n",
        "\n",
        "In languages that support multiple inheritance, a subclass can inherit attributes and methods from multiple superclasses, allowing it to combine features from different parent classes. However, multiple inheritance can also introduce challenges and complexities, such as potential conflicts when two or more parent classes define methods or attributes with the same name.\n",
        "\n",
        "Here's a simple example to illustrate multiple inheritance in Python:"
      ],
      "metadata": {
        "id": "i0_zk3xG52O-"
      }
    },
    {
      "cell_type": "code",
      "source": [
        "class Parent1:\n",
        "    def method1(self):\n",
        "        print(\"Method 1 from Parent1\")\n",
        "\n",
        "class Parent2:\n",
        "    def method2(self):\n",
        "        print(\"Method 2 from Parent2\")\n",
        "\n",
        "class Child(Parent1, Parent2):\n",
        "    pass\n",
        "\n",
        "child_instance = Child()\n",
        "child_instance.method1()\n",
        "child_instance.method2()\n"
      ],
      "metadata": {
        "colab": {
          "base_uri": "https://localhost:8080/"
        },
        "id": "Q4-3hYEC6DP1",
        "outputId": "416735d9-18ec-4edb-8fc5-5112f057e71c"
      },
      "execution_count": 1,
      "outputs": [
        {
          "output_type": "stream",
          "name": "stdout",
          "text": [
            "Method 1 from Parent1\n",
            "Method 2 from Parent2\n"
          ]
        }
      ]
    },
    {
      "cell_type": "markdown",
      "source": [
        "#Question 2\n",
        "\n",
        "What is the concept of delegation?\n",
        "\n",
        "............\n",
        "\n",
        "Answer 2 -\n",
        "\n",
        "Delegation, in the context of object-oriented programming, refers to a design pattern where an object (the delegator) forwards or delegates certain tasks or responsibilities to another object (the delegate). Instead of implementing all the functionality directly, the delegator relies on the delegate to perform specific tasks on its behalf.\n",
        "\n",
        "Delegation is a powerful concept that promotes code reuse, modularity, and separation of concerns. It allows you to create more flexible and maintainable code by breaking down complex systems into smaller, manageable components. Delegation is often used in situations where inheritance or composition might not be the best fit or where you want to encapsulate behavior in a separate object.\n",
        "\n",
        "Key points about delegation include:\n",
        "\n",
        "1) **Responsibility Sharing** : With delegation, an object delegates specific responsibilities or tasks to another object that specializes in performing those tasks. This helps distribute functionality among different objects, making the codebase more modular.\n",
        "\n",
        "2) **Composition Over Inheritance** : Delegation is often used as an alternative to inheritance, promoting composition. Instead of inheriting behavior, an object includes instances of other objects (delegates) that provide specialized functionality.\n",
        "\n",
        "3) **Flexibility** : Delegation allows you to change or extend the behavior of an object by swapping out or modifying its delegates. This can be especially useful when you want to change the behavior of a component without altering the entire class hierarchy.\n",
        "\n",
        "4) **Code Reusability** : By encapsulating specific behaviors in delegate objects, you can reuse those behaviors across multiple classes. This reduces code duplication and promotes a DRY (Don't Repeat Yourself) approach.\n",
        "\n",
        "5) **Separation of Concerns** : Delegation helps separate different concerns and responsibilities. Each delegate can focus on a specific task, improving code organization and readability.\n",
        "\n",
        "**Example** : A common example of delegation is found in the Python standard library's collections.Counter class. The Counter class uses a dictionary as a delegate to store the counts of elements in a collection. The Counter class delegates the management of the dictionary to perform operations like element counting, addition, and subtraction.\n",
        "\n"
      ],
      "metadata": {
        "id": "MNDHuW5R6RNK"
      }
    },
    {
      "cell_type": "code",
      "source": [
        "class Counter:\n",
        "    def __init__(self):\n",
        "        self._dict = {}  # Delegation to a dictionary\n",
        "\n",
        "    def add(self, item):\n",
        "        if item in self._dict:\n",
        "            self._dict[item] += 1\n",
        "        else:\n",
        "            self._dict[item] = 1\n",
        "\n",
        "    def count(self, item):\n",
        "        return self._dict.get(item, 0)\n",
        "\n",
        "counter = Counter()\n",
        "counter.add('a')\n",
        "counter.add('b')\n",
        "print(counter.count('a'))\n",
        "print(counter.count('b'))"
      ],
      "metadata": {
        "colab": {
          "base_uri": "https://localhost:8080/"
        },
        "id": "ysovFB2b6IqO",
        "outputId": "83300661-6c87-4237-bc52-f339e94b8c45"
      },
      "execution_count": 4,
      "outputs": [
        {
          "output_type": "stream",
          "name": "stdout",
          "text": [
            "1\n",
            "1\n"
          ]
        }
      ]
    },
    {
      "cell_type": "markdown",
      "source": [
        "#Question 3\n",
        "\n",
        "What is the concept of composition?\n",
        "\n",
        "..............\n",
        "\n",
        "Answer 3 -\n",
        "\n",
        "Composition is a fundamental concept in object-oriented programming (OOP) that refers to the practice of creating complex objects by combining or composing simpler objects. In other words, composition involves building larger and more complex classes by including instances of other classes as components or parts.\n",
        "\n",
        "In composition, objects collaborate to achieve a higher-level functionality, and the composed object can be seen as a \"has-a\" relationship with its components. This is in contrast to inheritance, where objects have an \"is-a\" relationship with their parent classes.\n",
        "\n",
        "Key points about composition include:\n",
        "\n",
        "1) **Building Complex Objects** : Composition allows you to build complex and flexible objects by combining simpler components. Each component can encapsulate specific behavior and properties.\n",
        "\n",
        "2) **Modularity and Reusability** : Components can be created independently and reused in multiple contexts. This promotes code modularity and reduces duplication.\n",
        "\n",
        "3) **Flexibility** : Composition enables you to easily modify or extend the behavior of an object by changing its components or adding new ones. This is in contrast to inheritance, which can lead to inflexible class hierarchies.\n",
        "\n",
        "4) **Encapsulation** : Each component encapsulates its behavior and data, leading to better encapsulation and information hiding.\n",
        "\n",
        "5) **Separation of Concerns** : Composition helps separate different concerns into separate classes, making the codebase more organized and easier to understand.\n",
        "\n",
        "**Example** : Consider a Car class that is composed of various components such as an Engine, Wheels, Chassis, and Interior. Each of these components can have its own behavior and attributes. The Car class doesn't inherit from these components; instead, it contains instances of them."
      ],
      "metadata": {
        "id": "mOED94Pa8NNx"
      }
    },
    {
      "cell_type": "code",
      "source": [
        "class Engine:\n",
        "    def start(self):\n",
        "        print(\"Engine started\")\n",
        "\n",
        "class Wheels:\n",
        "    def rotate(self):\n",
        "        print(\"Wheels rotating\")\n",
        "\n",
        "class Chassis:\n",
        "    def stabilize(self):\n",
        "        print(\"Chassis stabilizing\")\n",
        "\n",
        "class Car:\n",
        "    def __init__(self):\n",
        "        self.engine = Engine()\n",
        "        self.wheels = Wheels()\n",
        "        self.chassis = Chassis()\n",
        "\n",
        "    def drive(self):\n",
        "        self.engine.start()\n",
        "        self.wheels.rotate()\n",
        "        self.chassis.stabilize()\n",
        "\n",
        "car = Car()\n",
        "car.drive()"
      ],
      "metadata": {
        "colab": {
          "base_uri": "https://localhost:8080/"
        },
        "id": "yFkwuEXO61AR",
        "outputId": "00380260-feb5-4f67-c87a-95ff63c7c73a"
      },
      "execution_count": 5,
      "outputs": [
        {
          "output_type": "stream",
          "name": "stdout",
          "text": [
            "Engine started\n",
            "Wheels rotating\n",
            "Chassis stabilizing\n"
          ]
        }
      ]
    },
    {
      "cell_type": "markdown",
      "source": [
        "#Question 4\n",
        "\n",
        "What are bound methods and how do we use them?\n",
        "\n",
        "..............\n",
        "\n",
        "Answer 4 -\n",
        "\n",
        "In Python, a bound method is a method that is associated with an instance of a class. It's a callable object that can access the instance's attributes and perform operations based on the instance's data. When you call a bound method, the instance is automatically passed as the first argument (usually named self) to the method.\n",
        "\n",
        "Here's how you use bound methods:\n",
        "\n",
        "1) **Creating a Bound Method** :\n",
        "Bound methods are created when you access a method from an instance of a class. The instance becomes \"bound\" to the method, and you can then call the method on that instance.\n",
        "\n",
        "2) **Accessing Instance Attributes** :\n",
        "Bound methods can access the attributes and properties of the instance they are bound to. This allows them to work with the specific data associated with that instance.\n",
        "\n",
        "3) **Calling Bound Methods** :\n",
        "When you call a bound method, the instance is automatically passed as the first argument. You don't need to explicitly pass the instance; it's done for you.\n",
        "\n",
        "Here's an example to illustrate the concept of bound methods:"
      ],
      "metadata": {
        "id": "heg0tibd8w_k"
      }
    },
    {
      "cell_type": "code",
      "source": [
        "class Circle:\n",
        "    def __init__(self, radius):\n",
        "        self.radius = radius\n",
        "\n",
        "    def area(self):\n",
        "        return 3.14159 * self.radius ** 2\n",
        "\n",
        "    def circumference(self):\n",
        "        return 2 * 3.14159 * self.radius\n",
        "\n",
        "# Create an instance of the Circle class\n",
        "circle_instance = Circle(5)\n",
        "\n",
        "# Access bound methods and call them\n",
        "area_result = circle_instance.area()\n",
        "circumference_result = circle_instance.circumference()\n",
        "\n",
        "print(f\"Area: {area_result}\")\n",
        "print(f\"Circumference: {circumference_result}\")"
      ],
      "metadata": {
        "colab": {
          "base_uri": "https://localhost:8080/"
        },
        "id": "8PHOw5m18tir",
        "outputId": "be4a7e0b-fb9e-4484-d904-2d8474cd48e4"
      },
      "execution_count": 6,
      "outputs": [
        {
          "output_type": "stream",
          "name": "stdout",
          "text": [
            "Area: 78.53975\n",
            "Circumference: 31.4159\n"
          ]
        }
      ]
    },
    {
      "cell_type": "markdown",
      "source": [
        "In this example, the `area` and `circumference` methods are bound methods. When you call them using **circle_instance.area()** and **circle_instance.circumference()** , the instance `circle_instance` is automatically passed as the first argument to these methods."
      ],
      "metadata": {
        "id": "VdYjJFQw-Ajt"
      }
    },
    {
      "cell_type": "markdown",
      "source": [
        "#Question 5\n",
        "\n",
        "What is the purpose of pseudoprivate attributes?\n",
        "\n",
        "..............\n",
        "\n",
        "Answer 5 -\n",
        "\n",
        "Pseudoprivate attributes, also known as name `mangling` , are a convention in Python to make instance variables within a class more \"private\" by adding a prefix to their names. The purpose of pseudoprivate attributes is to reduce the chance of accidental name clashes between different attributes in a class, especially when inheritance is involved.\n",
        "\n",
        "The name mangling convention involves adding a double underscore prefix (`__`) to the attribute's name. This causes the Python interpreter to modify the attribute's name by adding a prefix based on the class name, which helps avoid accidental overrides or conflicts when subclassing.\n",
        "\n",
        "Here's an example to illustrate the purpose of pseudoprivate attributes:"
      ],
      "metadata": {
        "id": "eFvQ24tL-NvJ"
      }
    },
    {
      "cell_type": "code",
      "source": [
        "class MyClass:\n",
        "    def __init__(self):\n",
        "        self.__private_attr = 42\n",
        "\n",
        "    def get_private_attr(self):\n",
        "        return self.__private_attr\n",
        "\n",
        "class MySubclass(MyClass):\n",
        "    def __init__(self):\n",
        "        super().__init__()\n",
        "        self.__private_attr = 99  # This doesn't affect the parent class's private attribute\n",
        "\n",
        "subclass_instance = MySubclass()\n",
        "print(subclass_instance.get_private_attr())"
      ],
      "metadata": {
        "colab": {
          "base_uri": "https://localhost:8080/"
        },
        "id": "pr1HjR9m96mu",
        "outputId": "429c3f1e-e839-4d34-c49a-de5af7031b54"
      },
      "execution_count": 7,
      "outputs": [
        {
          "output_type": "stream",
          "name": "stdout",
          "text": [
            "42\n"
          ]
        }
      ]
    },
    {
      "cell_type": "markdown",
      "source": [
        "In this example, the `MyClass` class defines a pseudoprivate attribute `__private_attr` . Even if the `MySubclass` subclass has an attribute with the same name, they don't conflict because the interpreter modifies the name of the attribute to include the class name. Therefore, the subclass's private attribute doesn't override the parent class's private attribute."
      ],
      "metadata": {
        "id": "RKpPugue-9PC"
      }
    }
  ]
}