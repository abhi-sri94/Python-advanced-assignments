{
  "nbformat": 4,
  "nbformat_minor": 0,
  "metadata": {
    "colab": {
      "provenance": [],
      "toc_visible": true
    },
    "kernelspec": {
      "name": "python3",
      "display_name": "Python 3"
    },
    "language_info": {
      "name": "python"
    }
  },
  "cells": [
    {
      "cell_type": "markdown",
      "source": [
        "#Question 1\n",
        "\n",
        "What is the purpose of Python's OOP?\n",
        "\n",
        "..............\n",
        "\n",
        "Answer 1 -\n",
        "\n",
        "The purpose of Python's `Object-Oriented Programming` (OOP) is to provide a programming paradigm that focuses on organizing and structuring code around objects, which are instances of classes. OOP is a powerful way to model real-world concepts and interactions in your code, making it easier to manage and maintain complex systems.\n",
        "\n",
        "Here are some key purposes and benefits of using OOP in Python:\n",
        "\n",
        "1) **Modularity and Reusability** : OOP allows you to break down a complex system into smaller, more manageable modules or classes. These classes can be reused in different parts of your code or in different projects, promoting code reusability and reducing redundancy.\n",
        "\n",
        "2) **Abstraction** : OOP enables you to represent real-world entities, their attributes, and behaviors in your code. You can abstract away the complex details of how something works and focus on its essential characteristics, making your code more intuitive and easier to understand.\n",
        "\n",
        "3) **Encapsulation** : OOP provides encapsulation, which means bundling data (attributes) and methods (functions) that operate on the data into a single unit (class). This helps in controlling access to the data and preventing unintended modifications, leading to more robust and secure code.\n",
        "\n",
        "4) **Inheritance** : Inheritance allows you to create new classes that inherit properties and behaviors from existing classes. This promotes code reuse and hierarchy, where you can create specialized classes based on general ones.\n",
        "\n",
        "5) **Polymorphism** : Polymorphism allows objects of different classes to be treated as objects of a common base class. This promotes flexibility and allows you to write more generic and adaptable code that can work with different types of objects.\n",
        "\n",
        "6) **Organization and Structuring** : OOP provides a structured way to organize your code, making it more organized, modular, and easier to maintain as your projects grow in complexity.\n",
        "\n",
        "7) **Collaboration** : OOP facilitates collaboration among developers by providing a standardized way to design and implement code. Different team members can work on different classes while ensuring that the classes interact seamlessly.\n",
        "\n",
        "8) **Code Maintenance and Debugging** : OOP's modular structure makes it easier to identify and isolate bugs in your code. When a problem occurs, you can focus on a specific class or module, rather than searching through the entire codebase.\n",
        "\n",
        "Python's implementation of OOP is based on classes and objects. Classes define blueprints for creating objects, while objects are instances of classes with their own attributes and behaviors. Python's OOP principles provide a way to write more organized, reusable, and maintainable code, especially for larger and more complex projects."
      ],
      "metadata": {
        "id": "Z2USJqjveUEQ"
      }
    },
    {
      "cell_type": "markdown",
      "source": [
        "#Question 2\n",
        "\n",
        "Where does an inheritance search look for an attribute?\n",
        "\n",
        "..............\n",
        "\n",
        "Answer 2 -\n",
        "\n",
        "In Python, when you access an attribute of an object, the inheritance search follows a specific order known as the **Method Resolution Order** (`MRO`). The MRO determines where Python looks for an attribute in the presence of multiple inheritance.\n",
        "\n",
        "The MRO is defined using the `C3 Linearization algorithm` . It's a linear order in which classes are checked for attribute access. The search for an attribute starts from the current class and goes up the class hierarchy following the MRO until the attribute is found or the top of the hierarchy is reached.\n",
        "\n",
        "The MRO is accessible using the **mro()** method or the **`__mro__`** attribute of a class. You can use these to see the order in which Python looks for attributes.\n",
        "\n",
        "Here's an example to illustrate the concept:"
      ],
      "metadata": {
        "id": "xxWeh1XafRQE"
      }
    },
    {
      "cell_type": "code",
      "source": [
        "class A:\n",
        "    def method(self):\n",
        "        print(\"Method in class A\")\n",
        "\n",
        "class B(A):\n",
        "    def method(self):\n",
        "        print(\"Method in class B\")\n",
        "\n",
        "class C(A):\n",
        "    def method(self):\n",
        "        print(\"Method in class C\")\n",
        "\n",
        "class D(B, C):\n",
        "    pass\n",
        "\n",
        "obj = D()\n",
        "obj.method()\n",
        "\n",
        "print(D.mro())"
      ],
      "metadata": {
        "colab": {
          "base_uri": "https://localhost:8080/"
        },
        "id": "BU5FpClBfQVe",
        "outputId": "cf204248-c4f5-4b1e-d828-4a9fd8be531e"
      },
      "execution_count": 2,
      "outputs": [
        {
          "output_type": "stream",
          "name": "stdout",
          "text": [
            "Method in class B\n",
            "[<class '__main__.D'>, <class '__main__.B'>, <class '__main__.C'>, <class '__main__.A'>, <class 'object'>]\n"
          ]
        }
      ]
    },
    {
      "cell_type": "markdown",
      "source": [
        "In this example, the classes `B` and `C` both inherit from class `A`. The class `D` then inherits from both `B` and `C` . When the **method()** is called on an object of class D, Python searches for it in the MRO order: `D -> B -> C -> A` . It finds the method in class B, so that method is executed.\n",
        "\n"
      ],
      "metadata": {
        "id": "JOwr2j6EjIee"
      }
    },
    {
      "cell_type": "markdown",
      "source": [
        "#Question 3\n",
        "\n",
        "How do you distinguish between a class object and an instance object?\n",
        "\n",
        "..............\n",
        "\n",
        "Answer 3 -\n",
        "\n",
        "In Python, a class object and an instance object are two distinct concepts that are used to create and manipulate data using classes. Here's how you can distinguish between them:\n",
        "\n",
        "1) **Class Object** :\n",
        "\n",
        "A class object represents the class itself. It is the blueprint or template from which instances are created. Class objects have attributes and methods that are shared among all instances of that class. They are created when you define a class using the class keyword.\n",
        "\n"
      ],
      "metadata": {
        "id": "XoSpu08MlsVC"
      }
    },
    {
      "cell_type": "code",
      "source": [
        "class MyClass:\n",
        "    class_attribute = \"I am a class attribute\"\n",
        "\n",
        "print(MyClass.class_attribute)"
      ],
      "metadata": {
        "colab": {
          "base_uri": "https://localhost:8080/"
        },
        "id": "Z1wOgyrbi6u5",
        "outputId": "ca32281c-2b24-4d8a-8f75-ba4d799d1b22"
      },
      "execution_count": 3,
      "outputs": [
        {
          "output_type": "stream",
          "name": "stdout",
          "text": [
            "I am a class attribute\n"
          ]
        }
      ]
    },
    {
      "cell_type": "markdown",
      "source": [
        "Class objects are responsible for defining the structure and behavior of instances. They can also be used to create class-level methods and attributes."
      ],
      "metadata": {
        "id": "U74fKzqLmCP3"
      }
    },
    {
      "cell_type": "markdown",
      "source": [
        "2) **Instance Object** :\n",
        "\n",
        "An instance object is a specific object created based on the class template. It represents a single occurrence or instance of the class. Instances have their own unique attributes and can have different attribute values compared to other instances of the same class."
      ],
      "metadata": {
        "id": "iQzhlG0xmERk"
      }
    },
    {
      "cell_type": "code",
      "source": [
        "class Person:\n",
        "    def __init__(self, name):\n",
        "        self.name = name\n",
        "\n",
        "person1 = Person(\"Abhsihek\")\n",
        "person2 = Person(\"Bhavik\")\n",
        "\n",
        "print(person1.name)\n",
        "print(person2.name)"
      ],
      "metadata": {
        "colab": {
          "base_uri": "https://localhost:8080/"
        },
        "id": "vR56iUJMl-tM",
        "outputId": "03a0dbeb-142c-4ae1-f689-8ded28d20535"
      },
      "execution_count": 7,
      "outputs": [
        {
          "output_type": "stream",
          "name": "stdout",
          "text": [
            "Abhsihek\n",
            "Bhavik\n"
          ]
        }
      ]
    },
    {
      "cell_type": "markdown",
      "source": [
        "Instances are created using the class constructor by calling the class like a function. The **`__init__`** method (`constructor`) is used to initialize instance-specific attributes."
      ],
      "metadata": {
        "id": "IWPANAffmY4a"
      }
    },
    {
      "cell_type": "markdown",
      "source": [
        "#Question 4\n",
        "\n",
        "What makes the first argument in a class's method function special?\n",
        "\n",
        "...............\n",
        "\n",
        "Answer 4 -\n",
        "\n",
        "In Python, the first argument in a class's method function is conventionally named self, although you can technically name it anything you want. However, using self is a widely accepted convention and is recommended for clarity and consistency.\n",
        "\n",
        "The self argument refers to the instance of the class that the method is being called on. It's a reference to the object itself. When you call a method on an instance, Python automatically passes that instance as the first argument to the method. This allows you to access and manipulate the attributes and methods of that instance within the method.\n",
        "\n",
        "For example:"
      ],
      "metadata": {
        "id": "c7-bwZ3omitM"
      }
    },
    {
      "cell_type": "code",
      "source": [
        "class MyClass:\n",
        "    def __init__(self, value):\n",
        "        self.value = value\n",
        "\n",
        "    def print_value(self):\n",
        "        print(self.value)\n",
        "\n",
        "\n",
        "obj = MyClass(42)\n",
        "\n",
        "obj.print_value()"
      ],
      "metadata": {
        "colab": {
          "base_uri": "https://localhost:8080/"
        },
        "id": "wYe_Pzy0mVWY",
        "outputId": "c10e3f1e-71e6-426c-d56b-021e5e21f60f"
      },
      "execution_count": 5,
      "outputs": [
        {
          "output_type": "stream",
          "name": "stdout",
          "text": [
            "42\n"
          ]
        }
      ]
    },
    {
      "cell_type": "markdown",
      "source": [
        "In this example, when you call **obj.print_value()** , Python automatically passes `obj` as the first argument to the `print_value` method. Inside the method, the self argument refers to the instance obj, so you can access its value attribute using `self.value` .\n",
        "\n"
      ],
      "metadata": {
        "id": "1OyiSzV8NVFo"
      }
    },
    {
      "cell_type": "markdown",
      "source": [
        "#Question 5\n",
        "\n",
        "What is the purpose of the __init__ method?\n",
        "\n",
        "...............\n",
        "\n",
        "Answer 5 -\n",
        "\n",
        "The **`__init__`** method is a special method in Python classes that serves as a constructor. It's automatically called when an instance of the class is created. The primary purpose of the **`__init__`** method is to initialize the attributes of the instance, setting their initial values based on the arguments provided during object creation.\n",
        "\n",
        "Here's why the **`__init__`** method is important and what it's used for:\n",
        "\n",
        "1) **Initialization of Attributes** : The **`__init__`** method allows you to set the initial state of the object by initializing its attributes. This is particularly useful for creating instances with specific initial values for their attributes.\n",
        "\n",
        "2) **Instance-specific Data** : Each instance of a class can have its own unique data, and the **`__init__`** method provides a way to set these unique values when the instance is created.\n",
        "\n",
        "3) **Constructor Logic** : You can use the **`__init__`** method to perform any necessary setup or validation logic that needs to happen when an instance is created. For example, you can perform checks on input values or initialize some internal state.\n",
        "\n",
        "4) **Default Values** : You can provide default values for attributes in the **`__init__`** method's parameter list. These default values will be used if no value is provided during object creation.\n",
        "\n",
        "Here's an example of how the **`__init__`** method is used:"
      ],
      "metadata": {
        "id": "KtFo9gEKfRYR"
      }
    },
    {
      "cell_type": "code",
      "source": [
        "class Person:\n",
        "    def __init__(self, name, age):\n",
        "        self.name = name\n",
        "        self.age = age\n",
        "\n",
        "    def introduce(self):\n",
        "        print(f\"Hi, my name is {self.name} and I am {self.age} years old.\")\n",
        "\n",
        "# Creating instances and initializing attributes using __init__\n",
        "person1 = Person(\"Abhishek\", 27)\n",
        "person2 = Person(\"Bhavik\", 25)\n",
        "\n",
        "person1.introduce()\n",
        "person2.introduce()"
      ],
      "metadata": {
        "colab": {
          "base_uri": "https://localhost:8080/"
        },
        "id": "aLf0J2Y9fP9d",
        "outputId": "b75209f8-f00a-471d-f9a8-0545379ca0c0"
      },
      "execution_count": 5,
      "outputs": [
        {
          "output_type": "stream",
          "name": "stdout",
          "text": [
            "Hi, my name is Abhishek and I am 27 years old.\n",
            "Hi, my name is Bhavik and I am 25 years old.\n"
          ]
        }
      ]
    },
    {
      "cell_type": "markdown",
      "source": [
        "#Question 6\n",
        "\n",
        "What is the process for creating a class instance?\n",
        "\n",
        "..............\n",
        "\n",
        "Answer 6 -\n",
        "\n",
        "Creating a class instance in Python involves the following steps:\n",
        "\n",
        "1) **Define the Class** : First, you need to define a class that serves as the blueprint for creating instances. The class defines attributes and methods that instances will have."
      ],
      "metadata": {
        "id": "ti5QHuIIlg7y"
      }
    },
    {
      "cell_type": "code",
      "source": [
        "class Person:\n",
        "    def __init__(self, name, age):\n",
        "        self.name = name\n",
        "        self.age = age\n",
        "\n",
        "    def introduce(self):\n",
        "        print(f\"Hi, my name is {self.name} and I am {self.age} years old.\")"
      ],
      "metadata": {
        "id": "Xekjbh83lX8t"
      },
      "execution_count": 2,
      "outputs": []
    },
    {
      "cell_type": "markdown",
      "source": [
        "2) **Instantiate the Class** : To create an instance of the\n",
        "class, you call the class like a function. This calls the class's constructor, which is the **`__init__`** method. The constructor initializes the instance's attributes."
      ],
      "metadata": {
        "id": "7x-o3ympmDDG"
      }
    },
    {
      "cell_type": "code",
      "source": [
        "# Creating instances of the Person class\n",
        "person1 = Person(\"Abhishek\", 27)\n",
        "person2 = Person(\"Bhavik\", 25)"
      ],
      "metadata": {
        "id": "JBeYNjmUlwJu"
      },
      "execution_count": 3,
      "outputs": []
    },
    {
      "cell_type": "markdown",
      "source": [
        "3) **Access Attributes and Methods** : Once the instance is created, you can access its attributes and methods using `dot` notation."
      ],
      "metadata": {
        "id": "YQVa8dIgmSxm"
      }
    },
    {
      "cell_type": "code",
      "source": [
        "person1.introduce()\n",
        "person2.introduce()\n",
        "\n",
        "print(person1.name)\n",
        "print(person2.age)"
      ],
      "metadata": {
        "colab": {
          "base_uri": "https://localhost:8080/"
        },
        "id": "4UbFJunNmQ7a",
        "outputId": "32cb02fd-495a-40f6-991b-62fc5a4530cb"
      },
      "execution_count": 6,
      "outputs": [
        {
          "output_type": "stream",
          "name": "stdout",
          "text": [
            "Hi, my name is Abhishek and I am 27 years old.\n",
            "Hi, my name is Bhavik and I am 25 years old.\n",
            "Abhishek\n",
            "25\n"
          ]
        }
      ]
    },
    {
      "cell_type": "markdown",
      "source": [
        "#Question 7\n",
        "\n",
        "What is the process for creating a class?\n",
        "\n",
        "...............\n",
        "\n",
        "Answer 7 -\n",
        "\n",
        "Creating a class in Python involves the following steps:\n",
        "\n",
        "1) **Use the class Keyword** : To define a new class, you use the class keyword followed by the name of the class. Class names are typically written in CamelCase (starting with a capital letter).\n",
        "\n",
        "2) **Define Attributes and Methods** : Inside the class definition, you can define attributes (variables) and methods (functions) that the instances of the class will have.\n",
        "\n",
        "3) **Define the Constructor (__init__ Method)** : If needed, define the __init__ method. This method is the constructor that initializes the attributes of instances when they are created.\n",
        "\n",
        "4) **Define Other Methods** : Define other methods that perform specific actions on instances of the class. These methods can manipulate attributes, perform calculations, or interact with the instance in various ways.\n",
        "\n",
        "5) **Access Class Attributes and Methods** : After defining the class, you can create instances of the class and access their attributes and methods using dot notation."
      ],
      "metadata": {
        "id": "NwXthOlcmoEK"
      }
    },
    {
      "cell_type": "markdown",
      "source": [
        "#Question 8\n",
        "\n",
        "How would you define the superclasses of a class?\n",
        "\n",
        "..............\n",
        "\n",
        "Answer 8 -\n",
        "\n",
        "In Python, a superclass (also known as a parent class or base class) is a class from which another class inherits attributes and methods. The class that inherits from a superclass is called a subclass (or child class).\n",
        "\n",
        "To define a superclass for a class, you specify the superclass in the class definition by including it in parentheses after the class name. This establishes an inheritance relationship, where the subclass inherits the attributes and methods of the superclass.\n",
        "\n",
        "Here's how you would define the superclass(es) of a class:"
      ],
      "metadata": {
        "id": "sYSGM-gYYPsU"
      }
    },
    {
      "cell_type": "code",
      "source": [
        "class Superclass:\n",
        "    # Attributes and methods of the superclass\n",
        "\n",
        "class Subclass(Superclass):\n",
        "    # Attributes and methods specific to the subclass"
      ],
      "metadata": {
        "id": "txh6mDU4ZwYy"
      },
      "execution_count": 3,
      "outputs": []
    },
    {
      "cell_type": "markdown",
      "source": [
        "In this example, `Subclass` is inheriting from `Superclass` , making `Superclass` the superclass of Subclass.\n",
        "\n",
        "If there are multiple superclasses (multiple inheritance), you can list them in the parentheses separated by commas:"
      ],
      "metadata": {
        "id": "RBdqawoAaCX2"
      }
    },
    {
      "cell_type": "code",
      "source": [
        "class Superclass1:\n",
        "    # Attributes and methods of the first superclass\n",
        "\n",
        "class Superclass2:\n",
        "    # Attributes and methods of the second superclass\n",
        "\n",
        "class Subclass(Superclass1, Superclass2):\n",
        "    # Attributes and methods specific to the subclass"
      ],
      "metadata": {
        "id": "xDCUTkNSaMkd"
      },
      "execution_count": null,
      "outputs": []
    }
  ]
}