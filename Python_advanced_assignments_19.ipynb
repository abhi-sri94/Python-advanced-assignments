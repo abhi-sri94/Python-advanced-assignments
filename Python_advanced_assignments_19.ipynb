{
  "nbformat": 4,
  "nbformat_minor": 0,
  "metadata": {
    "colab": {
      "provenance": [],
      "toc_visible": true
    },
    "kernelspec": {
      "name": "python3",
      "display_name": "Python 3"
    },
    "language_info": {
      "name": "python"
    }
  },
  "cells": [
    {
      "cell_type": "markdown",
      "source": [
        "#Question 1\n",
        "\n",
        "Define the relationship between a class and its instances. Is it a one-to-one or a one-to-many\n",
        "partnership, for example?\n",
        "\n",
        "................\n",
        "\n",
        "Answer 1 -\n",
        "\n",
        "The relationship between a class and its instances in object-oriented programming is a \"one-to-many\" relationship. This means that a single class can be used to create multiple instances (objects), and each instance is separate and distinct from the others.\n",
        "\n",
        "In a \"one-to-many\" relationship:\n",
        "\n",
        "- The \"one\" refers to the class itself, which serves as a blueprint or template defining the structure and behavior of the instances.\n",
        "\n",
        "- The \"many\" refers to the multiple instances that can be created based on that class.\n",
        "\n",
        "Each instance has its own set of attributes (instance variables) and can behave independently, even though they share the same structure defined by the class.\n",
        "Modifying the attributes of one instance does not affect the attributes of other instances.\n",
        "\n",
        "For example, consider a Person class:"
      ],
      "metadata": {
        "id": "V4JcdLDRVVC8"
      }
    },
    {
      "cell_type": "code",
      "source": [
        "class Person:\n",
        "    def __init__(self, name, age):\n",
        "        self.name = name\n",
        "        self.age = age\n",
        "\n",
        "# Creating instances\n",
        "person1 = Person(\"Alice\", 30)\n",
        "person2 = Person(\"Bob\", 25)"
      ],
      "metadata": {
        "id": "L6plXOJAWFcy"
      },
      "execution_count": 1,
      "outputs": []
    },
    {
      "cell_type": "markdown",
      "source": [
        "In this scenario, the `Person` class serves as the blueprint, and the instances `person1` and `person2` are two separate objects created based on that blueprint. Each instance has its own `name` and `age` attributes, and changes made to one instance do not affect the other instance.\n",
        "\n",
        "This \"one-to-many\" relationship is a fundamental concept in object-oriented programming, allowing you to create and manage multiple objects based on a single class definition."
      ],
      "metadata": {
        "id": "ByLpruceWQXB"
      }
    },
    {
      "cell_type": "markdown",
      "source": [
        "#Question 2\n",
        "\n",
        "What kind of data is held only in an instance?\n",
        "\n",
        "..............\n",
        "\n",
        "Answer 2 -\n",
        "\n",
        "Data that is held only in an instance of a class is typically referred to as \"instance-specific data\" or \"instance variables.\" These are attributes that are unique to each individual instance of a class and are not shared among other instances. Instance variables hold state information that characterizes the specific instance of the class.\n",
        "\n",
        "Instance-specific data is used to store information that varies from instance to instance, allowing each object to maintain its own state. This data can represent the characteristics or properties of an individual object and can be accessed and modified independently for each instance.\n",
        "\n",
        "Here's an example illustrating instance-specific data:"
      ],
      "metadata": {
        "id": "wgj6gjJ7WpX6"
      }
    },
    {
      "cell_type": "code",
      "source": [
        "class Person:\n",
        "    def __init__(self, name, age):\n",
        "        self.name = name  # Instance-specific variable\n",
        "        self.age = age    # Instance-specific variable\n",
        "\n",
        "# Creating instances\n",
        "person1 = Person(\"Alice\", 30)\n",
        "person2 = Person(\"Bob\", 25)\n",
        "\n",
        "# Accessing instance-specific data\n",
        "print(person1.name)\n",
        "print(person2.age)\n",
        "\n",
        "# Modifying instance-specific data\n",
        "person1.name = \"Alicia\"\n",
        "person2.age = 26\n",
        "\n",
        "print(person1.name)\n",
        "print(person2.age)"
      ],
      "metadata": {
        "colab": {
          "base_uri": "https://localhost:8080/"
        },
        "id": "3MhuaJR3WG9n",
        "outputId": "0920ee96-d889-408d-8694-d7a776559793"
      },
      "execution_count": 2,
      "outputs": [
        {
          "output_type": "stream",
          "name": "stdout",
          "text": [
            "Alice\n",
            "25\n",
            "Alicia\n",
            "26\n"
          ]
        }
      ]
    },
    {
      "cell_type": "markdown",
      "source": [
        "#Question 3\n",
        "\n",
        "What kind of knowledge is stored in a class?\n",
        "\n",
        "...............\n",
        "\n",
        "Answer 3 -\n",
        "\n",
        "A class in object-oriented programming serves as a blueprint or template that defines the structure and behavior of objects. The knowledge stored in a class includes:\n",
        "\n",
        "1) **Attributes (Data Members)** : Classes define attributes, also known as data members, which represent the properties or characteristics of objects. These attributes store the data that an object holds. Each instance of the class can have its own values for these attributes. For example, in a `Person` class, attributes might include `name` , `age` , and `gender` .\n",
        "\n",
        "2) **Methods (Member Functions)** : Classes include methods, which are functions that define the behavior or actions that objects of the class can perform. Methods can operate on the attributes of the class and can interact with other objects. For instance, a Person class might have methods like `say_hello()` or `calculate_age()` .\n",
        "\n",
        "3) **Constructor (init)** : The constructor method (**`__init__`**) initializes the attributes of an object when it is created. It allows you to set the initial state of an object by providing values for its attributes.\n",
        "\n",
        "4) **Class Variables** : These are attributes that are shared among all instances of the class. They store data that is common to all instances and is not specific to any individual instance.\n",
        "\n",
        "5) **Inheritance and Polymorphism** : Classes can be organized in a hierarchy using inheritance, where a subclass inherits attributes and methods from a parent (base) class. This promotes code reuse and allows for more specialized classes to be created.\n",
        "\n",
        "6) **Encapsulation** : Classes encapsulate data and methods within a single unit. They provide a way to hide the implementation details from the outside world, exposing only what is necessary for the intended interaction.\n",
        "\n",
        "7) **Relationships** : Classes can define relationships between objects, such as aggregation (a whole-part relationship) or composition (stronger ownership relationship).\n",
        "\n",
        "8) **Abstraction** : Classes allow you to model real-world entities and concepts in an abstract way. They capture the essential properties and behavior while hiding unnecessary complexity."
      ],
      "metadata": {
        "id": "JLKMoehTXYwR"
      }
    },
    {
      "cell_type": "markdown",
      "source": [
        "#Question 4\n",
        "\n",
        "What exactly is a method, and how is it different from a regular function?\n",
        "\n",
        "..............\n",
        "\n",
        "Answer 4 -\n",
        "\n",
        "A method is a type of function that is associated with an object in object-oriented programming (OOP). Methods are defined within the context of a class and are used to perform actions or operations on the data (attributes) of that class or to interact with other objects. Methods are a fundamental part of encapsulating behavior within objects and defining how objects of a class should behave.\n",
        "\n",
        "Here are the key differences between a method and a regular function:\n",
        "\n",
        "1) **Associated with Objects** :\n",
        "\n",
        "- `Method` : A method is associated with an object or an instance of a class. It operates on the data stored in that object and can access and manipulate its attributes.\n",
        "\n",
        "- `Regular Function` : A regular function is not associated with any specific object. It is standalone and can be called independently without any context.\n",
        "\n",
        "2) **Access to Attributes** :\n",
        "\n",
        "- `Method` : Methods have access to the attributes (data members) of the class they are defined in. They can read and modify the object's state.\n",
        "\n",
        "- `Regular Function` : Regular functions do not have inherent access to class attributes unless explicitly provided as arguments.\n",
        "\n",
        "3) **Invoking Methods** :\n",
        "\n",
        "- `Method` : Methods are invoked using the dot notation (`object.method()`), where object is an instance of the class. The method is called on a specific object and can operate on that object's data.\n",
        "\n",
        "- `Regular Function` : Regular functions are called by their name (function()), and they don't have a specific association with an object.\n",
        "\n",
        "4) **Instance-specific Behavior** :\n",
        "\n",
        "- `Method` : Methods can have instance-specific behavior. Different instances of the same class can have different attribute values, and methods can behave differently based on those values.\n",
        "\n",
        "- `Regular Function` : Regular functions do not have instance-specific behavior. They operate solely based on the arguments passed to them.\n",
        "\n",
        "5) **Polymorphism and Inheritance** :\n",
        "\n",
        "- `Method` : Methods can be overridden in subclasses to provide specialized behavior. This is a key feature of polymorphism in OOP.\n",
        "\n",
        "- `Regular Function` : Regular functions do not inherently support polymorphism and inheritance.\n",
        "\n",
        "Example of a method within a class:"
      ],
      "metadata": {
        "id": "TQLMrDg_ZgtY"
      }
    },
    {
      "cell_type": "code",
      "source": [
        "class Circle:\n",
        "    def __init__(self, radius):\n",
        "        self.radius = radius\n",
        "\n",
        "    def calculate_area(self):\n",
        "        return 3.14 * self.radius * self.radius\n",
        "\n",
        "# Creating an instance and invoking a method\n",
        "circle = Circle(5)\n",
        "area = circle.calculate_area()\n",
        "\n",
        "print(\"Circle Area:\", area)"
      ],
      "metadata": {
        "colab": {
          "base_uri": "https://localhost:8080/"
        },
        "id": "J9G0Y8_8XVW4",
        "outputId": "ba07a137-8439-4410-ff80-65a3283aa454"
      },
      "execution_count": 4,
      "outputs": [
        {
          "output_type": "stream",
          "name": "stdout",
          "text": [
            "Circle Area: 78.5\n"
          ]
        }
      ]
    },
    {
      "cell_type": "markdown",
      "source": [
        "#Question 5\n",
        "\n",
        "Is inheritance supported in Python, and if so, what is the syntax?\n",
        "\n",
        "...............\n",
        "\n",
        "Answer 5 -\n",
        "\n",
        "Yes, inheritance is fully supported in Python, and it's a fundamental concept in object-oriented programming (OOP). Inheritance allows you to create a new class that inherits attributes and methods from an existing class (called the parent or base class). The new class is called a subclass or derived class.\n",
        "\n",
        "The syntax for defining a subclass and inheriting from a base class in Python is as follows:"
      ],
      "metadata": {
        "id": "wgLyy-tmfmpE"
      }
    },
    {
      "cell_type": "code",
      "source": [
        "class BaseClass:\n",
        "    # Base class attributes and methods\n",
        "\n",
        "class SubClass(BaseClass):\n",
        "    # Subclass attributes and methods"
      ],
      "metadata": {
        "id": "2XkGbCDrgCPU"
      },
      "execution_count": null,
      "outputs": []
    },
    {
      "cell_type": "markdown",
      "source": [
        "In this syntax:\n",
        "\n",
        "- `BaseClass` is the name of the parent or base class from which the subclass will inherit.\n",
        "\n",
        "- `SubClass` is the name of the new class (subclass) that is being defined."
      ],
      "metadata": {
        "id": "sucSB6YCgFHb"
      }
    },
    {
      "cell_type": "markdown",
      "source": [
        "Subclasses can extend, override, or customize the behavior of the base class, promoting code reuse and allowing for more specialized classes that inherit common attributes and methods.\n",
        "\n",
        "Python supports both single and multiple inheritance, meaning a subclass can inherit from one or multiple base classes. The base class(es) can be defined in the parentheses after the subclass name, separated by commas."
      ],
      "metadata": {
        "id": "-AfFHwcmgOkg"
      }
    },
    {
      "cell_type": "markdown",
      "source": [
        "#Question 6\n",
        "\n",
        "How much encapsulation (making instance or class variables private) does Python support?\n",
        "\n",
        "...............\n",
        "\n",
        "Answer 6 -\n",
        "\n",
        "Python supports a limited form of encapsulation through the use of naming conventions and name mangling, but it does not enforce strict access control like some other languages. Encapsulation is the concept of hiding the internal implementation details of a class from the outside world, allowing controlled access to certain attributes and methods.\n",
        "\n",
        "In Python, the level of encapsulation is achieved through naming conventions and guidelines, but it relies on the developer's discipline to follow these conventions.\n",
        "\n",
        "Here's an example demonstrating encapsulation in Python:"
      ],
      "metadata": {
        "id": "CMutNiF1gvRd"
      }
    },
    {
      "cell_type": "code",
      "source": [
        "class MyClass:\n",
        "    def __init__(self):\n",
        "        self.public_variable = \"Public\"\n",
        "        self._protected_variable = \"Protected\"\n",
        "        self.__private_variable = \"Private\"\n",
        "\n",
        "    def public_method(self):\n",
        "        return \"This is a public method.\"\n",
        "\n",
        "    def _protected_method(self):\n",
        "        return \"This is a protected method.\"\n",
        "\n",
        "    def __private_method(self):\n",
        "        return \"This is a private method.\"\n",
        "\n",
        "obj = MyClass()\n",
        "\n",
        "print(obj.public_variable)         # Accessing public attribute\n",
        "print(obj._protected_variable)     # Accessing protected attribute (convention)\n",
        "# print(obj.__private_variable)    # This would raise an AttributeError\n",
        "\n",
        "print(obj.public_method())        # Calling public method\n",
        "print(obj._protected_method())    # Calling protected method (convention)\n",
        "# obj.__private_method()          # This would raise an AttributeError"
      ],
      "metadata": {
        "colab": {
          "base_uri": "https://localhost:8080/"
        },
        "id": "ZFG2d3wKpg0A",
        "outputId": "afb06a35-6747-43ea-fb15-9fdf2ccf49ea"
      },
      "execution_count": 7,
      "outputs": [
        {
          "output_type": "stream",
          "name": "stdout",
          "text": [
            "Public\n",
            "Protected\n",
            "This is a public method.\n",
            "This is a protected method.\n"
          ]
        }
      ]
    },
    {
      "cell_type": "markdown",
      "source": [
        "#Question 7\n",
        "\n",
        "How do you distinguish between a class variable and an instance variable?\n",
        "\n",
        "..............\n",
        "\n",
        "Answer 7 -\n",
        "\n",
        "In Python, class variables and instance variables are two types of variables that have different scopes and purposes within a class. Here's how you can distinguish between them:\n",
        "\n",
        "**`Class Variable`** :\n",
        "\n",
        "a) `Definition` : A class variable is a variable that is defined within the class scope but outside any instance methods. It is shared among all instances of the class.\n",
        "\n",
        "b) `Access` : Class variables can be accessed using either the class name or an instance of the class. When accessed through an instance, it is actually referencing the class variable.\n",
        "\n",
        "c) `Mutability` : Changes made to a class variable will affect all instances of the class.\n",
        "\n",
        "d) `Purpose` : Class variables are typically used to store data that is shared among all instances of the class. They are often used for constants, default values, or data that should remain consistent across instances.\n",
        "\n",
        "**`Instance Variable`** :\n",
        "\n",
        "a) `Definition` : An instance variable is a variable that is defined within the class and is unique to each instance of the class. It is created and initialized when an instance is created.\n",
        "\n",
        "b) `Access` : Instance variables are accessed and modified using the instance itself. Each instance has its own copy of instance variables.\n",
        "\n",
        "c) `Mutability` : Changes made to an instance variable affect only the specific instance on which the modification is performed.\n",
        "\n",
        "d) `Purpose` : Instance variables are used to store data that is specific to each instance. They represent the unique characteristics or state of each object.\n",
        "\n",
        "Here's an example illustrating the distinction between class variables and instance variables:"
      ],
      "metadata": {
        "id": "j7dLFtrIpq0W"
      }
    },
    {
      "cell_type": "code",
      "source": [
        "class MyClass:\n",
        "    class_variable = \"This is a class variable\"  # Class variable\n",
        "\n",
        "    def __init__(self, instance_variable):\n",
        "        self.instance_variable = instance_variable  # Instance variable\n",
        "\n",
        "# Create instances\n",
        "obj1 = MyClass(\"Instance 1\")\n",
        "obj2 = MyClass(\"Instance 2\")\n",
        "\n",
        "# Access class variable\n",
        "print(MyClass.class_variable)  # Output: This is a class variable\n",
        "\n",
        "# Access instance variables\n",
        "print(obj1.instance_variable)  # Output: Instance 1\n",
        "print(obj2.instance_variable)  # Output: Instance 2\n",
        "\n",
        "# Modify instance variables\n",
        "obj1.instance_variable = \"New Value\"\n",
        "print(obj1.instance_variable)  # Output: New Value\n",
        "print(obj2.instance_variable)  # Output: Instance 2 (unchanged)"
      ],
      "metadata": {
        "colab": {
          "base_uri": "https://localhost:8080/"
        },
        "id": "9TE6oATKpjjo",
        "outputId": "fce37686-1418-4ee6-9208-1bb41a5ae42e"
      },
      "execution_count": 8,
      "outputs": [
        {
          "output_type": "stream",
          "name": "stdout",
          "text": [
            "This is a class variable\n",
            "Instance 1\n",
            "Instance 2\n",
            "New Value\n",
            "Instance 2\n"
          ]
        }
      ]
    },
    {
      "cell_type": "markdown",
      "source": [
        "In this example, `class_variable` is a class variable shared among all instances, while `instance_variable` is an instance variable unique to each instance."
      ],
      "metadata": {
        "id": "dRrOuXvDqddz"
      }
    },
    {
      "cell_type": "markdown",
      "source": [
        "#Question 8\n",
        "\n",
        "When, if ever, can self be included in a class's method definitions?\n",
        "\n",
        "...............\n",
        "\n",
        "Answer 8 -\n",
        "\n",
        "In Python, the self parameter is included in a class's method definitions to refer to the instance of the class on which the method is being called. It is a common convention and best practice to include self as the first parameter in instance methods.\n",
        "\n",
        "Here's when and why you include self in a class's method definitions:\n",
        "\n",
        "1) **Instance Methods** : Instance methods are functions defined within a class that operate on instance-specific data (instance variables). When you call an instance method on an object, Python automatically passes the instance itself as the first argument (`self`). This allows the method to access and manipulate the attributes of the specific instance.\n",
        "\n",
        "2) **Accessing Attributes** : By including self as the first parameter, you can access instance variables and other methods within the same class using self.attribute or **self.method()** notation.\n",
        "\n",
        "3) **Object Context** : The self parameter helps you maintain the context of the object on which the method is called. Without it, the method would not know which instance it is operating on.\n",
        "\n",
        "Here's an example illustrating the use of `self` in class's method definitions:"
      ],
      "metadata": {
        "id": "c0jqddgNqkbm"
      }
    },
    {
      "cell_type": "code",
      "source": [
        "class MyClass:\n",
        "    def __init__(self, value):\n",
        "        self.value = value\n",
        "\n",
        "    def display_value(self):\n",
        "        print(\"Value:\", self.value)\n",
        "\n",
        "    def update_value(self, new_value):\n",
        "        self.value = new_value\n",
        "\n",
        "# Creating an instance\n",
        "obj = MyClass(42)\n",
        "\n",
        "# Calling instance methods\n",
        "obj.display_value()\n",
        "obj.update_value(100)\n",
        "obj.display_value()"
      ],
      "metadata": {
        "colab": {
          "base_uri": "https://localhost:8080/"
        },
        "id": "hJlYKIs3qYYk",
        "outputId": "47f35ae6-930d-461c-f1b7-18ba4d77356b"
      },
      "execution_count": 1,
      "outputs": [
        {
          "output_type": "stream",
          "name": "stdout",
          "text": [
            "Value: 42\n",
            "Value: 100\n"
          ]
        }
      ]
    },
    {
      "cell_type": "markdown",
      "source": [
        "In the example above, **display_value()** and **update_value()** are instance methods that include `self` as the first parameter. This allows them to access and manipulate the instance-specific `value` attribute."
      ],
      "metadata": {
        "id": "j0noMhoTwG_e"
      }
    },
    {
      "cell_type": "markdown",
      "source": [
        "#Question 9\n",
        "\n",
        "What is the difference between the `_ _add_ _` and the `_ _radd_ _` methods?\n",
        "\n",
        "...............\n",
        "\n",
        "Answer 9 -\n",
        "\n",
        "The **`__add__`** and **`__radd__`** methods are special methods in Python that define how objects of a class behave when used with the addition (`+`) operator. These methods allow you to customize the behavior of addition operations involving instances of your class.\n",
        "\n",
        "Here's the difference between **`__add__`** and **`__radd__`** methods:\n",
        "\n",
        "1) **`__add__`** Method:\n",
        "\n",
        "- The **`__add__`** method is called when the addition operation is performed on an object using the `+` operator.\n",
        "\n",
        "- It takes two arguments : `self` (the instance on which the method is called) and other (the object on the right side of the `+` operator).\n",
        "\n",
        "It returns the result of the addition operation.\n",
        "\n",
        "2) **`__radd__`** Method:\n",
        "\n",
        "- The **`__radd__`** method is called when the object on the right side of the `+` operator does not have an **`__add__`** method or when the addition operation is not supported by the object on the left side.\n",
        "\n",
        "- It takes two arguments: `self` (the instance on which the method is called) and other (the object on the left side of the + operator).\n",
        "\n",
        "- It returns the result of the addition operation.\n",
        "\n",
        "- In essence, the **`__add__`** method is used to define the behavior of addition when your object is on the left side of the `+` operator, and the **`__radd__`** method is used when your object is on the right side.\n",
        "\n",
        "Here's an example demonstrating the use of **`__add__`** and **`__radd__`** methods:"
      ],
      "metadata": {
        "id": "74XsjTShwdg7"
      }
    },
    {
      "cell_type": "code",
      "source": [
        "class Number:\n",
        "    def __init__(self, value):\n",
        "        self.value = value\n",
        "\n",
        "    def __add__(self, other):\n",
        "        if isinstance(other, Number):\n",
        "            return Number(self.value + other.value)\n",
        "        else:\n",
        "            return Number(self.value + other)\n",
        "\n",
        "    def __radd__(self, other):\n",
        "        return Number(self.value + other)\n",
        "\n",
        "    def __str__(self):\n",
        "        return str(self.value)\n",
        "\n",
        "num1 = Number(5)\n",
        "num2 = Number(10)\n",
        "\n",
        "result1 = num1 + num2        # Calls num1.__add__(num2)\n",
        "result2 = 20 + num1          # Calls num1.__radd__(20)\n",
        "\n",
        "print(result1)\n",
        "print(result2)"
      ],
      "metadata": {
        "colab": {
          "base_uri": "https://localhost:8080/"
        },
        "id": "RzrXG0r1wDlJ",
        "outputId": "2f835797-f100-4b9a-d377-f5eef577324b"
      },
      "execution_count": 2,
      "outputs": [
        {
          "output_type": "stream",
          "name": "stdout",
          "text": [
            "15\n",
            "25\n"
          ]
        }
      ]
    },
    {
      "cell_type": "markdown",
      "source": [
        "#Question 10\n",
        "\n",
        "When is it necessary to use a reflection method? When do you not need it, even though you support the operation in question?\n",
        "\n",
        "................\n",
        "\n",
        "Answer 2 -\n",
        "\n",
        "Reflection methods in Python, also known as `magic` or `dunder` methods (double underscore methods), are used to customize the behavior of built-in operations or functions. These methods provide a way to define how instances of your custom classes behave when certain operations are performed on them. Reflection methods are not always necessary, but they offer flexibility and control over the behavior of your objects.\n",
        "\n",
        "Here's when it's necessary to use a reflection method:\n",
        "\n",
        "1) **Customizing Built-in Operations** : If you want to customize the behavior of a built-in operation (e.g., addition, comparison, string representation) for instances of your class, you can define the corresponding reflection method (e.g., __add__, __lt__, __str__).\n",
        "\n",
        "2) **Creating User-Friendly Objects** : Reflection methods allow you to create more user-friendly and intuitive objects by defining how they interact with Python's built-in functions and operators.\n",
        "\n",
        "3) **Overriding Default Behavior** : Reflection methods enable you to override the default behavior of operations for instances of your class, allowing you to implement specific logic or semantics.\n",
        "\n",
        "However, there are cases where you might not need to define a reflection method even if you support the corresponding operation:\n",
        "\n",
        "1) **Default Behavior** : If the default behavior of a built-in operation is appropriate for your class, you don't need to define a reflection method. Python's default behavior will be used.\n",
        "\n",
        "2) **Inherited Behavior** : If your class inherits from a parent class that already defines a reflection method for a certain operation, the inherited behavior will be used unless you want to further customize it.\n",
        "\n",
        "3) **Non-Standard Behavior** : If your class does not adhere to standard Python behavior for a certain operation, you might choose not to define the reflection method to avoid confusion.\n",
        "\n",
        "4) **Explicit Methods** : Some operations, such as calling an object as a function (**`__call__`**), can be supported through explicit methods without needing a reflection method.\n",
        "\n",
        "Example where a reflection method is necessary:"
      ],
      "metadata": {
        "id": "2UMQmBWWyiG0"
      }
    },
    {
      "cell_type": "code",
      "source": [
        "class Vector:\n",
        "    def __init__(self, x, y):\n",
        "        self.x = x\n",
        "        self.y = y\n",
        "\n",
        "    def __add__(self, other):\n",
        "        return Vector(self.x + other.x, self.y + other.y)\n",
        "\n",
        "v1 = Vector(1, 2)\n",
        "v2 = Vector(3, 4)\n",
        "result = v1 + v2"
      ],
      "metadata": {
        "id": "IvryZBrrya2E"
      },
      "execution_count": 3,
      "outputs": []
    },
    {
      "cell_type": "markdown",
      "source": [
        "#Question 11\n",
        "\n",
        "What is the **`__iadd__`** method called?\n",
        "\n",
        "...............\n",
        "\n",
        "Answer 11 -\n",
        "\n",
        "The **`__iadd__`** method is called when the `+=` (in-place addition) operator is used on an object in Python. It allows you to customize the behavior of the in-place addition operation for instances of your class.\n",
        "\n",
        "The **`__iadd__`** method takes two arguments: `self` (the instance on which the method is called) and `other` (the object on the right side of the `+=` operator). It should modify the state of the instance and return the modified instance.\n",
        "\n",
        "Here's an example demonstrating the use of the **`__iadd__`** method:"
      ],
      "metadata": {
        "id": "9Wwgjz0u2HHx"
      }
    },
    {
      "cell_type": "code",
      "source": [
        "class Number:\n",
        "    def __init__(self, value):\n",
        "        self.value = value\n",
        "\n",
        "    def __iadd__(self, other):\n",
        "        if isinstance(other, Number):\n",
        "            self.value += other.value\n",
        "        else:\n",
        "            self.value += other\n",
        "        return self\n",
        "\n",
        "    def __str__(self):\n",
        "        return str(self.value)\n",
        "\n",
        "num1 = Number(5)\n",
        "num2 = Number(10)\n",
        "\n",
        "num1 += num2   # Calls num1.__iadd__(num2)\n",
        "num1 += 20     # Calls num1.__iadd__(20)\n",
        "\n",
        "print(num1)"
      ],
      "metadata": {
        "colab": {
          "base_uri": "https://localhost:8080/"
        },
        "id": "lz6uAMcm2GO8",
        "outputId": "ca8742a8-d07c-4639-a34d-707578ca241b"
      },
      "execution_count": 4,
      "outputs": [
        {
          "output_type": "stream",
          "name": "stdout",
          "text": [
            "35\n"
          ]
        }
      ]
    },
    {
      "cell_type": "markdown",
      "source": [
        "#Question 12\n",
        "\n",
        "Is the **`__init__`** method inherited by subclasses? What do you do if you need to customize its\n",
        "behavior within a subclass?\n",
        "\n",
        "................\n",
        "\n",
        "Answer 12 -\n",
        "\n",
        "Yes, the **`__init__`** method is inherited by subclasses in Python. When you create a new subclass, it inherits all the methods, including **`__init__`** , from its parent class (also known as the base class). However, the inherited **`__init__`** method can be overridden in the subclass to customize its behavior.\n",
        "\n",
        "If you need to customize the behavior of the **`__init__`** method within a subclass, you can do so by defining a new **`__init__`** method in the subclass. This new method will replace the inherited **`__init__`** method, allowing you to provide specific initialization logic for instances of the subclass.\n",
        "\n",
        "Here's an example demonstrating how the **`__init__`** method is inherited and overridden in a subclass:"
      ],
      "metadata": {
        "id": "yTPs82ZnIk4J"
      }
    },
    {
      "cell_type": "code",
      "source": [
        "class Animal:\n",
        "    def __init__(self, species):\n",
        "        self.species = species\n",
        "\n",
        "    def speak(self):\n",
        "        pass\n",
        "\n",
        "class Dog(Animal):\n",
        "    def __init__(self, species, breed):\n",
        "        super().__init__(species)  # Call parent class's __init__ method\n",
        "        self.breed = breed\n",
        "\n",
        "    def speak(self):\n",
        "        return \"Woof!\"\n",
        "\n",
        "# Create instances of subclasses\n",
        "dog = Dog(\"Canine\", \"Labrador\")\n",
        "\n",
        "print(dog.species)\n",
        "print(dog.breed)\n",
        "print(dog.speak())"
      ],
      "metadata": {
        "colab": {
          "base_uri": "https://localhost:8080/"
        },
        "id": "2jv6-66V2tNd",
        "outputId": "5ee39d1a-25e2-4af5-d6ea-0b98378c418a"
      },
      "execution_count": 5,
      "outputs": [
        {
          "output_type": "stream",
          "name": "stdout",
          "text": [
            "Canine\n",
            "Labrador\n",
            "Woof!\n"
          ]
        }
      ]
    }
  ]
}