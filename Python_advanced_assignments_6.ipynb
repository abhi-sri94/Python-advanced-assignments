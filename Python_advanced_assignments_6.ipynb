{
  "nbformat": 4,
  "nbformat_minor": 0,
  "metadata": {
    "colab": {
      "provenance": []
    },
    "kernelspec": {
      "name": "python3",
      "display_name": "Python 3"
    },
    "language_info": {
      "name": "python"
    }
  },
  "cells": [
    {
      "cell_type": "markdown",
      "source": [
        "#Question 1\n",
        "\n",
        "Describe three applications for exception processing.\n",
        "\n",
        ".............\n",
        "\n",
        "Answer 1 -\n",
        "\n",
        "Exception processing, also known as error handling or exception handling, is a crucial aspect of programming that helps manage unexpected or exceptional situations in a controlled manner. Here are three applications for exception processing:\n",
        "\n",
        "1) **Input Validation and Error Reporting** :\n",
        "When your program interacts with external data sources, such as user input, files, databases, or network requests, there is a possibility of encountering incorrect or unexpected data. Exception processing allows you to validate and sanitize input data, ensuring that your program can handle various scenarios without crashing or producing incorrect results. For example, you can catch exceptions raised due to invalid input and provide meaningful error messages to users.\n",
        "\n",
        "2) **Resource Management and Cleanup** :\n",
        "Exception processing is used to manage resources like files, database connections, network sockets, or memory allocations. If an exception occurs during the use of these resources, it's essential to release them properly to prevent memory leaks or resource exhaustion. Using constructs like the `try...finally` block, you can ensure that cleanup operations are performed even if an exception occurs, guaranteeing the correct release of resources.\n",
        "\n",
        "3) **Debugging and Logging** :\n",
        "Exception processing provides a mechanism to catch and handle unexpected errors, helping you identify and fix issues during development and production. By capturing exceptions and logging relevant information, you can gain insights into the cause of failures, which aids in debugging and improving the reliability of your software. Properly implemented exception handling can make it easier to diagnose problems and provide valuable information for troubleshooting.\n",
        "\n",
        "Example demonstrating exception processing:"
      ],
      "metadata": {
        "id": "CIfTlmfB_ina"
      }
    },
    {
      "cell_type": "code",
      "source": [
        "try:\n",
        "    dividend = int(input(\"Enter a dividend: \"))\n",
        "    divisor = int(input(\"Enter a divisor: \"))\n",
        "    result = dividend / divisor\n",
        "except ZeroDivisionError:\n",
        "    print(\"Error: Division by zero is not allowed.\")\n",
        "except ValueError:\n",
        "    print(\"Error: Please enter valid integer values.\")\n",
        "else:\n",
        "    print(f\"The result of division is: {result}\")\n",
        "finally:\n",
        "    print(\"Exiting the program.\")"
      ],
      "metadata": {
        "colab": {
          "base_uri": "https://localhost:8080/"
        },
        "id": "HOskfDFaAA8f",
        "outputId": "22e884f0-4502-4906-ae88-8b99aa564b2e"
      },
      "execution_count": null,
      "outputs": [
        {
          "output_type": "stream",
          "name": "stdout",
          "text": [
            "Enter a dividend: 10\n",
            "Enter a divisor: 0\n",
            "Error: Division by zero is not allowed.\n",
            "Exiting the program.\n"
          ]
        }
      ]
    },
    {
      "cell_type": "markdown",
      "source": [
        "#Question 2\n",
        "\n",
        "What happens if you don't do something extra to treat an exception?\n",
        "\n",
        "..............\n",
        "\n",
        "Answer 2 -\n",
        "\n",
        "If you don't implement exception handling or take any additional steps to treat an exception, the default behavior is for the program to terminate and an error message to be displayed. This behavior can be disruptive to both the user and the overall functioning of the program. Without proper exception handling, your program might:\n",
        "\n",
        "1) **Crash** : When an unhandled exception occurs, the program crashes, and the control flow is abruptly terminated. This can lead to unexpected program termination and a poor user experience.\n",
        "\n",
        "2) **Error Messages** : Depending on the programming language and environment, an error message may be displayed to the user. This message might be cryptic and not helpful for diagnosing the issue.\n",
        "\n",
        "3) **Resource Leaks** : If the exception occurs during the use of resources like files, network connections, or memory, these resources might not be properly released or closed. This can lead to memory leaks or other resource-related problems.\n",
        "\n",
        "4) **Inconsistent State** : Unhandled exceptions can leave the program in an inconsistent state, where data might be corrupted or variables are not properly initialized.\n",
        "\n",
        "5) **Data Loss** : If an exception occurs while processing data, any changes made to the data might be lost, leading to data corruption or loss.\n",
        "\n",
        "6) **Security Risks** : In certain cases, unhandled exceptions can expose vulnerabilities or security risks in your application."
      ],
      "metadata": {
        "id": "07jxe4uhAWyW"
      }
    },
    {
      "cell_type": "markdown",
      "source": [
        "#Question 3\n",
        "\n",
        "What are your options for recovering from an exception in your script?\n",
        "\n",
        "..............\n",
        "\n",
        "Answer 3 -\n",
        "\n",
        "When an exception occurs in a script, you have several options for recovering from it and continuing the execution of your program in a controlled manner. These options allow you to handle exceptions gracefully, provide meaningful error messages, and take appropriate actions based on the type of exception encountered. Here are some common ways to recover from exceptions:\n",
        "\n",
        "1) **Using `try-except` Blocks** :\n",
        "The most common way to recover from exceptions is by using try-except blocks. You can wrap the code that might raise an exception within a try block, and then specify one or more except blocks to catch specific exceptions and define how to handle them."
      ],
      "metadata": {
        "id": "64K61trgA6UM"
      }
    },
    {
      "cell_type": "code",
      "source": [
        "try:\n",
        "    # Code that might raise an exception\n",
        "    result = 10 / 0\n",
        "except ZeroDivisionError:\n",
        "    print(\"Error: Division by zero.\")\n",
        "except Exception as e:\n",
        "    print(f\"An error occurred: {e}\")"
      ],
      "metadata": {
        "colab": {
          "base_uri": "https://localhost:8080/"
        },
        "id": "7npUE80-AG0Y",
        "outputId": "f2b412e9-c988-4f37-cc85-41487b5049d6"
      },
      "execution_count": null,
      "outputs": [
        {
          "output_type": "stream",
          "name": "stdout",
          "text": [
            "Error: Division by zero.\n"
          ]
        }
      ]
    },
    {
      "cell_type": "markdown",
      "source": [
        "2) **Handling Multiple Exceptions** :\n",
        "You can catch multiple exceptions in a single except block by using parentheses or tuple notation. This can be useful when you want to handle multiple exception types in the same way."
      ],
      "metadata": {
        "id": "Lz7XB06MBQxX"
      }
    },
    {
      "cell_type": "code",
      "source": [
        "try:\n",
        "    # Code that might raise an exception\n",
        "    result = 10 / 0\n",
        "except (ZeroDivisionError, ArithmeticError):\n",
        "    print(\"An arithmetic error occurred.\")"
      ],
      "metadata": {
        "colab": {
          "base_uri": "https://localhost:8080/"
        },
        "id": "SHh_7_sqBLoW",
        "outputId": "e99380bc-4cd8-4efa-cd36-2e41af929c99"
      },
      "execution_count": null,
      "outputs": [
        {
          "output_type": "stream",
          "name": "stdout",
          "text": [
            "An arithmetic error occurred.\n"
          ]
        }
      ]
    },
    {
      "cell_type": "markdown",
      "source": [
        "3) **Using an Exception's Attributes** :\n",
        "Some exceptions provide attributes that contain additional information about the error. You can access these attributes to extract information and take appropriate actions."
      ],
      "metadata": {
        "id": "9l5Nxhj9BcM0"
      }
    },
    {
      "cell_type": "code",
      "source": [
        "try:\n",
        "    # Code that might raise an exception\n",
        "    result = 10 / 0\n",
        "except ZeroDivisionError as e:\n",
        "    print(f\"Error: {e}\")"
      ],
      "metadata": {
        "colab": {
          "base_uri": "https://localhost:8080/"
        },
        "id": "m0pfb2G7BbJx",
        "outputId": "0cf8fa37-0504-4c3a-c233-8139fc807c4f"
      },
      "execution_count": null,
      "outputs": [
        {
          "output_type": "stream",
          "name": "stdout",
          "text": [
            "Error: division by zero\n"
          ]
        }
      ]
    },
    {
      "cell_type": "markdown",
      "source": [
        "4) **Using the `else` Clause** :\n",
        "You can use the else clause in a try-except block to specify code that should be executed if no exceptions are raised."
      ],
      "metadata": {
        "id": "0V0W15emBnFB"
      }
    },
    {
      "cell_type": "code",
      "source": [
        "try:\n",
        "    # Code that might raise an exception\n",
        "    result = 10 / 2\n",
        "except ZeroDivisionError:\n",
        "    print(\"Error: Division by zero.\")\n",
        "else:\n",
        "    print(f\"Result: {result}\")"
      ],
      "metadata": {
        "colab": {
          "base_uri": "https://localhost:8080/"
        },
        "id": "r_Sw17I6BjYr",
        "outputId": "8ac8402f-2b00-4085-e463-ddc189915bee"
      },
      "execution_count": null,
      "outputs": [
        {
          "output_type": "stream",
          "name": "stdout",
          "text": [
            "Result: 5.0\n"
          ]
        }
      ]
    },
    {
      "cell_type": "markdown",
      "source": [
        "5) **Using the `finally` Clause** :\n",
        "The finally clause is used to define code that should be executed regardless of whether an exception occurred. It's often used for cleanup operations, like closing files or releasing resources."
      ],
      "metadata": {
        "id": "uThMq74uB1y3"
      }
    },
    {
      "cell_type": "code",
      "source": [
        "try:\n",
        "    # Code that might raise an exception\n",
        "    file = open(\"data.txt\", \"r\")\n",
        "    result = int(file.readline())\n",
        "except ValueError:\n",
        "    print(\"Error: Invalid data.\")\n",
        "finally:\n",
        "    file.close()"
      ],
      "metadata": {
        "id": "WmF2z8zzPcp8"
      },
      "execution_count": null,
      "outputs": []
    },
    {
      "cell_type": "markdown",
      "source": [
        "6) **Raising Exceptions** :\n",
        "In some cases, you might want to handle an exception but then raise a different exception to indicate a higher-level problem or to provide more context."
      ],
      "metadata": {
        "id": "GG7QVJaeM8-O"
      }
    },
    {
      "cell_type": "code",
      "source": [
        "try:\n",
        "    # Code that might raise an exception\n",
        "    value = int(input(\"Enter a positive number: \"))\n",
        "    if value <= 0:\n",
        "        raise ValueError(\"Value must be positive.\")\n",
        "except ValueError as e:\n",
        "    print(f\"Error: {e}\")"
      ],
      "metadata": {
        "colab": {
          "base_uri": "https://localhost:8080/"
        },
        "id": "OExrFX4kCOKf",
        "outputId": "5b3dfb77-3eda-4d1a-c8eb-4fd58cbba54f"
      },
      "execution_count": null,
      "outputs": [
        {
          "output_type": "stream",
          "name": "stdout",
          "text": [
            "Enter a positive number: -11\n",
            "Error: Value must be positive.\n"
          ]
        }
      ]
    },
    {
      "cell_type": "markdown",
      "source": [
        "#Question 4\n",
        "\n",
        "Describe two methods for triggering exceptions in your script.\n",
        "\n",
        "..............\n",
        "\n",
        "Answer 4 -\n",
        "\n",
        "In Python, you can intentionally trigger exceptions to handle specific situations or scenarios in your script.\n",
        "\n",
        "Here are two methods for triggering exceptions:\n",
        "\n",
        "1) **Using the raise Statement** :\n",
        "You can use the raise statement to explicitly raise an exception of a specific type. This is often used to indicate that a certain condition or situation has occurred that requires special handling."
      ],
      "metadata": {
        "id": "QqFdhFkaPjM2"
      }
    },
    {
      "cell_type": "code",
      "source": [
        "def validate_age(age):\n",
        "    if age < 0:\n",
        "        raise ValueError(\"Age cannot be negative\")\n",
        "\n",
        "try:\n",
        "    user_age = -5\n",
        "    validate_age(user_age)\n",
        "except ValueError as e:\n",
        "    print(f\"Error: {e}\")"
      ],
      "metadata": {
        "colab": {
          "base_uri": "https://localhost:8080/"
        },
        "id": "WpsXJkGEP1l2",
        "outputId": "630ce64d-fe20-42e7-df65-093330d006dd"
      },
      "execution_count": 23,
      "outputs": [
        {
          "output_type": "stream",
          "name": "stdout",
          "text": [
            "Error: Age cannot be negative\n"
          ]
        }
      ]
    },
    {
      "cell_type": "markdown",
      "source": [
        "2) **Using Built-in Functions or Methods** :\n",
        "Some built-in functions or methods trigger exceptions based on specific conditions. For example, the int() function raises a ValueError exception if the provided string cannot be converted to an integer."
      ],
      "metadata": {
        "id": "l-l0QCyJP5Px"
      }
    },
    {
      "cell_type": "code",
      "source": [
        "try:\n",
        "    num_str = \"abc\"\n",
        "    num = int(num_str)\n",
        "except ValueError as e:\n",
        "    print(f\"Error: {e}\")"
      ],
      "metadata": {
        "colab": {
          "base_uri": "https://localhost:8080/"
        },
        "id": "PU9SndLBP35R",
        "outputId": "b1648b68-326b-466c-9189-b836fec0c13f"
      },
      "execution_count": 24,
      "outputs": [
        {
          "output_type": "stream",
          "name": "stdout",
          "text": [
            "Error: invalid literal for int() with base 10: 'abc'\n"
          ]
        }
      ]
    },
    {
      "cell_type": "markdown",
      "source": [
        "#Question 5\n",
        "\n",
        "Identify two methods for specifying actions to be executed at termination time, regardless of\n",
        "whether or not an exception exists.\n",
        "\n",
        "...............\n",
        "\n",
        "Answer 5 -\n",
        "\n",
        "In Python, you can specify actions to be executed at termination time, regardless of whether or not an exception exists, using the finally clause and the atexit module. Here are two methods for achieving this:\n",
        "\n",
        "1) **Using the finally Clause**:\n",
        "The finally clause is used in a try...except block to specify code that should be executed regardless of whether an exception occurred or not. It is commonly used for cleanup operations or releasing resources."
      ],
      "metadata": {
        "id": "GK-TwrUQQJbo"
      }
    },
    {
      "cell_type": "code",
      "source": [
        "try:\n",
        "    # Code that might raise an exception\n",
        "    file = open(\"data.txt\", \"r\")\n",
        "    result = int(file.readline())\n",
        "except ValueError:\n",
        "    print(\"Error: Invalid data.\")\n",
        "finally:\n",
        "    if file:\n",
        "        file.close()"
      ],
      "metadata": {
        "id": "pncsnEOMQbCk"
      },
      "execution_count": null,
      "outputs": []
    },
    {
      "cell_type": "markdown",
      "source": [
        "2) **Using the atexit Module** :\n",
        "The atexit module provides a way to register functions that will be executed when the program is about to exit, whether normally or due to an unhandled exception."
      ],
      "metadata": {
        "id": "oxRCUCoiQesp"
      }
    },
    {
      "cell_type": "code",
      "source": [
        "import atexit\n",
        "\n",
        "def cleanup():\n",
        "    print(\"Exiting the program and performing cleanup\")\n",
        "\n",
        "atexit.register(cleanup)"
      ],
      "metadata": {
        "colab": {
          "base_uri": "https://localhost:8080/"
        },
        "id": "MpD7k1qTQocA",
        "outputId": "c1da8b94-9e13-428d-fc81-9324e6c53e0e"
      },
      "execution_count": 27,
      "outputs": [
        {
          "output_type": "execute_result",
          "data": {
            "text/plain": [
              "<function __main__.cleanup()>"
            ]
          },
          "metadata": {},
          "execution_count": 27
        }
      ]
    },
    {
      "cell_type": "markdown",
      "source": [
        "In this example, the cleanup function is registered using **atexit.register()** . This function will be automatically called when the program exits, ensuring that the cleanup code is executed regardless of whether an exception occurred.\n",
        "\n",
        "Both methods allow you to ensure that specific actions are taken at program termination time, regardless of whether exceptions occurred during program execution. This helps maintain the integrity of your program and any resources it may have used."
      ],
      "metadata": {
        "id": "ZgtKv6IoQ6Of"
      }
    }
  ]
}