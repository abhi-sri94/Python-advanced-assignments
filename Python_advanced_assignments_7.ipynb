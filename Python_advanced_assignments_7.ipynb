{
  "nbformat": 4,
  "nbformat_minor": 0,
  "metadata": {
    "colab": {
      "provenance": [],
      "toc_visible": true
    },
    "kernelspec": {
      "name": "python3",
      "display_name": "Python 3"
    },
    "language_info": {
      "name": "python"
    }
  },
  "cells": [
    {
      "cell_type": "markdown",
      "source": [
        "#Question 1\n",
        "\n",
        "What is the purpose of the try statement?\n",
        "\n",
        "..............\n",
        "\n",
        "Answer 1 -\n",
        "\n",
        "The `try` statement in Python is used to enclose a block of code that might raise exceptions. The primary purpose of the try statement is to provide a structured way to handle exceptions and gracefully manage exceptional situations that might occur during the execution of the code.\n",
        "\n",
        "The main purposes of the try statement are:\n",
        "\n",
        "1) **Exception Handling** :\n",
        "The primary purpose of the try statement is to handle exceptions that might be raised within the enclosed code block. By placing code that might raise exceptions inside a try block, you can catch and handle those exceptions using one or more except blocks.\n",
        "\n",
        "2) **Graceful Recovery** :\n",
        "The try statement allows you to define a plan for graceful recovery from exceptional situations. Instead of letting the program crash and terminate, you can catch specific exceptions and take appropriate actions to recover or continue execution.\n",
        "\n",
        "3) **Error Reporting** :\n",
        "The try statement provides a mechanism to catch exceptions and provide meaningful error messages or notifications to users. This improves user experience by helping users understand why an error occurred and what they can do to resolve it.\n",
        "\n",
        "4) **Resource Cleanup** :\n",
        "The try statement is often used in combination with the finally clause to ensure proper cleanup of resources, such as closing files, releasing memory, or closing network connections. The finally block is executed regardless of whether an exception occurred, making it suitable for cleanup operations.\n",
        "\n",
        "5) **Complex Control Flow** :\n",
        "The try statement can be used to implement complex control flow that involves both normal code execution and handling exceptional cases. It allows you to define different code paths based on the presence or absence of exceptions.\n",
        "\n",
        "Here's a simple example of using the try statement to handle division by zero:"
      ],
      "metadata": {
        "id": "6fOxme4vRikr"
      }
    },
    {
      "cell_type": "code",
      "source": [
        "try:\n",
        "    dividend = int(input(\"Enter a dividend: \"))\n",
        "    divisor = int(input(\"Enter a divisor: \"))\n",
        "    result = dividend / divisor\n",
        "except ZeroDivisionError:\n",
        "    print(\"Error: Division by zero is not allowed.\")\n",
        "else:\n",
        "    print(f\"The result of division is: {result}\")\n",
        "finally:\n",
        "    print(\"Exiting the program.\")"
      ],
      "metadata": {
        "colab": {
          "base_uri": "https://localhost:8080/"
        },
        "id": "TK3-WuFHUYjT",
        "outputId": "4f1d9c35-63c3-43a7-8c94-9ae99e84874b"
      },
      "execution_count": 4,
      "outputs": [
        {
          "output_type": "stream",
          "name": "stdout",
          "text": [
            "Enter a dividend: 10\n",
            "Enter a divisor: 5\n",
            "The result of division is: 2.0\n",
            "Exiting the program.\n"
          ]
        }
      ]
    },
    {
      "cell_type": "markdown",
      "source": [
        "#Question 2\n",
        "\n",
        "What are the two most popular try statement variations?\n",
        "\n",
        "..............\n",
        "\n",
        "Answer 2 -\n",
        "\n",
        "The two most popular variations of the try statement in Python are:\n",
        "\n",
        "1) **try-except Block** :\n",
        "The try-except block is the most commonly used variation of the try statement. It allows you to catch and handle specific exceptions that might occur within the try block. By specifying one or more except blocks after the try block, you can define how to handle different types of exceptions that might be raised."
      ],
      "metadata": {
        "id": "XCMpoxuoUpFP"
      }
    },
    {
      "cell_type": "code",
      "source": [
        "try:\n",
        "    # Code that might raise an exception\n",
        "    result = 10 / 0\n",
        "except ZeroDivisionError:\n",
        "    print(\"Error: Division by zero.\")\n",
        "except ValueError:\n",
        "    print(\"Error: Invalid value.\")"
      ],
      "metadata": {
        "colab": {
          "base_uri": "https://localhost:8080/"
        },
        "id": "B5YgKtxSUaXY",
        "outputId": "64e0f7d1-a7e5-420d-82ad-ad0e3caab0a7"
      },
      "execution_count": 7,
      "outputs": [
        {
          "output_type": "stream",
          "name": "stdout",
          "text": [
            "Error: Division by zero.\n"
          ]
        }
      ]
    },
    {
      "cell_type": "markdown",
      "source": [
        "2) **try-except-else Block** :\n",
        "The try-except-else block adds an else block after the except block. The code in the else block is executed only if no exceptions are raised within the try block. It's often used to define actions that should be performed when the try block executes successfully, without encountering any exceptions."
      ],
      "metadata": {
        "id": "wWYLZh5BVCHl"
      }
    },
    {
      "cell_type": "code",
      "source": [
        "try:\n",
        "    # Code that might raise an exception\n",
        "    num_str = input(\"Enter a number: \")\n",
        "    num = int(num_str)\n",
        "except ValueError:\n",
        "    print(\"Error: Invalid input.\")\n",
        "else:\n",
        "    print(f\"You entered: {num}\")"
      ],
      "metadata": {
        "colab": {
          "base_uri": "https://localhost:8080/"
        },
        "id": "ubpZkKUIU4vu",
        "outputId": "8726da0f-cf65-4cf7-9ec0-e60376e8e84c"
      },
      "execution_count": 10,
      "outputs": [
        {
          "output_type": "stream",
          "name": "stdout",
          "text": [
            "Enter a number: 3.5\n",
            "Error: Invalid input.\n"
          ]
        }
      ]
    },
    {
      "cell_type": "markdown",
      "source": [
        "Both of these variations of the `try` statement are essential for effectively handling exceptions and controlling the flow of your program based on the occurrence or absence of exceptions."
      ],
      "metadata": {
        "id": "cOE4lY5dVTWb"
      }
    },
    {
      "cell_type": "markdown",
      "source": [
        "#Question 3\n",
        "\n",
        "What is the purpose of the raise statement?\n",
        "\n",
        ".............\n",
        "\n",
        "Answer 3 -\n",
        "\n",
        "The raise statement in Python is used to intentionally raise exceptions within your code. Its primary purpose is to trigger exceptions and indicate that a specific condition or situation requires special handling. The raise statement allows you to create and raise custom exceptions, or to raise built-in exceptions with additional context or information.\n",
        "\n",
        "The main purposes of the raise statement are:\n",
        "\n",
        "1) **Raising Custom Exceptions** :\n",
        "You can use the raise statement to create and raise your own custom exceptions. This is particularly useful when you want to define specific error conditions that are relevant to your application."
      ],
      "metadata": {
        "id": "b6qUbeRpVYz0"
      }
    },
    {
      "cell_type": "code",
      "source": [
        "def validate_age(age):\n",
        "    if age < 0:\n",
        "        raise ValueError(\"Age cannot be negative\")\n",
        "\n",
        "try:\n",
        "    user_age = -5\n",
        "    validate_age(user_age)\n",
        "except ValueError as e:\n",
        "    print(f\"Error: {e}\")"
      ],
      "metadata": {
        "colab": {
          "base_uri": "https://localhost:8080/"
        },
        "id": "4xEaH2HOVHCR",
        "outputId": "719ba690-3407-4c71-85e6-5609e9d9ac03"
      },
      "execution_count": 11,
      "outputs": [
        {
          "output_type": "stream",
          "name": "stdout",
          "text": [
            "Error: Age cannot be negative\n"
          ]
        }
      ]
    },
    {
      "cell_type": "markdown",
      "source": [
        "2) **Raising Built-in Exceptions with Context** :\n",
        "You can also use the raise statement to raise built-in exceptions with additional context or information. This helps provide more meaningful error messages and aids in debugging."
      ],
      "metadata": {
        "id": "GftyR_FbVrhF"
      }
    },
    {
      "cell_type": "code",
      "source": [
        "try:\n",
        "    num_str = \"abc\"\n",
        "    num = int(num_str)\n",
        "    if num < 0:\n",
        "        raise ValueError(\"Value must be positive\")\n",
        "except ValueError as e:\n",
        "    print(f\"Error: {e}\")"
      ],
      "metadata": {
        "colab": {
          "base_uri": "https://localhost:8080/"
        },
        "id": "6nfqvtioVnAJ",
        "outputId": "24034364-8bd4-4f20-9732-0e2a54533eed"
      },
      "execution_count": 12,
      "outputs": [
        {
          "output_type": "stream",
          "name": "stdout",
          "text": [
            "Error: invalid literal for int() with base 10: 'abc'\n"
          ]
        }
      ]
    },
    {
      "cell_type": "markdown",
      "source": [
        "3) **Re-Raising Exceptions** :\n",
        "In some cases, you might want to catch an exception, perform specific actions, and then re-raise the same exception to allow higher-level error handling to occur."
      ],
      "metadata": {
        "id": "Fnm3JJSuV1s2"
      }
    },
    {
      "cell_type": "code",
      "source": [
        "try:\n",
        "    # Code that might raise an exception\n",
        "    value = int(input(\"Enter a positive number: \"))\n",
        "    if value <= 0:\n",
        "        raise ValueError(\"Value must be positive.\")\n",
        "except ValueError as e:\n",
        "    print(f\"Error: {e}\")\n",
        "    # Re-raise the exception\n",
        "    raise"
      ],
      "metadata": {
        "colab": {
          "base_uri": "https://localhost:8080/",
          "height": 279
        },
        "id": "rLr3x75aVxlc",
        "outputId": "471b9905-8bf3-4235-cb8a-b7441dbceffd"
      },
      "execution_count": 17,
      "outputs": [
        {
          "output_type": "stream",
          "name": "stdout",
          "text": [
            "Enter a positive number: -10\n",
            "Error: Value must be positive.\n"
          ]
        },
        {
          "output_type": "error",
          "ename": "ValueError",
          "evalue": "ignored",
          "traceback": [
            "\u001b[0;31m---------------------------------------------------------------------------\u001b[0m",
            "\u001b[0;31mValueError\u001b[0m                                Traceback (most recent call last)",
            "\u001b[0;32m<ipython-input-17-ead819de8f37>\u001b[0m in \u001b[0;36m<cell line: 1>\u001b[0;34m()\u001b[0m\n\u001b[1;32m      3\u001b[0m     \u001b[0mvalue\u001b[0m \u001b[0;34m=\u001b[0m \u001b[0mint\u001b[0m\u001b[0;34m(\u001b[0m\u001b[0minput\u001b[0m\u001b[0;34m(\u001b[0m\u001b[0;34m\"Enter a positive number: \"\u001b[0m\u001b[0;34m)\u001b[0m\u001b[0;34m)\u001b[0m\u001b[0;34m\u001b[0m\u001b[0;34m\u001b[0m\u001b[0m\n\u001b[1;32m      4\u001b[0m     \u001b[0;32mif\u001b[0m \u001b[0mvalue\u001b[0m \u001b[0;34m<=\u001b[0m \u001b[0;36m0\u001b[0m\u001b[0;34m:\u001b[0m\u001b[0;34m\u001b[0m\u001b[0;34m\u001b[0m\u001b[0m\n\u001b[0;32m----> 5\u001b[0;31m         \u001b[0;32mraise\u001b[0m \u001b[0mValueError\u001b[0m\u001b[0;34m(\u001b[0m\u001b[0;34m\"Value must be positive.\"\u001b[0m\u001b[0;34m)\u001b[0m\u001b[0;34m\u001b[0m\u001b[0;34m\u001b[0m\u001b[0m\n\u001b[0m\u001b[1;32m      6\u001b[0m \u001b[0;32mexcept\u001b[0m \u001b[0mValueError\u001b[0m \u001b[0;32mas\u001b[0m \u001b[0me\u001b[0m\u001b[0;34m:\u001b[0m\u001b[0;34m\u001b[0m\u001b[0;34m\u001b[0m\u001b[0m\n\u001b[1;32m      7\u001b[0m     \u001b[0mprint\u001b[0m\u001b[0;34m(\u001b[0m\u001b[0;34mf\"Error: {e}\"\u001b[0m\u001b[0;34m)\u001b[0m\u001b[0;34m\u001b[0m\u001b[0;34m\u001b[0m\u001b[0m\n",
            "\u001b[0;31mValueError\u001b[0m: Value must be positive."
          ]
        }
      ]
    },
    {
      "cell_type": "code",
      "source": [
        "try:\n",
        "    # Code that might raise an exception\n",
        "    value = int(input(\"Enter a positive number: \"))\n",
        "    if value <= 0:\n",
        "        raise ValueError(\"Value must be positive.\")\n",
        "except ValueError as e:\n",
        "    print(f\"Error: {e}\")\n",
        "    # Re-raise the exception\n",
        "    raise"
      ],
      "metadata": {
        "colab": {
          "base_uri": "https://localhost:8080/"
        },
        "id": "Bi6WCHixV5xO",
        "outputId": "b1409ed0-6b30-46b8-cfc3-c430b7d648d3"
      },
      "execution_count": 18,
      "outputs": [
        {
          "name": "stdout",
          "output_type": "stream",
          "text": [
            "Enter a positive number: 10\n"
          ]
        }
      ]
    },
    {
      "cell_type": "markdown",
      "source": [
        "#Question 4\n",
        "\n",
        "What does the assert statement do, and what other statement is it like?\n",
        "\n",
        "..............\n",
        "\n",
        "Answer 4 -\n",
        "\n",
        "The `assert` statement in Python is used to check whether a given condition is `True` . If the condition is `False` , an `AssertionError` exception is raised. The primary purpose of the assert statement is to perform sanity checks and validate assumptions during the development and testing stages of a program. It helps identify potential issues early and provides a way to enforce conditions that should always hold true.\n",
        "\n",
        "The basic syntax of the assert statement is as follows:"
      ],
      "metadata": {
        "id": "xNT8B-g9WXiH"
      }
    },
    {
      "cell_type": "code",
      "source": [
        "assert condition, message"
      ],
      "metadata": {
        "id": "hsIBf0IvWu8x"
      },
      "execution_count": null,
      "outputs": []
    },
    {
      "cell_type": "markdown",
      "source": [
        "- **condition** : The expression that is checked for truthiness. If the condition is False, an AssertionError is raised.\n",
        "\n",
        "- **message (optional)** : A custom error message that is displayed if the assertion fails. This message can provide additional context about the failure.\n",
        "\n",
        "Example of using the assert statement:"
      ],
      "metadata": {
        "id": "zoNuyApJWxYw"
      }
    },
    {
      "cell_type": "code",
      "source": [
        "def divide(a, b):\n",
        "    assert b != 0, \"Division by zero is not allowed\"\n",
        "    return a / b\n",
        "\n",
        "result = divide(10, 0)"
      ],
      "metadata": {
        "colab": {
          "base_uri": "https://localhost:8080/",
          "height": 331
        },
        "id": "AnW8HDXeW9eA",
        "outputId": "40635a35-cb51-4ce9-cb2c-f768b9a529f8"
      },
      "execution_count": 21,
      "outputs": [
        {
          "output_type": "error",
          "ename": "AssertionError",
          "evalue": "ignored",
          "traceback": [
            "\u001b[0;31m---------------------------------------------------------------------------\u001b[0m",
            "\u001b[0;31mAssertionError\u001b[0m                            Traceback (most recent call last)",
            "\u001b[0;32m<ipython-input-21-f147f29a6878>\u001b[0m in \u001b[0;36m<cell line: 5>\u001b[0;34m()\u001b[0m\n\u001b[1;32m      3\u001b[0m     \u001b[0;32mreturn\u001b[0m \u001b[0ma\u001b[0m \u001b[0;34m/\u001b[0m \u001b[0mb\u001b[0m\u001b[0;34m\u001b[0m\u001b[0;34m\u001b[0m\u001b[0m\n\u001b[1;32m      4\u001b[0m \u001b[0;34m\u001b[0m\u001b[0m\n\u001b[0;32m----> 5\u001b[0;31m \u001b[0mresult\u001b[0m \u001b[0;34m=\u001b[0m \u001b[0mdivide\u001b[0m\u001b[0;34m(\u001b[0m\u001b[0;36m10\u001b[0m\u001b[0;34m,\u001b[0m \u001b[0;36m0\u001b[0m\u001b[0;34m)\u001b[0m\u001b[0;34m\u001b[0m\u001b[0;34m\u001b[0m\u001b[0m\n\u001b[0m",
            "\u001b[0;32m<ipython-input-21-f147f29a6878>\u001b[0m in \u001b[0;36mdivide\u001b[0;34m(a, b)\u001b[0m\n\u001b[1;32m      1\u001b[0m \u001b[0;32mdef\u001b[0m \u001b[0mdivide\u001b[0m\u001b[0;34m(\u001b[0m\u001b[0ma\u001b[0m\u001b[0;34m,\u001b[0m \u001b[0mb\u001b[0m\u001b[0;34m)\u001b[0m\u001b[0;34m:\u001b[0m\u001b[0;34m\u001b[0m\u001b[0;34m\u001b[0m\u001b[0m\n\u001b[0;32m----> 2\u001b[0;31m     \u001b[0;32massert\u001b[0m \u001b[0mb\u001b[0m \u001b[0;34m!=\u001b[0m \u001b[0;36m0\u001b[0m\u001b[0;34m,\u001b[0m \u001b[0;34m\"Division by zero is not allowed\"\u001b[0m\u001b[0;34m\u001b[0m\u001b[0;34m\u001b[0m\u001b[0m\n\u001b[0m\u001b[1;32m      3\u001b[0m     \u001b[0;32mreturn\u001b[0m \u001b[0ma\u001b[0m \u001b[0;34m/\u001b[0m \u001b[0mb\u001b[0m\u001b[0;34m\u001b[0m\u001b[0;34m\u001b[0m\u001b[0m\n\u001b[1;32m      4\u001b[0m \u001b[0;34m\u001b[0m\u001b[0m\n\u001b[1;32m      5\u001b[0m \u001b[0mresult\u001b[0m \u001b[0;34m=\u001b[0m \u001b[0mdivide\u001b[0m\u001b[0;34m(\u001b[0m\u001b[0;36m10\u001b[0m\u001b[0;34m,\u001b[0m \u001b[0;36m0\u001b[0m\u001b[0;34m)\u001b[0m\u001b[0;34m\u001b[0m\u001b[0;34m\u001b[0m\u001b[0m\n",
            "\u001b[0;31mAssertionError\u001b[0m: Division by zero is not allowed"
          ]
        }
      ]
    },
    {
      "cell_type": "markdown",
      "source": [
        "The `assert` statement is `similar` to the `if` statement in that both involve evaluating a condition."
      ],
      "metadata": {
        "id": "2-3y2KcfXYTV"
      }
    },
    {
      "cell_type": "markdown",
      "source": [
        "#Question 5\n",
        "\n",
        "What is the purpose of the with/as argument, and what other statement is it like?\n",
        "\n",
        ".............\n",
        "\n",
        "Answer 5 -\n",
        "\n",
        "The `with` statement in Python is used for context management. It's often used when working with resources like files, sockets, or database connections, where you need to ensure proper setup and cleanup around the usage of these resources. The with statement, along with the as clause, provides a convenient and efficient way to manage resources by automatically taking care of setup and cleanup operations.\n",
        "\n",
        "The `with/as` statement is used with context managers, which are objects that define the methods **`__enter__`** and **`__exit__`** . The **`__enter__`** method is executed when the with block is entered, and it sets up the resource. The **`__exit__`** method is executed when the with block is exited, and it performs cleanup operations.\n",
        "\n",
        "The basic syntax of the with statement with the as clause is as follows:"
      ],
      "metadata": {
        "id": "QfkgXIqoXekX"
      }
    },
    {
      "cell_type": "code",
      "source": [
        "with context_manager as variable:"
      ],
      "metadata": {
        "id": "Oqz54-ycW_c-"
      },
      "execution_count": null,
      "outputs": []
    },
    {
      "cell_type": "markdown",
      "source": [
        "- **context_manager** : An object that defines the **`__enter__`** and **`__exit__`** methods.\n",
        "\n",
        "- **variable** : A variable to which the value returned by the **`__enter__`** method is assigned.\n",
        "\n",
        "Example of using the with/as statement with a file context manager:"
      ],
      "metadata": {
        "id": "2SqMDpunYGPG"
      }
    },
    {
      "cell_type": "code",
      "source": [
        "with open(\"example.txt\", \"r\") as file:\n",
        "    content = file.read()\n",
        "    # Process the file content\n",
        "\n",
        "# The file is automatically closed when the `with` block is exited"
      ],
      "metadata": {
        "id": "Z3D2_PSAYbMg"
      },
      "execution_count": null,
      "outputs": []
    },
    {
      "cell_type": "markdown",
      "source": [
        "In this example, the `open` function returns a file context manager, and the `with` statement takes care of opening and closing the file for you. When the with block is entered, the file is opened, and its content is read. When the block is `exited` , the file is automatically closed.\n",
        "\n",
        "The `with/as` statement is `similar` in concept to the `try/finally` statement in terms of ensuring proper cleanup. However, the with/as statement provides a more concise and readable syntax for resource management, especially when you're dealing with setup and cleanup operations that are repetitive and error-prone if done manually.\n",
        "\n",
        "In summary, the with/as statement, along with context managers, simplifies resource management and ensures that setup and cleanup operations are handled properly in a controlled and convenient manner."
      ],
      "metadata": {
        "id": "l0JEzU5RYdqZ"
      }
    }
  ]
}