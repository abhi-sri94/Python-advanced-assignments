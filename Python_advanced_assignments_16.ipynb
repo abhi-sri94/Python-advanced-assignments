{
  "nbformat": 4,
  "nbformat_minor": 0,
  "metadata": {
    "colab": {
      "provenance": [],
      "toc_visible": true
    },
    "kernelspec": {
      "name": "python3",
      "display_name": "Python 3"
    },
    "language_info": {
      "name": "python"
    }
  },
  "cells": [
    {
      "cell_type": "markdown",
      "source": [
        "#Question 1\n",
        "\n",
        "What is the benefit of regular expressions?\n",
        "\n",
        "..............\n",
        "\n",
        "Answer 1 -\n",
        "\n",
        "Regular expressions (regex or regexp) are a powerful tool for working with text patterns and manipulating strings. They provide a way to describe and match complex patterns within strings, allowing for efficient text processing and manipulation. The benefits of using regular expressions include:\n",
        "\n",
        "1) **Pattern Matching** : Regular expressions enable you to search for specific patterns, sequences, or characters within strings. This is incredibly useful for tasks like data validation, text extraction, and searching for specific information in large text documents.\n",
        "\n",
        "2) **Flexible Text Manipulation** : With regular expressions, you can easily replace, rearrange, or transform text based on patterns. This is valuable for tasks like data cleaning, formatting, and transformation.\n",
        "\n",
        "3) **Efficient String Operations** : Regular expressions are highly optimized for pattern matching, making them efficient for handling large amounts of text. They allow you to perform complex operations in a single pass over the text.\n",
        "\n",
        "4) **Text Extraction and Parsing** : Regular expressions can help you extract structured data from unstructured text. For example, you can parse emails, phone numbers, URLs, and other structured information from text.\n",
        "\n",
        "5) **Validation and Sanitization** : You can use regular expressions to validate user input, such as email addresses, phone numbers, and passwords. This ensures that the input adheres to a specific pattern or format.\n",
        "\n",
        "6) **Advanced Search and Replace** : Regular expressions provide advanced search and replace capabilities that go beyond simple string matching. You can use them to perform global replacements, case-insensitive replacements, and more.\n",
        "\n",
        "7) **Programming Language Agnostic** : Regular expressions are supported in various programming languages, making it a portable skill. Once you learn regular expressions, you can apply your knowledge across different languages.\n",
        "\n",
        "8) **Text Analysis and Natural Language Processing** : Regular expressions are foundational tools in text analysis and natural language processing tasks. They are used for tokenization, stemming, sentiment analysis, and more.\n",
        "\n",
        "9) **Code Shortening** : Regular expressions can condense multiple lines of code into a single expression, making your code more concise and readable.\n",
        "\n",
        "10) **Extracting Groups** : Regular expressions allow you to define capturing groups, which can be used to extract specific parts of matched text. This is helpful when you need to extract structured information from a larger string."
      ],
      "metadata": {
        "id": "mT9ZQTlKhQEH"
      }
    },
    {
      "cell_type": "markdown",
      "source": [
        "#Question 2\n",
        "\n",
        "Describe the difference between the effects of \"(ab)c+\" and \"a(bc)+.\" Which of these, if any, is the\n",
        "unqualified pattern \"abc+\"?\n",
        "\n",
        "...............\n",
        "\n",
        "Answer 2 -\n",
        "\n",
        "Let's break down the two regular expressions and analyze their effects:\n",
        "\n",
        "1) **\"(ab)c+\"** :\n",
        "\n",
        "- This pattern matches the string \"abc\" where the \"ab\" is captured as a group and the \"c\" can occur one or more times.\n",
        "\n",
        "- Example matches: \"abc\", \"abcc\", \"abccc\", ...\n",
        "\n",
        "- It will not match just \"a\", \"b\", \"ac\", \"bc\", or any other variations.\n",
        "\n",
        "2) **\"a(bc)+\"** :\n",
        "\n",
        "- This pattern matches strings starting with \"a\" followed by \"bc\" repeated one or more times.\n",
        "\n",
        "- Example matches: \"abc\", \"abcbc\", \"abcbcbc\", ...\n",
        "\n",
        "- It will not match just \"a\", \"b\", \"ac\", \"bc\", or any other variations.\n",
        "\n",
        "Both of these patterns match the string \"abc\" followed by one or more repetitions of certain characters. They will produce similar matches, capturing different groups in each case.\n",
        "\n",
        "Now, let's analyze the unqualified pattern \"abc+\":\n",
        "\n",
        "3) **\"abc+\"** :\n",
        "\n",
        "- This pattern matches \"ab\" followed by one or more occurrences of the character \"c\".\n",
        "\n",
        "- Example matches: \"ab\", \"abc\", \"abcc\", \"abccc\", ...\n",
        "\n",
        "- It will not match just \"a\", \"b\", \"ac\", \"bc\", \"c\", or any other variations.\n",
        "\n",
        "In this case, the unqualified pattern \"abc+\" matches the string \"ab\" followed by one or more occurrences of the character \"c\".\n",
        "\n",
        "To summarize:\n",
        "\n",
        "- `\"(ab)c+\"` : Matches \"abc\" with \"ab\" captured and one or more \"c\".\n",
        "\n",
        "- `\"a(bc)+\"` : Matches strings starting with \"a\" followed by repetitions of \"bc\".\n",
        "\n",
        "- `\"abc+\"` : Matches \"ab\" followed by one or more \"c\"."
      ],
      "metadata": {
        "id": "NrxOW_PyjZMx"
      }
    },
    {
      "cell_type": "markdown",
      "source": [
        "#Question 3\n",
        "\n",
        "How much do you need to use the following sentence while using regular expressions?\n",
        "\n",
        "import re\n",
        "\n",
        "...............\n",
        "\n",
        "Answer 3 -\n",
        "\n",
        "The line `import re` is used to import the Python `re` module, which provides support for regular expressions. You need to use this line whenever you want to work with regular expressions in your Python code.\n",
        "\n",
        "The `re` module is used for various operations related to regular expressions, including pattern matching, searching, replacing, and splitting strings based on patterns. It provides functions and methods that allow you to work with regular expressions effectively.\n",
        "\n",
        "Here's an example of how you might use the `re` module to perform a simple pattern match:\n",
        "\n"
      ],
      "metadata": {
        "id": "dhm1KulFklIM"
      }
    },
    {
      "cell_type": "code",
      "source": [
        "import re\n",
        "\n",
        "text = \"Hello, my email is user@example.com\"\n",
        "pattern = r'\\b\\w+@\\w+\\.\\w+\\b'\n",
        "\n",
        "matches = re.findall(pattern, text)\n",
        "print(matches)"
      ],
      "metadata": {
        "colab": {
          "base_uri": "https://localhost:8080/"
        },
        "id": "Ubf_VtmXkS50",
        "outputId": "b5093066-6071-4a47-926f-415538cb9d13"
      },
      "execution_count": 1,
      "outputs": [
        {
          "output_type": "stream",
          "name": "stdout",
          "text": [
            "['user@example.com']\n"
          ]
        }
      ]
    },
    {
      "cell_type": "markdown",
      "source": [
        "In this example, the `re` module is imported at the beginning of the code (`import re`). It's then used to find and print all email addresses in the given text using the **re.findall()** function."
      ],
      "metadata": {
        "id": "WP-IkCnqlBCp"
      }
    },
    {
      "cell_type": "markdown",
      "source": [
        "#Question 4\n",
        "\n",
        "Which characters have special significance in square brackets when expressing a range, and\n",
        "under what circumstances?\n",
        "\n",
        "...............\n",
        "\n",
        "Answer 4 -\n",
        "\n",
        "In square brackets `[ ]` when defining a character class in a regular expression, certain characters have special significance and are used to represent character ranges or character classes. Here are the characters with special significance and their meanings:\n",
        "\n",
        "1) **Dash** `-` : The dash `-` is used to specify a character range within a character class. For example, [`a-z`] represents all lowercase letters from \"`a`\" to \"`z`\", and [`0-9`] represents all digits from `0` to `9` .\n",
        "\n",
        "2) **Caret** `^` (inside brackets) : When the caret `^` appears as the first character inside square brackets `[ ]` , it negates the character class. It means that the character class matches any character that is not listed within the brackets. For example, [`^0-9`] matches any character that is not a digit.\n",
        "\n",
        "3) **Backslash** `\\` : The backslash `\\` is used to escape characters with special significance, allowing you to match the literal character itself. For example, `\\[ \\] \\- \\\\` matches the characters `[, ]` , `-` , and `\\` .\n",
        "\n",
        "4) **Special Escape Sequences**: Inside square brackets, some special escape sequences have specific meanings, such as `\\d` for `digits` , `\\w` for `word` characters, `\\s` for `whitespace` characters, and so on.\n",
        "\n",
        "5) **Hyphen in Non-Initial or Non-Final Position** : If the hyphen `-` appears in a character class in a position other than the beginning or end, it is treated as a literal character. For example, [`a-z-`] matches lowercase letters from \"`a`\" to \"`z`\" as well as the hyphen character itself.\n",
        "\n",
        "It's important to note that the special significance of these characters only applies when they appear inside square brackets `[ ]` as part of a character class. Outside of square brackets, these characters usually have their literal meanings.\n",
        "\n",
        "Here are some examples to illustrate the usage of special characters inside square brackets:\n",
        "\n",
        "- `[0-9]` : Matches any digit from 0 to 9.\n",
        "\n",
        "- `[a-z]` : Matches any lowercase letter from \"a\" to \"z\".\n",
        "\n",
        "- `[^A-Z]` : Matches any character that is not an uppercase letter.\n",
        "\n",
        "- `[a-z-]` : Matches lowercase letters from \"a\" to \"z\" and the hyphen.\n",
        "\n",
        "- `[0-9a-fA-F]` : Matches any hexadecimal digit.\n",
        "\n",
        "- `[\\[\\]\\-]` : Matches square brackets and hyphen."
      ],
      "metadata": {
        "id": "rmF9pmp4lFSw"
      }
    },
    {
      "cell_type": "markdown",
      "source": [
        "#Question 5\n",
        "\n",
        "How does compiling a regular-expression object benefit you?\n",
        "\n",
        "..............\n",
        "\n",
        "Answer 5 -\n",
        "\n",
        "Compiling a regular expression object in Python provides several benefits, especially when you plan to use the same regular expression multiple times. The primary advantages of compiling a regular expression object include:\n",
        "\n",
        "1) **Improved Performance** :\n",
        "When you compile a regular expression object, the pattern is preprocessed and optimized by the regular expression engine. This can significantly improve the execution speed of subsequent matching operations. Compiled regular expressions are generally faster than using the re module's functions directly on the pattern strings.\n",
        "\n",
        "2) **Code Readability and Maintainability** :\n",
        "Compiling a regular expression object allows you to assign a meaningful name to the pattern, making your code more readable and self-explanatory. This is particularly useful when working with complex or frequently used patterns.\n",
        "\n",
        "3) **Reuse of Patterns** :\n",
        "Once you compile a regular expression object, you can reuse it throughout your code without recompiling the pattern each time. This can lead to more efficient code execution, especially when the same pattern is used in multiple places.\n",
        "\n",
        "4) **Optimized Memory Usage** :\n",
        "Regular expression objects hold the compiled pattern in memory, making them more memory-efficient compared to repeatedly parsing and compiling the pattern string.\n",
        "\n",
        "Here's an example that demonstrates the benefits of compiling a regular expression object:"
      ],
      "metadata": {
        "id": "NkWM41k-2Ruc"
      }
    },
    {
      "cell_type": "code",
      "source": [
        "import re\n",
        "\n",
        "# Without compiling\n",
        "pattern_string = r'\\d{3}-\\d{2}-\\d{4}'\n",
        "text = 'My SSN is 123-45-6789'\n",
        "\n",
        "for _ in range(100000):\n",
        "    if re.match(pattern_string, text):\n",
        "        pass\n",
        "\n",
        "# With compiling\n",
        "compiled_pattern = re.compile(r'\\d{3}-\\d{2}-\\d{4}')\n",
        "\n",
        "for _ in range(100000):\n",
        "    if compiled_pattern.match(text):\n",
        "        pass"
      ],
      "metadata": {
        "id": "x2OdmNzOk6aK"
      },
      "execution_count": 2,
      "outputs": []
    },
    {
      "cell_type": "markdown",
      "source": [
        "#Question 6\n",
        "\n",
        "What are some examples of how to use the match object returned by re.match and re.search?\n",
        "\n",
        "...............\n",
        "\n",
        "Answer 6 -\n",
        "\n",
        "When using the **re.match()** and **re.search()** functions from the re module in Python, you get a match object as a result if the pattern matches the string. The match object contains information about the matched portion of the string and provides methods and attributes to access and manipulate the matched data.\n",
        "\n",
        "Here are some examples of how to use the match object returned by re.match() and re.search():"
      ],
      "metadata": {
        "id": "yByV45KM25Wo"
      }
    },
    {
      "cell_type": "code",
      "source": [
        "import re\n",
        "\n",
        "# Example string\n",
        "text = \"The price of the product is $50.\"\n",
        "\n",
        "# Using re.match()\n",
        "pattern = r'\\$(\\d+)'\n",
        "match_obj = re.match(pattern, text)\n",
        "\n",
        "if match_obj:\n",
        "    print(\"Match found:\", match_obj.group())      # Entire matched substring\n",
        "    print(\"Amount:\", match_obj.group(1))          # Captured group 1 (amount)\n",
        "\n",
        "# Using re.search()\n",
        "pattern = r'\\$(\\d+)'\n",
        "search_obj = re.search(pattern, text)\n",
        "\n",
        "if search_obj:\n",
        "    print(\"Search found:\", search_obj.group())    # Entire matched substring\n",
        "    print(\"Amount:\", search_obj.group(1))        # Captured group 1 (amount)\n"
      ],
      "metadata": {
        "colab": {
          "base_uri": "https://localhost:8080/"
        },
        "id": "OWibe2JxAQOj",
        "outputId": "3a59add9-38a5-4af9-cb40-340d58114598"
      },
      "execution_count": 10,
      "outputs": [
        {
          "output_type": "stream",
          "name": "stdout",
          "text": [
            "Search found: $50\n",
            "Amount: 50\n"
          ]
        }
      ]
    },
    {
      "cell_type": "markdown",
      "source": [
        "In this example, both **re.match()** and **re.search()** are used to find a dollar amount in the given text. The pattern `\\$(\\d+)` matches a dollar sign followed by one or more digits (`the amount`).\n",
        "\n",
        "The match object provides several methods and attributes:\n",
        "\n",
        "- `group()` : Returns the entire matched substring.\n",
        "\n",
        "- `group(n)` : Returns the captured group specified by the index n. Group 0 is the entire match, and additional groups are captured by parentheses in the pattern.\n",
        "\n",
        "- `start()` : Returns the start index of the matched substring in the original string.\n",
        "\n",
        "- `end()` : Returns the end index of the matched substring in the original string.\n",
        "\n",
        "- `span()` : Returns a tuple containing the start and end indices of the matched substring.\n",
        "\n",
        "- `groups()` : Returns a tuple containing all captured groups (excluding group 0)."
      ],
      "metadata": {
        "id": "BroDqNk4DKEK"
      }
    },
    {
      "cell_type": "markdown",
      "source": [
        "#Question 7\n",
        "\n",
        "What is the difference between using a vertical bar (|) as an alteration and using square brackets\n",
        "as a character set?\n",
        "\n",
        "...............\n",
        "\n",
        "Answer 7 -\n",
        "\n",
        "Both the vertical bar `|` and square brackets `[]` have special meanings in regular expressions, but they serve different purposes.\n",
        "\n",
        "1) **`Vertical Bar | (Alternation)`** :\n",
        "\n",
        "The vertical bar `|` is used for alternation, which allows you to specify multiple alternative patterns. It matches any one of the patterns separated by the `|` .\n",
        "\n",
        "Example: `cat|dog` matches either \"`cat`\" or \"`dog`\" .\n",
        "\n",
        "2) **`Square Brackets [] (Character Set)`** :\n",
        "\n",
        "Square brackets `[]` are used to define a character set, specifying a list of characters that can match at that position in the input string. It allows you to match any single character from the set.\n",
        "\n",
        "Example: `[aeiou]` matches any lowercase vowel.\n",
        "\n",
        "Here's a comparison between the two:\n",
        "\n",
        "- `cat|dog` : Matches either \"`cat`\" or \"`dog`\" .\n",
        "\n",
        "- `[catdog]` : Matches any `single` character that is either \"c\", \"a\", \"t\", \"d\", \"o\", or \"g\".\n",
        "\n",
        "To clarify further, let's consider some examples:\n",
        "\n",
        "1) **Alternation (`|`) Example** :"
      ],
      "metadata": {
        "id": "uH7fS70IDfLI"
      }
    },
    {
      "cell_type": "code",
      "source": [
        "pattern = r'apple|banana'\n",
        "text = \"I like apples and bananas.\"\n",
        "\n",
        "import re\n",
        "matches = re.findall(pattern, text)\n",
        "\n",
        "print(matches)"
      ],
      "metadata": {
        "colab": {
          "base_uri": "https://localhost:8080/"
        },
        "id": "Va9OqxEOAuQl",
        "outputId": "b418efb0-cacb-44ed-a264-6bc75999a912"
      },
      "execution_count": 14,
      "outputs": [
        {
          "output_type": "stream",
          "name": "stdout",
          "text": [
            "['apple', 'banana']\n"
          ]
        }
      ]
    },
    {
      "cell_type": "markdown",
      "source": [
        "2) **Character Set ([]) Example**:"
      ],
      "metadata": {
        "id": "KL6AqGCAEcNu"
      }
    },
    {
      "cell_type": "code",
      "source": [
        "pattern = r'[aeiou]'\n",
        "text = \"The quick brown fox jumps over the lazy dog.\"\n",
        "\n",
        "import re\n",
        "matches = re.findall(pattern, text)\n",
        "\n",
        "print(matches)"
      ],
      "metadata": {
        "colab": {
          "base_uri": "https://localhost:8080/"
        },
        "id": "xQ_JMKKUEWKC",
        "outputId": "4906f661-7753-4870-8d8f-c48900d508f5"
      },
      "execution_count": 16,
      "outputs": [
        {
          "output_type": "stream",
          "name": "stdout",
          "text": [
            "['e', 'u', 'i', 'o', 'o', 'u', 'o', 'e', 'e', 'a', 'o']\n"
          ]
        }
      ]
    },
    {
      "cell_type": "markdown",
      "source": [
        "In the first example, the alternation pattern `apple|banana` matches either \"`apple`\" or \"`banana`\" in the input text. In the second example, the character set ``[`aeiou`] matches any lowercase vowel character from the input text."
      ],
      "metadata": {
        "id": "U5xJhBKOExsU"
      }
    },
    {
      "cell_type": "markdown",
      "source": [
        "#Question 8\n",
        "\n",
        "In regular-expression search patterns, why is it necessary to use the raw-string indicator (r)? In\n",
        "replacement strings?\n",
        "\n",
        "..............\n",
        "\n",
        "Answer 8 -\n",
        "\n",
        "In regular expressions, using the raw-string indicator (`r`) is not strictly necessary in replacement strings, but it is often recommended for better clarity and to avoid unintended escape sequences.\n",
        "\n",
        "Here's why using raw-string (r) notation can be beneficial in replacement strings:\n",
        "\n",
        "1) **Escape Sequence Handling** :\n",
        "Regular expressions and replacement strings can both involve escape sequences. Without using raw-string notation, backslashes `\\` in a replacement string could be interpreted as escape characters by both the regular expression engine and Python's string processing, leading to unexpected behavior. Using `r` as a prefix indicates that backslashes should be treated as literal characters in the replacement string.\n",
        "\n",
        "2) **Readability and Maintenance** :\n",
        "Raw-string notation enhances the readability of your code by explicitly indicating that escape sequences within the replacement string are not intended to be processed. This can be particularly helpful when replacement strings are complex or contain many backslashes.\n",
        "\n",
        "3) **Consistency** :\n",
        "Consistently using raw-string notation for both regular expression patterns and replacement strings helps avoid confusion and reduces the chances of introducing errors.\n",
        "\n",
        "Here's an example that demonstrates the difference between using raw-string notation and not using it in a replacement string:"
      ],
      "metadata": {
        "id": "Boe933lIE_Wp"
      }
    },
    {
      "cell_type": "code",
      "source": [
        "import re\n",
        "\n",
        "text = \"Hello, world!\"\n",
        "pattern = r'\\bworld\\b'\n",
        "\n",
        "# Using raw-string notation (recommended)\n",
        "replacement_r = r\"Python \\g<0>\"\n",
        "result_r = re.sub(pattern, replacement_r, text)\n",
        "print(result_r)\n",
        "\n",
        "# Without raw-string notation\n",
        "replacement = \"Python \\\\g<0>\"\n",
        "result = re.sub(pattern, replacement, text)\n",
        "print(result)"
      ],
      "metadata": {
        "colab": {
          "base_uri": "https://localhost:8080/"
        },
        "id": "iOpqxtZ0EsBs",
        "outputId": "c14d44fc-4265-4f76-fe43-eb4a25563c23"
      },
      "execution_count": 17,
      "outputs": [
        {
          "output_type": "stream",
          "name": "stdout",
          "text": [
            "Hello, Python world!\n",
            "Hello, Python world!\n"
          ]
        }
      ]
    },
    {
      "cell_type": "markdown",
      "source": [
        "In this example, both replacement strings achieve the same result, but the raw-string notation (`r\"Python \\g<0>\"`) is cleaner and easier to read. It avoids the need to escape backslashes used in the replacement string."
      ],
      "metadata": {
        "id": "KD6B0kNnGPqk"
      }
    },
    {
      "cell_type": "code",
      "source": [],
      "metadata": {
        "id": "Ob5ibWQ1FoJf"
      },
      "execution_count": null,
      "outputs": []
    }
  ]
}