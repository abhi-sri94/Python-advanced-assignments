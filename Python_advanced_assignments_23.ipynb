{
  "cells": [
    {
      "cell_type": "markdown",
      "metadata": {
        "id": "LHDdNLWQHsix"
      },
      "source": [
        "#Question 1\n",
        "\n",
        "If you have any, what are your choices for increasing the comparison between different figures on\n",
        "the same graph?\n",
        "\n",
        ".................\n",
        "\n",
        "Answer 1 -\n",
        "\n",
        "Increasing the comparison between different figures on the same graph can enhance the visual understanding of the data. Here are some choices to achieve this:\n",
        "\n",
        "1) **Use Different Colors or Patterns** : Assign distinct colors or patterns to each figure to make them visually distinguishable. This makes it easier for viewers to differentiate between the figures on the graph.\n",
        "\n",
        "2) **Adjust Line Styles** : If you're plotting line graphs, you can vary the line styles (solid, dashed, dotted, etc.) for each figure to improve differentiation.\n",
        "\n",
        "3) **Add Legends** : Include a legend that labels each figure with a description or name. Legends are especially helpful when using colors or patterns, as they provide context to the viewer.\n",
        "\n",
        "4) **Use Markers** : When plotting data points, use different marker styles (circles, squares, triangles, etc.) for each figure. This helps distinguish the figures even when the lines might overlap.\n",
        "\n",
        "5) **Adjust Plotting Order** : Arrange the order of plotting so that figures of interest are plotted on top of each other. This prevents less important figures from obscuring important ones.\n",
        "\n",
        "6) **Provide Annotations** : Add text annotations or labels near specific data points to draw attention to key values or trends within each figure.\n",
        "\n",
        "7) **Use Subplots or Panels** : If the figures have different scales or ranges, consider using subplots or panels to create separate sections for each figure, allowing viewers to focus on each figure individually.\n",
        "\n",
        "8) **Normalize Data** : If the figures have different scales, normalize the data or use dual axes to ensure that each figure is comparable within the same graph.\n",
        "\n",
        "9) **Data Transformation** : Apply appropriate data transformations (e.g., logarithmic scale) to reveal patterns and trends more clearly.\n",
        "\n",
        "10) **Interactive Visualization** : If possible, create interactive visualizations that allow users to toggle the visibility of specific figures, zoom in on areas of interest, or interact with data points for more detailed analysis."
      ]
    },
    {
      "cell_type": "markdown",
      "metadata": {
        "id": "KAGLUKQm6yVO"
      },
      "source": [
        "#Question 2\n",
        "\n",
        "Can you explain the benefit of compound interest over a higher rate of interest that does not\n",
        "compound after reading this chapter?\n",
        "\n",
        "..............\n",
        "\n",
        "Answer 2 -\n",
        "\n",
        "Compound interest is a powerful concept in finance that allows your initial investment to grow exponentially over time. The key benefit of compound interest over a higher rate of interest that does not compound is the compounding effect, which enables your money to work harder for you and potentially generate significantly larger returns in the long run.\n",
        "\n",
        "Here's an explanation of the benefit of compound interest:\n",
        "\n",
        "1) **Exponential Growth** : Compound interest allows you to earn interest not only on your initial investment (principal), but also on the accumulated interest from previous periods. As a result, your money grows exponentially over time. In contrast, with simple interest (higher rate of interest that does not compound), you only earn interest on the initial principal.\n",
        "\n",
        "2) **Larger Accumulated Amount** : Over longer periods, compound interest can lead to a much larger accumulated amount compared to simple interest. The interest you earn on previously earned interest can contribute significantly to the growth of your investment.\n",
        "\n",
        "3) **Long-Term Wealth Building** : Compound interest is particularly advantageous for long-term investments. As time goes on, the compounding effect becomes more pronounced. This means that even if the rate of interest is slightly lower compared to a higher non-compounding rate, the compounding effect can result in a larger final amount.\n",
        "\n",
        "4) **Passive Income Generation** : Compound interest allows your investments to generate passive income over time. As your investment grows, the interest earned becomes a substantial source of income without requiring additional effort on your part.\n",
        "\n",
        "5) **Increased Financial Security** : Compound interest can help you achieve your financial goals, such as retirement or major purchases, more effectively. It offers a systematic way to build wealth and financial security over time.\n",
        "\n",
        "6) **Lower Risk Tolerance** : With compound interest, you may have the flexibility to choose investments with slightly lower risk, as the compounding effect can still lead to substantial growth. This can be advantageous for individuals who prefer a more conservative investment approach."
      ]
    },
    {
      "cell_type": "markdown",
      "metadata": {
        "id": "DQKwng_z74Wn"
      },
      "source": [
        "#Question 3\n",
        "\n",
        "What is a histogram, exactly? Name a numpy method for creating such a graph.\n",
        "\n",
        "..............\n",
        "\n",
        "Answer 3 -\n",
        "\n",
        "A histogram is a graphical representation of the distribution of a dataset. It displays the frequency or count of data points falling into specific intervals, known as \"bins.\" Histograms provide insights into the underlying distribution of the data, including information about its central tendency, spread, and shape.\n",
        "\n",
        "In a histogram:\n",
        "\n",
        "- The x-axis represents the range of values in the dataset, divided into bins.\n",
        "- The y-axis represents the frequency or count of data points that fall into each bin.\n",
        "\n",
        "Histograms are widely used to visualize continuous data and understand its distribution, such as identifying patterns, modes, and outliers.\n",
        "\n",
        "In NumPy, you can create a histogram using the **numpy.histogram()** function. This function takes an array of data and returns the frequencies and bin edges. Here's an example:"
      ]
    },
    {
      "cell_type": "code",
      "execution_count": null,
      "metadata": {
        "colab": {
          "base_uri": "https://localhost:8080/",
          "height": 472
        },
        "id": "5cNRxW_Z8pqT",
        "outputId": "47393bc2-6914-4b7d-e346-9f79b85af51e"
      },
      "outputs": [
        {
          "data": {
            "image/png": "[encoded data removed]",
            "text/plain": [
              "<Figure size 640x480 with 1 Axes>"
            ]
          },
          "metadata": {},
          "output_type": "display_data"
        }
      ],
      "source": [
        "import numpy as np\n",
        "import matplotlib.pyplot as plt\n",
        "\n",
        "# Create a dataset\n",
        "data = np.random.randn(1000)  # Generating 1000 random data points\n",
        "\n",
        "# Create a histogram\n",
        "hist, bins = np.histogram(data, bins=10)\n",
        "\n",
        "# Plot the histogram\n",
        "plt.hist(data, bins=10, edgecolor='black')\n",
        "\n",
        "# Add labels and title\n",
        "plt.xlabel('Value')\n",
        "plt.ylabel('Frequency')\n",
        "plt.title('Histogram of Random Data')\n",
        "\n",
        "plt.show()"
      ]
    },
    {
      "cell_type": "markdown",
      "metadata": {
        "id": "wuSF_72N8xKR"
      },
      "source": [
        "In this example, **np.histogram(data, bins=10)** computes the histogram frequencies and bin edges. Then, **plt.hist()** from the `matplotlib` library is used to create and display the histogram graph. The number of bins is specified as `bins=10` , dividing the data range into 10 equal intervals.\n",
        "\n",
        "This code generates a histogram that visualizes the distribution of the randomly generated data points. The x-axis represents the values, the y-axis represents the frequency, and the histogram bars show the distribution across the specified bins.\n",
        "\n",
        "\n",
        "\n",
        "\n"
      ]
    },
    {
      "cell_type": "markdown",
      "metadata": {
        "id": "44A41A-Z_A4v"
      },
      "source": [
        "#Question 4\n",
        "\n",
        "If necessary, how do you change the aspect ratios between the X and Y axes?\n",
        "\n",
        "..............\n",
        "\n",
        "Answer 4 -\n",
        "\n",
        "You can change the aspect ratios between the X and Y axes of a plot in Matplotlib using the **plt.axis()** function or by setting the aspect ratio explicitly using the **plt.gca().set_aspect()** method. Here's how you can do it:\n",
        "\n",
        "1) **Using plt.axis() function**: The `plt.axis()` function allows you to set the aspect ratio by specifying the argument '`equal`' for an equal aspect ratio or by providing a numeric value to control the ratio between X and Y axes."
      ]
    },
    {
      "cell_type": "code",
      "execution_count": null,
      "metadata": {
        "colab": {
          "base_uri": "https://localhost:8080/",
          "height": 430
        },
        "id": "cj4VikEn_WK4",
        "outputId": "d77b1021-078d-4545-a984-f2e9eb58c4f9"
      },
      "outputs": [
        {
          "data": {
            "image/png": "[encoded data removed]",
            "text/plain": [
              "<Figure size 640x480 with 1 Axes>"
            ]
          },
          "metadata": {},
          "output_type": "display_data"
        }
      ],
      "source": [
        "import matplotlib.pyplot as plt\n",
        "\n",
        "# Create a scatter plot\n",
        "x = [1, 2, 3, 4, 5]\n",
        "y = [2, 4, 1, 3, 5]\n",
        "plt.scatter(x, y)\n",
        "\n",
        "# Set aspect ratio to 'equal'\n",
        "plt.axis('equal')\n",
        "\n",
        "plt.show()"
      ]
    },
    {
      "cell_type": "markdown",
      "metadata": {
        "id": "MEt8bDk8_dhU"
      },
      "source": [
        "2) **Using plt.gca().set_aspect() method** : You can access the current axes (subplot) using `plt.gca()` and then set the aspect ratio using the `set_aspect()` method."
      ]
    },
    {
      "cell_type": "code",
      "execution_count": null,
      "metadata": {
        "colab": {
          "base_uri": "https://localhost:8080/",
          "height": 430
        },
        "id": "pNqeLQjY_X3X",
        "outputId": "1d92f863-4198-462e-fdda-b1774c2ab198"
      },
      "outputs": [
        {
          "data": {
            "image/png": "[encoded data removed]",
            "text/plain": [
              "<Figure size 640x480 with 1 Axes>"
            ]
          },
          "metadata": {},
          "output_type": "display_data"
        }
      ],
      "source": [
        "import matplotlib.pyplot as plt\n",
        "\n",
        "# Create a scatter plot\n",
        "x = [1, 2, 3, 4, 5]\n",
        "y = [2, 4, 1, 3, 5]\n",
        "plt.scatter(x, y)\n",
        "\n",
        "# Set aspect ratio (e.g., 1 for equal aspect)\n",
        "plt.gca().set_aspect(1)\n",
        "\n",
        "plt.show()"
      ]
    },
    {
      "cell_type": "markdown",
      "metadata": {
        "id": "KPvjm8N6_z_0"
      },
      "source": [
        "#Question 5\n",
        "\n",
        "Compare and contrast the three types of array multiplication between two numpy arrays: dot\n",
        "product, outer product, and regular multiplication of two numpy arrays.\n",
        "\n",
        "..............\n",
        "\n",
        "Answer 5 -\n",
        "\n",
        "In NumPy, there are three main types of array multiplication between two numpy arrays: dot product, outer product, and element-wise multiplication. Let's compare and contrast these three types of array multiplication:\n",
        "\n",
        "1) **Dot Product** :\n",
        "\n",
        "- The dot product of two arrays is a mathematical operation that yields a scalar value (single number) or a 1D array.\n",
        "\n",
        "- It is also known as matrix multiplication or inner product.\n",
        "\n",
        "- The shape of the resulting array depends on the dimensions of the input arrays. For 1D arrays, it computes their inner product; for 2D arrays, it performs matrix multiplication.\n",
        "\n",
        "- The dot product is calculated using the **numpy.dot()** function or the `@` operator."
      ]
    },
    {
      "cell_type": "code",
      "execution_count": null,
      "metadata": {
        "colab": {
          "base_uri": "https://localhost:8080/"
        },
        "id": "dV9_ZGweAKKM",
        "outputId": "d482ed40-6990-4547-9d72-16f36b1eb8c5"
      },
      "outputs": [
        {
          "name": "stdout",
          "output_type": "stream",
          "text": [
            "[[19 22]\n",
            " [43 50]]\n"
          ]
        }
      ],
      "source": [
        "import numpy as np\n",
        "\n",
        "A = np.array([[1, 2], [3, 4]])\n",
        "B = np.array([[5, 6], [7, 8]])\n",
        "\n",
        "dot_product = np.dot(A, B)\n",
        "\n",
        "print(dot_product)"
      ]
    },
    {
      "cell_type": "markdown",
      "metadata": {
        "id": "_ZEYi_76AiKt"
      },
      "source": [
        "2) **Outer Product** :\n",
        "\n",
        "- The outer product of two arrays results in a matrix.\n",
        "\n",
        "- It calculates all possible products between elements of the two input arrays.\n",
        "\n",
        "- The shape of the resulting array is determined by the dimensions of the input arrays.\n",
        "\n",
        "- The outer product is computed using the **numpy.outer()** function."
      ]
    },
    {
      "cell_type": "code",
      "execution_count": null,
      "metadata": {
        "colab": {
          "base_uri": "https://localhost:8080/"
        },
        "id": "aBAffFL2ALW3",
        "outputId": "62e38492-4679-40b5-8d88-d6427b8c0a0d"
      },
      "outputs": [
        {
          "name": "stdout",
          "output_type": "stream",
          "text": [
            "[[ 4  5  6]\n",
            " [ 8 10 12]\n",
            " [12 15 18]]\n"
          ]
        }
      ],
      "source": [
        "import numpy as np\n",
        "\n",
        "A = np.array([1, 2, 3])\n",
        "B = np.array([4, 5, 6])\n",
        "\n",
        "outer_product = np.outer(A, B)\n",
        "\n",
        "print(outer_product)"
      ]
    },
    {
      "cell_type": "markdown",
      "metadata": {
        "id": "DsRiODUaA9Z6"
      },
      "source": [
        "3) **Element-wise Multiplication** :\n",
        "\n",
        "- Element-wise multiplication (also known as Hadamard product) performs multiplication element by element between two arrays of the same shape.\n",
        "\n",
        "- The resulting array has the same shape as the input arrays.\n",
        "\n",
        "- Element-wise multiplication is performed using the `*` operator or the **numpy.multiply()** function."
      ]
    },
    {
      "cell_type": "code",
      "execution_count": null,
      "metadata": {
        "colab": {
          "base_uri": "https://localhost:8080/"
        },
        "id": "0nynWusfDk0b",
        "outputId": "09cffe8c-dab0-4822-a570-03e5e5c45b65"
      },
      "outputs": [
        {
          "name": "stdout",
          "output_type": "stream",
          "text": [
            "[[ 5 12]\n",
            " [21 32]]\n"
          ]
        }
      ],
      "source": [
        "import numpy as np\n",
        "\n",
        "A = np.array([[1, 2], [3, 4]])\n",
        "B = np.array([[5, 6], [7, 8]])\n",
        "\n",
        "elementwise_product = A * B  # or np.multiply(A, B)\n",
        "\n",
        "print(elementwise_product)"
      ]
    },
    {
      "cell_type": "markdown",
      "metadata": {
        "id": "Z8e0r4DlDvtv"
      },
      "source": [
        "#Question 6\n",
        "\n",
        "Before you buy a home, which numpy function will you use to measure your monthly mortgage\n",
        "payment?\n",
        "\n",
        "...............\n",
        "\n",
        "Answer 6 -\n",
        "\n",
        "To calculate the monthly mortgage payment before buying a home, you won't typically use a NumPy function directly, as NumPy is mainly used for numerical operations on arrays. Instead, you would use a formula to calculate the mortgage payment, which involves the principal amount, interest rate, loan term, and potentially property taxes and insurance.\n",
        "\n",
        "The formula to calculate the monthly mortgage payment is typically based on the loan amount (principal), the annual interest rate, and the loan term (number of months). It's known as the \"loan payment formula\" and is often referred to as the \"amortization formula.\"\n",
        "\n",
        "The formula can be expressed in terms of variables as follows:\n",
        "\n",
        "Where:\n",
        "\n",
        "`M=P*r(1+r)^n/(1+r)^n-1`\n",
        "\n",
        "- *M* is the monthly mortgage payment.\n",
        "\n",
        "- *P* is the principal loan amount.\n",
        "\n",
        "- *r* is the monthly interest rate (annual interest rate divided by 12, and then divided by 100 to convert to decimal form).\n",
        "\n",
        "- *n* is the total number of payments (loan term in months).\n",
        "\n",
        "You can use NumPy to perform the calculations involved in this formula, such as converting the annual interest rate to a monthly rate and applying the necessary exponentiation. Here's an example of how you could use NumPy to calculate the monthly mortgage payment:"
      ]
    },
    {
      "cell_type": "code",
      "execution_count": 7,
      "metadata": {
        "id": "dxsnjeeCJbaY",
        "colab": {
          "base_uri": "https://localhost:8080/"
        },
        "outputId": "4fda79b8-3100-4e9b-ce51-1f54c84daf0c"
      },
      "outputs": [
        {
          "output_type": "stream",
          "name": "stdout",
          "text": [
            "Monthly Mortgage Payment: Rs. 999.10\n"
          ]
        }
      ],
      "source": [
        "import numpy as np\n",
        "\n",
        "def calculate_monthly_payment(principal, annual_interest_rate, loan_term_years):\n",
        "    monthly_interest_rate = (annual_interest_rate / 12) / 100\n",
        "    total_payments = loan_term_years * 12\n",
        "    numerator = monthly_interest_rate * (1 + monthly_interest_rate) ** total_payments\n",
        "    denominator = (1 + monthly_interest_rate) ** total_payments - 1\n",
        "    monthly_payment = principal * (numerator / denominator)\n",
        "    return monthly_payment\n",
        "\n",
        "# Example usage\n",
        "principal_amount = 200000  # Principal amount\n",
        "interest_rate = 5       # Annual interest rate\n",
        "loan_term = 36            # Loan term in years\n",
        "\n",
        "monthly_payment = calculate_monthly_payment(principal_amount, interest_rate, loan_term)\n",
        "print(f\"Monthly Mortgage Payment: Rs. {monthly_payment:.2f}\")\n"
      ]
    },
    {
      "cell_type": "markdown",
      "source": [
        "#Question 7\n",
        "\n",
        "Can string data be stored in numpy arrays? If so, list at least one restriction that applies to this\n",
        "data.\n",
        "\n",
        "................\n",
        "\n",
        "Answer 7 -\n",
        "\n",
        "Yes, it is possible to store string data in NumPy arrays. NumPy provides a data type called numpy.string_ (or simply numpy.str_) that allows you to store string data in arrays. You can also use the numpy.array function with the dtype parameter set to 'S' followed by a number to specify the maximum string length.\n",
        "\n",
        "However, there are some restrictions and considerations when working with string data in NumPy arrays:\n",
        "\n",
        "1) **Fixed Length** : The most important restriction is that strings in NumPy arrays have a fixed length. When you create a NumPy array with a specified maximum string length, all strings in that array will be padded or truncated to that length. This can lead to wasted memory if you have varying string lengths.\n",
        "\n",
        "2)**Memory Usage** : Storing string data in NumPy arrays can be less memory-efficient compared to storing numerical data. This is because of the fixed-length requirement, which may lead to allocating more memory than needed for shorter strings.\n",
        "\n",
        "3) **Operations** : Some NumPy operations, like element-wise operations, may not work as expected with string data. NumPy is optimized for numerical computations, so string operations can be more limited in comparison.\n",
        "\n",
        "4) **Performance** : String operations in NumPy arrays are generally slower than operations on numerical arrays. If you're performing a lot of string manipulation, using a dedicated string manipulation library (like Python's built-in str methods) might be more efficient.\n",
        "\n",
        "5) **Unicode** : NumPy arrays can store Unicode strings using the `numpy.unicode_` data type or '`U`' in the `dtype` parameter. However, handling Unicode strings might introduce additional complexity, and you need to be aware of character encodings and potential compatibility issues.\n",
        "\n",
        "6) **Indexing and Slicing** : Indexing and slicing operations on string arrays might behave differently compared to numerical arrays due to the fixed-length nature of strings."
      ],
      "metadata": {
        "id": "yRkxsl5KqvWO"
      }
    }
  ],
  "metadata": {
    "colab": {
      "provenance": [],
      "toc_visible": true
    },
    "kernelspec": {
      "display_name": "Python 3",
      "name": "python3"
    },
    "language_info": {
      "name": "python"
    }
  },
  "nbformat": 4,
  "nbformat_minor": 0
}