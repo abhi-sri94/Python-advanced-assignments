{
  "nbformat": 4,
  "nbformat_minor": 0,
  "metadata": {
    "colab": {
      "provenance": [],
      "toc_visible": true
    },
    "kernelspec": {
      "name": "python3",
      "display_name": "Python 3"
    },
    "language_info": {
      "name": "python"
    }
  },
  "cells": [
    {
      "cell_type": "markdown",
      "source": [
        "#Question 1\n",
        "\n",
        "Compare and contrast the float and Decimal classes' benefits and drawbacks.\n",
        "\n",
        "...............\n",
        "\n",
        "Answer 1 -\n",
        "\n",
        "Both the `float` and `Decimal` classes in Python are used to represent decimal numbers, but they have different characteristics, benefits, and drawbacks.\n",
        "\n",
        "Here's a comparison between the two:\n",
        "\n",
        "1) ***`float Class`** :\n",
        "\n",
        "`Benefits` :\n",
        "\n",
        "- float is a built-in data type and is therefore readily available without the need for additional imports.\n",
        "\n",
        "- float uses the IEEE 754 double-precision floating-point representation, which allows for a wide range of values and arithmetic operations.\n",
        "\n",
        "- Calculations involving float numbers are generally faster due to hardware support for floating-point arithmetic.\n",
        "\n",
        "- Suitable for most general-purpose numerical computations where high precision is not critical.\n",
        "\n",
        "`Drawbacks` :\n",
        "\n",
        "- `Limited precision` : The IEEE 754 standard provides about 15 decimal digits of precision, which may result in rounding errors for certain calculations.\n",
        "\n",
        "- Not suitable for financial or monetary calculations where exact decimal representation is required.\n",
        "\n",
        "- Arithmetic operations may lead to unexpected results due to rounding errors and representation limitations.\n",
        "\n",
        "- Comparisons between float numbers can be imprecise due to rounding errors.\n",
        "\n",
        "2) **`Decimal Class`** :\n",
        "\n",
        "`Benefits` :\n",
        "\n",
        "- The Decimal class provides arbitrary-precision decimal arithmetic, which means it can represent and perform calculations with a higher level of precision compared to float.\n",
        "\n",
        "- Ideal for financial, monetary, and critical calculations where exact decimal representation and precision are essential.\n",
        "\n",
        "- Decimal arithmetic avoids rounding errors and provides accurate results for calculations involving decimal fractions.\n",
        "\n",
        "- The Decimal class allows you to control the precision and rounding methods for calculations.\n",
        "\n",
        "`Drawbacks` :\n",
        "\n",
        "- Slightly slower performance compared to float arithmetic, especially for large-scale numerical computations.\n",
        "\n",
        "- The Decimal class is part of the decimal module, which needs to be imported before use."
      ],
      "metadata": {
        "id": "MLqOwYwGK0ss"
      }
    },
    {
      "cell_type": "code",
      "source": [
        "from decimal import Decimal\n",
        "\n",
        "# Using float\n",
        "result_float = 0.1 + 0.1 + 0.1 - 0.3\n",
        "print(\"Float result:\", result_float)\n",
        "\n",
        "# Using Decimal\n",
        "result_decimal = Decimal(\"0.1\") + Decimal(\"0.1\") + Decimal(\"0.1\") - Decimal(\"0.3\")\n",
        "print(\"Decimal result:\", result_decimal)"
      ],
      "metadata": {
        "colab": {
          "base_uri": "https://localhost:8080/"
        },
        "id": "M0nMpZEiEZld",
        "outputId": "2c16cd20-cda1-44a5-eaf3-0cc70498bf0a"
      },
      "execution_count": 2,
      "outputs": [
        {
          "output_type": "stream",
          "name": "stdout",
          "text": [
            "Float result: 5.551115123125783e-17\n",
            "Decimal result: 0.0\n"
          ]
        }
      ]
    },
    {
      "cell_type": "markdown",
      "source": [
        "#Question 2\n",
        "\n",
        "Decimal('1.200') and Decimal('1.2') are two objects to consider. In what sense are these the same\n",
        "object? Are these just two ways of representing the exact same value, or do they correspond to\n",
        "different internal states?\n",
        "\n",
        "...............\n",
        "\n",
        "Answer 2 -\n",
        "\n",
        "In Python's `decimal` module, the Decimal(`'1.200'`) and Decimal(`'1.2'`) are two distinct objects that represent the same mathematical value. They are not the same object in terms of identity (memory address), but they correspond to the same exact value with the same internal state.\n",
        "\n",
        "The `decimal` module is designed to handle decimal arithmetic with arbitrary precision, and it preserves the significant digits and trailing zeros of the input string when creating a Decimal object. However, trailing zeros are considered significant in the `decimal` context, so the two representations '`1.200`' and '`1.2`' are treated as different strings and result in different Decimal objects.\n",
        "\n",
        "Here's an example to illustrate this:"
      ],
      "metadata": {
        "id": "FM2Dokd6EeJP"
      }
    },
    {
      "cell_type": "code",
      "source": [
        "from decimal import Decimal\n",
        "\n",
        "# Create Decimal objects from different representations\n",
        "decimal_1 = Decimal('1.200')\n",
        "decimal_2 = Decimal('1.2')\n",
        "\n",
        "# Check if they are the same object (identity)\n",
        "print(decimal_1 is decimal_2)\n",
        "\n",
        "# Check if they are equal (same mathematical value)\n",
        "print(decimal_1 == decimal_2)\n",
        "\n",
        "# Display the internal state\n",
        "print(decimal_1.as_tuple())\n",
        "print(decimal_2.as_tuple())"
      ],
      "metadata": {
        "colab": {
          "base_uri": "https://localhost:8080/"
        },
        "id": "kOR_lJngFFmS",
        "outputId": "a86023be-96fb-4218-b36b-7b599c75730a"
      },
      "execution_count": 5,
      "outputs": [
        {
          "output_type": "stream",
          "name": "stdout",
          "text": [
            "False\n",
            "True\n",
            "DecimalTuple(sign=0, digits=(1, 2, 0, 0), exponent=-3)\n",
            "DecimalTuple(sign=0, digits=(1, 2), exponent=-1)\n"
          ]
        }
      ]
    },
    {
      "cell_type": "markdown",
      "source": [
        "#Question 3\n",
        "\n",
        "What happens if the equality of Decimal('1.200') and Decimal('1.2') is checked?\n",
        "\n",
        "................\n",
        "\n",
        "Answer 3 -\n",
        "\n",
        "When you check the equality of Decimal(`'1.200'`) and Decimal(`'1.2'`), the result will be True. This is because the Decimal class in Python's decimal module is designed to consider the mathematical value of the numbers rather than their textual representation.\n",
        "\n",
        "In the Decimal class, trailing zeros are considered significant, but they do not affect the comparison of two Decimal objects. The comparison takes into account the actual numerical values, not the formatting of the strings used to create them."
      ],
      "metadata": {
        "id": "Dx6U5ObCFk-P"
      }
    },
    {
      "cell_type": "markdown",
      "source": [
        "#Question 4\n",
        "\n",
        "Why is it preferable to start a Decimal object with a string rather than a floating-point value?\n",
        "\n",
        "...............\n",
        "\n",
        "Answer 4 -\n",
        "\n",
        "When creating a `Decimal object` in Python's decimal module, it is preferable to start with a string rather than a floating-point value because starting with a string ensures that the exact decimal representation is preserved and avoids potential rounding errors associated with floating-point representations. Here are the reasons why using a string is preferable:\n",
        "\n",
        "1) **Exact Representation** : Decimal arithmetic aims to provide exact decimal representation and arbitrary precision. Starting with a string allows you to provide the exact decimal representation of the number, ensuring that there is no loss of precision due to floating-point rounding errors.\n",
        "\n",
        "2) **Avoiding Rounding Errors** : Floating-point numbers in Python (and most programming languages) are subject to rounding errors due to the inherent limitations of binary representation. These rounding errors can accumulate in calculations, leading to unexpected results. By starting with a string, you bypass the floating-point representation and associated inaccuracies.\n",
        "\n",
        "3) **Avoiding Implicit Conversions** : When you start with a floating-point value and convert it to a Decimal, there may be an intermediate step where the floating-point value is converted to its closest binary representation before being converted to a Decimal. This can introduce additional rounding errors.\n",
        "\n",
        "4) **Consistency** : Starting with a string provides consistency when working with decimal numbers, especially when dealing with user input, financial calculations, or any situation where precision is crucial. Using strings ensures that the original input is preserved without any unintended conversions."
      ],
      "metadata": {
        "id": "FZked4XqGHfg"
      }
    },
    {
      "cell_type": "markdown",
      "source": [
        "#Question 5\n",
        "\n",
        "In an arithmetic phrase, how simple is it to combine Decimal objects with integers?\n",
        "\n",
        "...............\n",
        "\n",
        "Answer 5 -\n",
        "\n",
        "Combining Decimal objects with integers in arithmetic operations is straightforward and simple. Python's decimal module handles arithmetic operations between Decimal objects and integers seamlessly, maintaining precision and avoiding rounding errors. You can perform addition, subtraction, multiplication, division, and other arithmetic operations between Decimal objects and integers without any special considerations.\n",
        "\n",
        "Here's a simple example demonstrating arithmetic operations between Decimal objects and integers:"
      ],
      "metadata": {
        "id": "ewimOKh-Gl0m"
      }
    },
    {
      "cell_type": "code",
      "source": [
        "from decimal import Decimal\n",
        "\n",
        "# Create Decimal object and integer\n",
        "decimal_number = Decimal('10.5')\n",
        "integer_number = 5\n",
        "\n",
        "# Addition\n",
        "result_addition = decimal_number + integer_number\n",
        "print(\"Addition:\", result_addition)\n",
        "\n",
        "# Subtraction\n",
        "result_subtraction = decimal_number - integer_number\n",
        "print(\"Subtraction:\", result_subtraction)\n",
        "\n",
        "# Multiplication\n",
        "result_multiplication = decimal_number * integer_number\n",
        "print(\"Multiplication:\", result_multiplication)\n",
        "\n",
        "# Division\n",
        "result_division = decimal_number / integer_number\n",
        "print(\"Division:\", result_division)"
      ],
      "metadata": {
        "colab": {
          "base_uri": "https://localhost:8080/"
        },
        "id": "uTbxYJfuFV2w",
        "outputId": "888991e9-38fb-4a9c-993e-15f59658d1e7"
      },
      "execution_count": 7,
      "outputs": [
        {
          "output_type": "stream",
          "name": "stdout",
          "text": [
            "Addition: 15.5\n",
            "Subtraction: 5.5\n",
            "Multiplication: 52.5\n",
            "Division: 2.1\n"
          ]
        }
      ]
    },
    {
      "cell_type": "markdown",
      "source": [
        "#Question 6\n",
        "\n",
        "Can Decimal objects and floating-point values be combined easily?\n",
        "\n",
        "..............\n",
        "\n",
        "Answer 6 -\n",
        "\n",
        "Combining `Decimal` objects and `floating-point` values in arithmetic operations is `possible` , but it's important to be aware of potential precision and conversion issues that can arise due to the inherent differences between decimal and binary representations.\n",
        "\n",
        "The decimal module in Python provides automatic type coercion when performing arithmetic operations between Decimal objects and floating-point values. However, you need to consider the limitations of floating-point representation and the risk of precision loss when working with floating-point values.\n",
        "\n",
        "Here's an example illustrating the combination of Decimal objects with floating-point values:"
      ],
      "metadata": {
        "id": "Bk1xsTqeHIsP"
      }
    },
    {
      "cell_type": "code",
      "source": [
        "from decimal import Decimal\n",
        "\n",
        "# Create a Decimal object and a floating-point value\n",
        "decimal_number = Decimal('10.5')\n",
        "floating_point_number = 5.2\n",
        "\n",
        "# Addition\n",
        "result_addition = decimal_number + floating_point_number\n",
        "print(\"Addition:\", result_addition)\n",
        "\n",
        "# Subtraction\n",
        "result_subtraction = decimal_number - floating_point_number\n",
        "print(\"Subtraction:\", result_subtraction)\n",
        "\n",
        "# Multiplication\n",
        "result_multiplication = decimal_number * floating_point_number\n",
        "print(\"Multiplication:\", result_multiplication)\n",
        "\n",
        "# Division\n",
        "result_division = decimal_number / floating_point_number\n",
        "print(\"Division:\", result_division)"
      ],
      "metadata": {
        "colab": {
          "base_uri": "https://localhost:8080/",
          "height": 245
        },
        "id": "eHlNeeKCG5j0",
        "outputId": "befb7516-7eca-4c3c-acbb-6e0dbb7c38da"
      },
      "execution_count": 10,
      "outputs": [
        {
          "output_type": "error",
          "ename": "TypeError",
          "evalue": "ignored",
          "traceback": [
            "\u001b[0;31m---------------------------------------------------------------------------\u001b[0m",
            "\u001b[0;31mTypeError\u001b[0m                                 Traceback (most recent call last)",
            "\u001b[0;32m<ipython-input-10-bb51a986e8e4>\u001b[0m in \u001b[0;36m<cell line: 8>\u001b[0;34m()\u001b[0m\n\u001b[1;32m      6\u001b[0m \u001b[0;34m\u001b[0m\u001b[0m\n\u001b[1;32m      7\u001b[0m \u001b[0;31m# Addition\u001b[0m\u001b[0;34m\u001b[0m\u001b[0;34m\u001b[0m\u001b[0m\n\u001b[0;32m----> 8\u001b[0;31m \u001b[0mresult_addition\u001b[0m \u001b[0;34m=\u001b[0m \u001b[0mdecimal_number\u001b[0m \u001b[0;34m+\u001b[0m \u001b[0mfloating_point_number\u001b[0m\u001b[0;34m\u001b[0m\u001b[0;34m\u001b[0m\u001b[0m\n\u001b[0m\u001b[1;32m      9\u001b[0m \u001b[0mprint\u001b[0m\u001b[0;34m(\u001b[0m\u001b[0;34m\"Addition:\"\u001b[0m\u001b[0;34m,\u001b[0m \u001b[0mresult_addition\u001b[0m\u001b[0;34m)\u001b[0m\u001b[0;34m\u001b[0m\u001b[0;34m\u001b[0m\u001b[0m\n\u001b[1;32m     10\u001b[0m \u001b[0;34m\u001b[0m\u001b[0m\n",
            "\u001b[0;31mTypeError\u001b[0m: unsupported operand type(s) for +: 'decimal.Decimal' and 'float'"
          ]
        }
      ]
    },
    {
      "cell_type": "markdown",
      "source": [
        "As we can see, it will give a error. Therefore, to properly combine them we need to change the data type."
      ],
      "metadata": {
        "id": "OF7x5m9MH5g1"
      }
    },
    {
      "cell_type": "code",
      "source": [
        "from decimal import Decimal\n",
        "\n",
        "# Create a Decimal object\n",
        "decimal_number = Decimal('10.5')\n",
        "\n",
        "# Create a floating-point value\n",
        "floating_point_number = 5.2\n",
        "\n",
        "# Convert the float to a Decimal before performing arithmetic\n",
        "result = decimal_number + Decimal(str(floating_point_number))\n",
        "\n",
        "print(\"Result:\", result)"
      ],
      "metadata": {
        "colab": {
          "base_uri": "https://localhost:8080/"
        },
        "id": "H67x46TEHasC",
        "outputId": "07b9b600-6e6d-44dd-e99f-188c26a1528f"
      },
      "execution_count": 11,
      "outputs": [
        {
          "output_type": "stream",
          "name": "stdout",
          "text": [
            "Result: 15.7\n"
          ]
        }
      ]
    },
    {
      "cell_type": "markdown",
      "source": [
        "In this example, the `str(floating_point_number)` `converts` the `floating`-point value to a `string` , and then it is converted to a Decimal using `Decimal(str(floating_point_number))`. This allows you to combine a Decimal object with a floating-point value in an arithmetic operation."
      ],
      "metadata": {
        "id": "wkbbfZ4WIDs1"
      }
    },
    {
      "cell_type": "markdown",
      "source": [
        "#Question 7\n",
        "\n",
        "Using the Fraction class but not the Decimal class, give an example of a quantity that can be\n",
        "expressed with absolute precision.\n",
        "\n",
        "..............\n",
        "\n",
        "Answer 7 -\n",
        "\n",
        "The Fraction class in Python's fractions module allows you to represent rational numbers with absolute precision. A rational number is a quantity that can be expressed as a fraction of two integers. Here's an example of a quantity that can be expressed with absolute precision using the Fraction class:"
      ],
      "metadata": {
        "id": "hxvCPFqLIRDT"
      }
    },
    {
      "cell_type": "code",
      "source": [
        "from fractions import Fraction\n",
        "\n",
        "# Represent the quantity 3/7 using the Fraction class\n",
        "fraction_quantity = Fraction(3, 7)\n",
        "\n",
        "print(\"Fraction:\", fraction_quantity)"
      ],
      "metadata": {
        "colab": {
          "base_uri": "https://localhost:8080/"
        },
        "id": "NLpQQ0FiHpls",
        "outputId": "952dd2d2-9123-4f84-f899-05b57332a4fd"
      },
      "execution_count": 12,
      "outputs": [
        {
          "output_type": "stream",
          "name": "stdout",
          "text": [
            "Fraction: 3/7\n"
          ]
        }
      ]
    },
    {
      "cell_type": "markdown",
      "source": [
        "In this example, the Fraction class is used to represent the quantity 3/7. The Fraction class ensures that the numerator and denominator are stored as exact integers, allowing for absolute precision in representing the fraction."
      ],
      "metadata": {
        "id": "N__vJ6WFIgr3"
      }
    },
    {
      "cell_type": "markdown",
      "source": [
        "#Question 8\n",
        "\n",
        "Describe a quantity that can be accurately expressed by the Decimal or Fraction classes but not by\n",
        "a floating-point value.\n",
        "\n",
        "..............\n",
        "\n",
        "Answer 8 -\n",
        "\n",
        "A quantity that can be accurately expressed by the Decimal or Fraction classes but not by a floating-point value is a repeating decimal. Repeating decimals are decimal numbers in which one or more digits repeat infinitely after a certain point.\n",
        "\n",
        "For example, consider the repeating decimal 0.333... where the digit 3 repeats infinitely. This quantity can be accurately represented using the Decimal or Fraction classes, but it cannot be precisely represented using a floating-point value due to the limitations of binary representation.\n",
        "\n",
        "Here's how you can represent the repeating decimal 0.333... using both the Decimal and Fraction classes:\n",
        "\n",
        "Using `Decimal` :"
      ],
      "metadata": {
        "id": "I12UefkFIhte"
      }
    },
    {
      "cell_type": "code",
      "source": [
        "from decimal import Decimal\n",
        "\n",
        "repeating_decimal_decimal = Decimal('0.333')\n",
        "print(\"Decimal:\", repeating_decimal_decimal)"
      ],
      "metadata": {
        "colab": {
          "base_uri": "https://localhost:8080/"
        },
        "id": "_Z2Ke69SIdWZ",
        "outputId": "2d37b67e-8034-4339-ca7a-0a3d4cbeef4f"
      },
      "execution_count": 13,
      "outputs": [
        {
          "output_type": "stream",
          "name": "stdout",
          "text": [
            "Decimal: 0.333\n"
          ]
        }
      ]
    },
    {
      "cell_type": "markdown",
      "source": [
        "Using `Fraction` :"
      ],
      "metadata": {
        "id": "zmErJbIRJ9mM"
      }
    },
    {
      "cell_type": "code",
      "source": [
        "from fractions import Fraction\n",
        "\n",
        "repeating_decimal_fraction = Fraction(1, 3)\n",
        "print(\"Fraction:\", repeating_decimal_fraction)"
      ],
      "metadata": {
        "colab": {
          "base_uri": "https://localhost:8080/"
        },
        "id": "uYfpUjwrJ7fj",
        "outputId": "33075d58-7d05-451f-fecd-7cda28ccf707"
      },
      "execution_count": 14,
      "outputs": [
        {
          "output_type": "stream",
          "name": "stdout",
          "text": [
            "Fraction: 1/3\n"
          ]
        }
      ]
    },
    {
      "cell_type": "markdown",
      "source": [
        "In both cases, the `Decimal` and `Fraction` classes allow you to accurately represent the repeating decimal 0.333... without loss of precision. However, representing the same quantity using a `floating-point` value could lead to rounding errors and imprecise results"
      ],
      "metadata": {
        "id": "ddeiTTIpKCUj"
      }
    },
    {
      "cell_type": "code",
      "source": [
        "repeating_decimal_float = 0.333\n",
        "print(\"Floating-point:\", repeating_decimal_float)"
      ],
      "metadata": {
        "colab": {
          "base_uri": "https://localhost:8080/"
        },
        "id": "4ynkOouUKBnR",
        "outputId": "69e5b5f5-859f-421e-858d-c91a16230d6d"
      },
      "execution_count": 17,
      "outputs": [
        {
          "output_type": "stream",
          "name": "stdout",
          "text": [
            "Floating-point: 0.333\n"
          ]
        }
      ]
    },
    {
      "cell_type": "markdown",
      "source": [
        "#Question 9\n",
        "\n",
        "Q9.Consider the following two fraction objects: Fraction(1, 2) and Fraction(1, 2). (5, 10). Is the internal\n",
        "state of these two objects the same? Why do you think that is?\n",
        "\n",
        "................\n",
        "\n",
        "Answer 9 -\n",
        "\n",
        "The internal state of the two `Fraction` objects `Fraction(1, 2)` and `Fraction(5, 10)` is indeed the same. This is because the Fraction class in Python's fractions module automatically reduces fractions to their simplest form (also known as normalized form) when they are created.\n",
        "\n",
        "In both cases, the fraction `5/10` is equivalent to `1/2` when reduced to its simplest form. The internal state of the Fraction objects stores the numerator and denominator in their reduced forms, so both `Fraction(1, 2)` and `Fraction(5, 10)` have the same internal state representing the fraction `1/2` .\n",
        "\n",
        "Here's a demonstration of this:"
      ],
      "metadata": {
        "id": "fwScYBXVK8hS"
      }
    },
    {
      "cell_type": "code",
      "source": [
        "from fractions import Fraction\n",
        "\n",
        "fraction_1 = Fraction(1, 2)\n",
        "fraction_2 = Fraction(5, 10)\n",
        "\n",
        "print(fraction_1)\n",
        "print(fraction_2)\n",
        "\n",
        "print(fraction_1 == fraction_2)\n",
        "print(fraction_1 is fraction_2)"
      ],
      "metadata": {
        "colab": {
          "base_uri": "https://localhost:8080/"
        },
        "id": "HBY6aecnKUCa",
        "outputId": "d3be754d-aee1-4390-82a1-44fa10a4f2a8"
      },
      "execution_count": 18,
      "outputs": [
        {
          "output_type": "stream",
          "name": "stdout",
          "text": [
            "1/2\n",
            "1/2\n",
            "True\n",
            "False\n"
          ]
        }
      ]
    },
    {
      "cell_type": "markdown",
      "source": [
        "#Question 10\n",
        "\n",
        "How do the Fraction class and the integer type (int) relate to each other? Containment or\n",
        "inheritance?\n",
        "\n",
        "................\n",
        "\n",
        "Answer 10 -\n",
        "\n",
        "The `Fraction` class and the integer type (`int`) in Python are related through containment, not inheritance. The Fraction class is a separate class defined in the fractions module, and it is used to represent rational numbers as fractions of two integers (numerator and denominator).\n",
        "\n",
        "The relationship between the Fraction class and the int type is that Fraction objects can be created from integer values. In other words, integers can be used as input to create Fraction objects. However, Fraction and int do not share an inheritance hierarchy; they are distinct types in Python.\n",
        "\n",
        "Here's an example that demonstrates the relationship between the Fraction class and the int type:"
      ],
      "metadata": {
        "id": "XxmsGfd6LY0-"
      }
    },
    {
      "cell_type": "code",
      "source": [
        "from fractions import Fraction\n",
        "\n",
        "# Create a Fraction object from an integer\n",
        "fraction_from_int = Fraction(3, 1)\n",
        "\n",
        "print(fraction_from_int)\n",
        "\n",
        "# Create a Fraction object from an integer using the int type\n",
        "integer_value = 5\n",
        "fraction_from_int_type = Fraction(integer_value, 2)\n",
        "\n",
        "print(fraction_from_int_type)"
      ],
      "metadata": {
        "colab": {
          "base_uri": "https://localhost:8080/"
        },
        "id": "09GCtPzmLVrV",
        "outputId": "f61d9091-06af-41ac-ce8f-420eefb0b509"
      },
      "execution_count": 22,
      "outputs": [
        {
          "output_type": "stream",
          "name": "stdout",
          "text": [
            "3\n",
            "5/2\n"
          ]
        }
      ]
    }
  ]
}